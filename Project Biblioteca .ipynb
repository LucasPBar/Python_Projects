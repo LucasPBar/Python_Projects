{
 "cells": [
  {
   "cell_type": "markdown",
   "metadata": {},
   "source": [
    "####  Você foi contratado para desenvolver um sistema simples de gerenciamento de biblioteca.\n",
    "#### O sistema deve permitir o cadastro de livros, a realização de empréstimos e a devolução de livros. Para isso, você deve criar as seguintes classes:\n",
    "\n",
    "---\n",
    "## Classe Livro:\n",
    "### Atributos:\n",
    "- titulo (string): título do livro.\n",
    "- autor (string): autor do livro.\n",
    "- ano_publicacao (int): ano de publicação do livro.\n",
    "- disponivel (bool): indica se o livro está disponível para empréstimo (True) ou não (False).\n",
    "\n",
    "### Métodos:\n",
    "- emprestar(): marca o livro como indisponível.\n",
    "- devolver(): marca o livro como disponível.\n",
    "- __str___(): retorna uma string formatada com as informações do livro (ex: \"Título: Python 101, Autor: John Doe, Ano: 2020, Disponível: Sim\").\n",
    "\n",
    "---\n",
    "## Classe Biblioteca:\n",
    "### Atributos:\n",
    "- nome (string): nome da biblioteca.\n",
    "- livros (lista): lista de objetos da classe Livro.\n",
    "\n",
    "### Métodos:\n",
    "- adicionar_livro(livro): adiciona um livro à biblioteca.\n",
    "- listar_livros(): exibe todos os livros da biblioteca.\n",
    "- emprestar_livro(titulo): busca um livro pelo título e o empresta, se estiver disponível.\n",
    "- devolver_livro(titulo): busca um livro pelo título e o devolve, se estiver emprestado.\n",
    "\n",
    "---\n",
    "Tarefa:\n",
    "Implemente as classes Livro e Biblioteca conforme descrito acima.\n",
    "\n",
    "Crie uma instância da classe Biblioteca e adicione pelo menos 3 livros.\n",
    "\n",
    "Realize operações de empréstimo e devolução de livros.\n",
    "\n",
    "Liste os livros após cada operação para verificar se o estado dos livros foi atualizado corretamente."
   ]
  },
  {
   "cell_type": "code",
   "execution_count": 13,
   "metadata": {},
   "outputs": [],
   "source": [
    "\"\"\"## Classe Livro:\n",
    "### Atributos:\n",
    "- titulo (string): título do livro.\n",
    "- autor (string): autor do livro.\n",
    "- ano_publicacao (int): ano de publicação do livro.\n",
    "- disponivel (bool): indica se o livro está disponível para empréstimo (True) ou não (False).\n",
    "\n",
    "### Métodos:\n",
    "- emprestar(): marca o livro como indisponível.\n",
    "- devolver(): marca o livro como disponível.\n",
    "- __str___(): retorna uma string formatada com as informações do livro (ex: \"Título: Python 101, Autor: John Doe, Ano: 2020, Disponível: Sim\").\"\"\"\n",
    "\n",
    "\n",
    "class Livro():\n",
    "    def __init__(self, titulo, autor, ano_publicacao, disponivel = True):\n",
    "        self.titulo = titulo\n",
    "        self. autor = autor\n",
    "        self.ano_publicacao = ano_publicacao\n",
    "        self.disponivel = disponivel\n",
    "        \n",
    "    def emprestar(self):\n",
    "        self.disponivel =  False\n",
    "    \n",
    "    def devolver(self):\n",
    "        self.disponivel = True\n",
    "        \n",
    "    def __str__(self):\n",
    "        return f\"Titulo: {self.titulo}, Autor: {self.autor}, Ano Publicação {self.ano_publicacao}, disponivel: {self.disponivel}\""
   ]
  },
  {
   "cell_type": "code",
   "execution_count": 14,
   "metadata": {},
   "outputs": [],
   "source": [
    "\"\"\"## Classe Biblioteca:\n",
    "### Atributos:\n",
    "- nome (string): nome da biblioteca.\n",
    "- livros (lista): lista de objetos da classe Livro.\n",
    "\n",
    "### Métodos:\n",
    "- adicionar_livro(livro): adiciona um livro à biblioteca.\n",
    "- listar_livros(): exibe todos os livros da biblioteca.\n",
    "- emprestar_livro(titulo): busca um livro pelo título e o empresta, se estiver disponível.\n",
    "- devolver_livro(titulo): busca um livro pelo título e o devolve, se estiver emprestado.\"\"\"\n",
    "\n",
    "class Biblioteca():\n",
    "    def __init__(self, nome):\n",
    "        self.nome = nome\n",
    "        self.livros = []\n",
    "    \n",
    "    def adicionar_livro(self,Livro):\n",
    "        self.livros.append(Livro)\n",
    "    \n",
    "    def listar_livros(self):\n",
    "        for x in self.livros:\n",
    "            print(x)\n",
    "    \n",
    "    def emprestar_livro(self,titulo):\n",
    "        for x in self.livros:\n",
    "            if x.titulo == self.livros and self.disponivel == True:\n",
    "                return x.emprestar()\n",
    "            else:\n",
    "                return \"O livro está fora da coleção ou indisponível\"\n",
    "            \n",
    "    def devolver_livro(self,titulo):\n",
    "        for x in self.livros:\n",
    "            if x.titulo == self.livros and self.disponivel == False:\n",
    "                return x.devolver()\n",
    "            else:\n",
    "                return \"Livro fora da coleção\"\n",
    "                \n",
    "            \n",
    "    "
   ]
  },
  {
   "cell_type": "markdown",
   "metadata": {},
   "source": [
    "### Teste de operações"
   ]
  },
  {
   "cell_type": "markdown",
   "metadata": {},
   "source": [
    "- Cadastro de livros"
   ]
  },
  {
   "cell_type": "code",
   "execution_count": 15,
   "metadata": {},
   "outputs": [],
   "source": [
    "book1 = Livro('Sandman','Neil Gaman',1988)\n",
    "book2 = Livro('Arte da Guerra','Sun Tzu',500)\n",
    "book3 = Livro('O Iluminado','Stephen King',1977)\n",
    "book4 = Livro('O homem mais rico da babilonia','George Samuel Clason',1926)\n",
    "book5 = Livro('O rei dos dividendos', 'Luiz Barsi Filho', 2022)"
   ]
  },
  {
   "cell_type": "markdown",
   "metadata": {},
   "source": [
    "- Teste de Armazenamento de informações"
   ]
  },
  {
   "cell_type": "code",
   "execution_count": 16,
   "metadata": {},
   "outputs": [],
   "source": [
    "livrariaA = Biblioteca('Fernando')\n",
    "livrariaA.adicionar_livro(book1)\n",
    "livrariaA.adicionar_livro(book2)\n",
    "livrariaA.adicionar_livro(book3)\n",
    "\n",
    "livrariaB = Biblioteca('Lucas')\n",
    "livrariaB.adicionar_livro(book4)\n",
    "livrariaB.adicionar_livro(book5)"
   ]
  },
  {
   "cell_type": "markdown",
   "metadata": {},
   "source": [
    "- Listando livros da livraria A"
   ]
  },
  {
   "cell_type": "code",
   "execution_count": 17,
   "metadata": {},
   "outputs": [
    {
     "name": "stdout",
     "output_type": "stream",
     "text": [
      "Titulo: O homem mais rico da babilonia, Autor: George Samuel Clason, Ano Publicação 1926, disponivel: True\n",
      "Titulo: O rei dos dividendos, Autor: Luiz Barsi Filho, Ano Publicação 2022, disponivel: True\n"
     ]
    }
   ],
   "source": [
    "livrariaB.listar_livros()"
   ]
  },
  {
   "cell_type": "markdown",
   "metadata": {},
   "source": [
    "- Listando livros da livraria B"
   ]
  },
  {
   "cell_type": "code",
   "execution_count": 18,
   "metadata": {},
   "outputs": [
    {
     "name": "stdout",
     "output_type": "stream",
     "text": [
      "Titulo: Sandman, Autor: Neil Gaman, Ano Publicação 1988, disponivel: True\n",
      "Titulo: Arte da Guerra, Autor: Sun Tzu, Ano Publicação 500, disponivel: True\n",
      "Titulo: O Iluminado, Autor: Stephen King, Ano Publicação 1977, disponivel: True\n"
     ]
    }
   ],
   "source": [
    "livrariaA.listar_livros()"
   ]
  },
  {
   "cell_type": "code",
   "execution_count": 19,
   "metadata": {},
   "outputs": [
    {
     "data": {
      "text/plain": [
       "'O livro está fora da coleção ou indisponível'"
      ]
     },
     "execution_count": 19,
     "metadata": {},
     "output_type": "execute_result"
    }
   ],
   "source": [
    "#Emprestar Livro\n",
    "\n",
    "livrariaA.emprestar_livro('Sandman')"
   ]
  },
  {
   "cell_type": "code",
   "execution_count": 20,
   "metadata": {},
   "outputs": [
    {
     "name": "stdout",
     "output_type": "stream",
     "text": [
      "Titulo: Sandman, Autor: Neil Gaman, Ano Publicação 1988, disponivel: True\n",
      "Titulo: Arte da Guerra, Autor: Sun Tzu, Ano Publicação 500, disponivel: True\n",
      "Titulo: O Iluminado, Autor: Stephen King, Ano Publicação 1977, disponivel: True\n"
     ]
    }
   ],
   "source": [
    "#Verificar se o livro foi emprestado\n",
    "\n",
    "livrariaA.listar_livros()"
   ]
  },
  {
   "cell_type": "code",
   "execution_count": 21,
   "metadata": {},
   "outputs": [
    {
     "data": {
      "text/plain": [
       "'Livro fora da coleção'"
      ]
     },
     "execution_count": 21,
     "metadata": {},
     "output_type": "execute_result"
    }
   ],
   "source": [
    "# Devolver Livro\n",
    "\n",
    "livrariaA.devolver_livro('Sandman')"
   ]
  },
  {
   "cell_type": "code",
   "execution_count": 22,
   "metadata": {},
   "outputs": [
    {
     "name": "stdout",
     "output_type": "stream",
     "text": [
      "Titulo: Sandman, Autor: Neil Gaman, Ano Publicação 1988, disponivel: True\n",
      "Titulo: Arte da Guerra, Autor: Sun Tzu, Ano Publicação 500, disponivel: True\n",
      "Titulo: O Iluminado, Autor: Stephen King, Ano Publicação 1977, disponivel: True\n"
     ]
    }
   ],
   "source": [
    "#Verificar se o livro foi devolvido\n",
    "\n",
    "livrariaA.listar_livros()"
   ]
  }
 ],
 "metadata": {
  "kernelspec": {
   "display_name": "base",
   "language": "python",
   "name": "python3"
  },
  "language_info": {
   "codemirror_mode": {
    "name": "ipython",
    "version": 3
   },
   "file_extension": ".py",
   "mimetype": "text/x-python",
   "name": "python",
   "nbconvert_exporter": "python",
   "pygments_lexer": "ipython3",
   "version": "3.12.7"
  }
 },
 "nbformat": 4,
 "nbformat_minor": 2
}
