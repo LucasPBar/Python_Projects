{
 "cells": [
  {
   "cell_type": "markdown",
   "metadata": {},
   "source": [
    "Trabalho: Simulação e Análise de Crédito para Aprovação de Empréstimos\n",
    "\n",
    "Contexto:\n",
    "\n",
    "Imagine que você faz parte da equipe de ciência de dados de uma instituição financeira que analisa pedidos de empréstimos. Para cada cliente, você coleta informações como idade, renda anual, histórico de crédito, histórico de inadimplência, valor do empréstimo solicitado e se o cliente é ou não aprovado para o crédito.\n",
    "\n",
    "Seu trabalho será gerar um conjunto de dados aleatórios para simular os pedidos de empréstimo e então, através de uma análise estatística e um modelo preditivo, criar uma solução que ajude a prever se um cliente pode ter seu empréstimo aprovado ou não.\n",
    "\n",
    "\n",
    "\n",
    "---\n",
    "\n",
    "Objetivo do Trabalho:\n",
    "\n",
    "1. Gerar um conjunto de dados aleatórios que represente o cenário de pedidos de empréstimos.\n",
    "\n",
    "\n",
    "2. Realizar uma análise estatística básica sobre esses dados para entender as variáveis e suas relações.\n",
    "\n",
    "\n",
    "3. Implementar um modelo de classificação para prever a aprovação do empréstimo com base nas variáveis geradas.\n",
    "\n",
    "\n",
    "4. Focar em uma implementação detalhada e desafiante na parte de programação, criando funções reutilizáveis e estruturadas.\n",
    "\n",
    "\n",
    "\n",
    "Variáveis do Dataset Simulado:\n",
    "\n",
    "Você deve gerar um conjunto de dados aleatórios com as seguintes variáveis para cada cliente:\n",
    "\n",
    "1. Idade: entre 18 e 70 anos.\n",
    "\n",
    "\n",
    "2. Renda Anual: valores entre 20.000 e 200.000.\n",
    "\n",
    "\n",
    "3. Histórico de Crédito: uma pontuação entre 300 e 850 (como o score de crédito).\n",
    "\n",
    "\n",
    "4. Histórico de Inadimplência: uma contagem de quantas vezes o cliente deixou de pagar empréstimos no passado (entre 0 e 10).\n",
    "\n",
    "\n",
    "5. Valor do Empréstimo Solicitado: valores entre 5.000 e 50.000.\n",
    "\n",
    "\n",
    "6. Aprovação do Empréstimo: variável binária que indica se o cliente foi aprovado ou não (0 para não aprovado, 1 para aprovado).\n",
    "\n",
    "\n",
    "\n",
    "Para simplificar, a aprovação do empréstimo pode ser simulada com uma regra:\n",
    "\n",
    "A aprovação é mais provável para clientes com idade entre 25 e 60, renda anual acima de 40.000, histórico de crédito acima de 600, histórico de inadimplência baixo (menor que 3) e valor solicitado menor que 30% da renda anual.\n",
    "\n",
    "Crie uma função para gerar essa variável de forma lógica com base nas demais.\n",
    "\n",
    "\n",
    "\n",
    "---\n",
    "\n",
    "Instruções:\n",
    "\n",
    "Parte 1: Geração do Conjunto de Dados\n",
    "\n",
    "1. Geração de Dados Aleatórios\n",
    "\n",
    "Escreva uma função gerar_dados(n) que gere um conjunto de dados com n registros (clientes), criando as variáveis mencionadas acima com valores aleatórios e seguindo os intervalos definidos.\n",
    "\n",
    "\n",
    "\n",
    "2. Regra para Aprovação do Empréstimo\n",
    "\n",
    "Crie uma função definir_aprovacao(dados) que receba o DataFrame com os dados dos clientes e aplique uma regra para definir a aprovação ou não do empréstimo. Use as regras fornecidas e insira alguma aleatoriedade para dar uma variação natural nos dados.\n",
    "\n",
    "\n",
    "\n",
    "3. Estruturação dos Dados\n",
    "\n",
    "Combine todas as variáveis geradas em um DataFrame do Pandas e exiba uma amostra dos dados gerados.\n",
    "\n",
    "\n",
    "\n",
    "\n",
    "Parte 2: Análise Estatística e Exploratória\n",
    "\n",
    "1. Análise Estatística Básica\n",
    "\n",
    "Calcule medidas descritivas (média, mediana, desvio-padrão) para cada variável e exiba um resumo.\n",
    "\n",
    "Gere gráficos (histogramas e boxplots) para variáveis como idade, renda anual, e valor do empréstimo.\n",
    "\n",
    "\n",
    "\n",
    "2. Correlação e Análise de Aprovação\n",
    "\n",
    "Analise a correlação entre as variáveis e a variável de aprovação do empréstimo.\n",
    "\n",
    "Crie gráficos de dispersão para observar relações entre idade e histórico de crédito, histórico de inadimplência e renda, e valor do empréstimo solicitado versus aprovação.\n",
    "\n",
    "\n",
    "\n",
    "3. Classificação dos Grupos de Risco\n",
    "\n",
    "Baseado nos valores médios e percentis das variáveis, crie uma classificação de \"Baixo Risco\", \"Médio Risco\" e \"Alto Risco\" para os clientes.\n",
    "\n",
    "Crie uma função que atribui cada cliente a um desses grupos de risco.\n",
    "\n",
    "\n",
    "---\n",
    "\n",
    "Desafios Extra (Opcional):\n",
    "\n",
    "1. Ajuste de Parâmetros\n",
    "\n",
    "Experimente ajustar os parâmetros da função de geração de aprovação para testar diferentes cenários de aprovação/rejeição.\n",
    "\n",
    "\n",
    "\n",
    "2. Visualização Avançada\n",
    "\n",
    "Crie gráficos que mostrem a distribuição de clientes em cada grupo de risco, destacando o percentual de aprovação.\n",
    "\n",
    "\n",
    "\n",
    "\n",
    "\n",
    "---\n",
    "\n",
    "Critérios de Avaliação\n",
    "\n",
    "1. Organização do Código: Estrutura e clareza.\n",
    "\n",
    "\n",
    "2. Funções Reutilizáveis: Uso de funções bem definidas para cada etapa.\n",
    "\n",
    "\n",
    "3. Análise Estatística: Correção das análises e insights.\n",
    "\n",
    "\n",
    "4. Implementação do Modelo: Correção da implementação do modelo manual e comparação.\n",
    "\n",
    "\n",
    "5. Conclusões: Qualidade das conclusões e apresentação dos resultados"
   ]
  },
  {
   "cell_type": "code",
   "execution_count": 1,
   "metadata": {},
   "outputs": [],
   "source": [
    "# Importar blibiotecas\n",
    "\n",
    "import pandas as pd\n",
    "import random\n",
    "import plotly.express as px\n",
    "import plotly.graph_objects as go"
   ]
  },
  {
   "cell_type": "code",
   "execution_count": 2,
   "metadata": {},
   "outputs": [],
   "source": [
    "# Definir variavél para quantidade de pessoas a serem analisadas\n",
    "\n",
    "qnt = 500"
   ]
  },
  {
   "cell_type": "code",
   "execution_count": 3,
   "metadata": {},
   "outputs": [],
   "source": [
    "\"\"\"1. Geração de Dados Aleatórios\n",
    "\n",
    "Escreva uma função gerar_dados(n) que gere um conjunto de dados com n registros (clientes), criando as variáveis mencionadas acima com valores aleatórios e \n",
    "seguindo os intervalos definidos.\"\"\"\n",
    "\n",
    "# Geração e criação de valores aleatórios\n",
    "\n",
    "df = pd.DataFrame()\n",
    "\n",
    "df[\"Idade\"] = [round(random.normalvariate(mu=44,sigma=10)) for x in range(qnt)]\n",
    "df[\"Renda_Anual\"] = [round(random.normalvariate(mu=110000,sigma=20000),2) for x in range(qnt)]\n",
    "df[\"Hist_Inad\"] = [random.randint(0,10) for x in range(qnt)]\n",
    "df[\"Val_Emprestimo\"] = round(df[\"Renda_Anual\"] * random.normalvariate(mu= 0.25, sigma= 0.06),2) # mu = mediana e sigma = desvio-padrão\n",
    "\n",
    "\n",
    "# Regras para o score\n",
    "\n",
    "w1, w2, w3 = 0.5, 0.3, 0.2\n",
    "\n",
    "score_renda = (df[\"Renda_Anual\"] - 20000) / (200000 - 20000)\n",
    "score_idade = 1 - abs(df[\"Idade\"] - 44) / (70 - 18)\n",
    "score_inadimplencia =  1 - df[\"Hist_Inad\"] / 10\n",
    "\n",
    "df[\"Score\"] = round((w1 * score_renda + w2 * score_idade + w3 * score_inadimplencia) * 1000)"
   ]
  },
  {
   "cell_type": "code",
   "execution_count": 4,
   "metadata": {},
   "outputs": [],
   "source": [
    "\"\"\"Para simplificar, a aprovação do empréstimo pode ser simulada com uma regra:\n",
    "\n",
    "A aprovação é mais provável para clientes com idade entre 25 e 60, renda anual acima de 40.000, histórico de crédito acima de 600, \n",
    "histórico de inadimplência baixo (menor que 3) e valor solicitado menor que 30% da renda anual.\"\"\"\n",
    "\n",
    "# Sistema de aprovação de crédito\n",
    "\n",
    "df[\"Aprovado\"] = False\n",
    "df.loc[ (df['Idade'] >= 25) & (df['Idade'] <= 60) & (df['Renda_Anual']> 40000) & (df['Score'] > 600) & (df['Hist_Inad'] < 3) & (df['Val_Emprestimo']< (0.3 * df['Renda_Anual'])) ,\"Aprovado\"] = True"
   ]
  },
  {
   "cell_type": "code",
   "execution_count": 5,
   "metadata": {},
   "outputs": [
    {
     "data": {
      "text/plain": [
       "Idade             132\n",
       "Renda_Anual       132\n",
       "Hist_Inad         132\n",
       "Val_Emprestimo    132\n",
       "Score             132\n",
       "Aprovado          132\n",
       "dtype: int64"
      ]
     },
     "execution_count": 5,
     "metadata": {},
     "output_type": "execute_result"
    }
   ],
   "source": [
    "# Contagem de contas aprovadas\n",
    "\n",
    "df.loc[ df['Aprovado'] == True].count()"
   ]
  },
  {
   "cell_type": "code",
   "execution_count": 6,
   "metadata": {},
   "outputs": [
    {
     "data": {
      "text/html": [
       "<div>\n",
       "<style scoped>\n",
       "    .dataframe tbody tr th:only-of-type {\n",
       "        vertical-align: middle;\n",
       "    }\n",
       "\n",
       "    .dataframe tbody tr th {\n",
       "        vertical-align: top;\n",
       "    }\n",
       "\n",
       "    .dataframe thead th {\n",
       "        text-align: right;\n",
       "    }\n",
       "</style>\n",
       "<table border=\"1\" class=\"dataframe\">\n",
       "  <thead>\n",
       "    <tr style=\"text-align: right;\">\n",
       "      <th></th>\n",
       "      <th>Idade</th>\n",
       "      <th>Renda_Anual</th>\n",
       "      <th>Hist_Inad</th>\n",
       "      <th>Val_Emprestimo</th>\n",
       "      <th>Score</th>\n",
       "    </tr>\n",
       "  </thead>\n",
       "  <tbody>\n",
       "    <tr>\n",
       "      <th>count</th>\n",
       "      <td>500.000000</td>\n",
       "      <td>500.000000</td>\n",
       "      <td>500.000000</td>\n",
       "      <td>500.000000</td>\n",
       "      <td>500.000000</td>\n",
       "    </tr>\n",
       "    <tr>\n",
       "      <th>mean</th>\n",
       "      <td>44.408000</td>\n",
       "      <td>112125.422640</td>\n",
       "      <td>4.834000</td>\n",
       "      <td>28180.487360</td>\n",
       "      <td>614.414000</td>\n",
       "    </tr>\n",
       "    <tr>\n",
       "      <th>std</th>\n",
       "      <td>9.747593</td>\n",
       "      <td>19698.183681</td>\n",
       "      <td>3.142323</td>\n",
       "      <td>4950.745522</td>\n",
       "      <td>92.891443</td>\n",
       "    </tr>\n",
       "    <tr>\n",
       "      <th>min</th>\n",
       "      <td>17.000000</td>\n",
       "      <td>56228.260000</td>\n",
       "      <td>0.000000</td>\n",
       "      <td>14131.850000</td>\n",
       "      <td>357.000000</td>\n",
       "    </tr>\n",
       "    <tr>\n",
       "      <th>25%</th>\n",
       "      <td>37.750000</td>\n",
       "      <td>99087.877500</td>\n",
       "      <td>2.000000</td>\n",
       "      <td>24903.757500</td>\n",
       "      <td>549.500000</td>\n",
       "    </tr>\n",
       "    <tr>\n",
       "      <th>50%</th>\n",
       "      <td>44.000000</td>\n",
       "      <td>111391.010000</td>\n",
       "      <td>5.000000</td>\n",
       "      <td>27995.905000</td>\n",
       "      <td>613.000000</td>\n",
       "    </tr>\n",
       "    <tr>\n",
       "      <th>75%</th>\n",
       "      <td>51.000000</td>\n",
       "      <td>124714.887500</td>\n",
       "      <td>8.000000</td>\n",
       "      <td>31344.602500</td>\n",
       "      <td>683.000000</td>\n",
       "    </tr>\n",
       "    <tr>\n",
       "      <th>max</th>\n",
       "      <td>73.000000</td>\n",
       "      <td>167515.470000</td>\n",
       "      <td>10.000000</td>\n",
       "      <td>42101.670000</td>\n",
       "      <td>870.000000</td>\n",
       "    </tr>\n",
       "  </tbody>\n",
       "</table>\n",
       "</div>"
      ],
      "text/plain": [
       "            Idade    Renda_Anual   Hist_Inad  Val_Emprestimo       Score\n",
       "count  500.000000     500.000000  500.000000      500.000000  500.000000\n",
       "mean    44.408000  112125.422640    4.834000    28180.487360  614.414000\n",
       "std      9.747593   19698.183681    3.142323     4950.745522   92.891443\n",
       "min     17.000000   56228.260000    0.000000    14131.850000  357.000000\n",
       "25%     37.750000   99087.877500    2.000000    24903.757500  549.500000\n",
       "50%     44.000000  111391.010000    5.000000    27995.905000  613.000000\n",
       "75%     51.000000  124714.887500    8.000000    31344.602500  683.000000\n",
       "max     73.000000  167515.470000   10.000000    42101.670000  870.000000"
      ]
     },
     "execution_count": 6,
     "metadata": {},
     "output_type": "execute_result"
    }
   ],
   "source": [
    "# Média, desvio-padrão, mediana, min, max...\n",
    "\n",
    "df.describe()"
   ]
  },
  {
   "cell_type": "code",
   "execution_count": 7,
   "metadata": {},
   "outputs": [
    {
     "name": "stdout",
     "output_type": "stream",
     "text": [
      "<class 'pandas.core.frame.DataFrame'>\n",
      "RangeIndex: 500 entries, 0 to 499\n",
      "Data columns (total 6 columns):\n",
      " #   Column          Non-Null Count  Dtype  \n",
      "---  ------          --------------  -----  \n",
      " 0   Idade           500 non-null    int64  \n",
      " 1   Renda_Anual     500 non-null    float64\n",
      " 2   Hist_Inad       500 non-null    int64  \n",
      " 3   Val_Emprestimo  500 non-null    float64\n",
      " 4   Score           500 non-null    float64\n",
      " 5   Aprovado        500 non-null    bool   \n",
      "dtypes: bool(1), float64(3), int64(2)\n",
      "memory usage: 20.1 KB\n"
     ]
    }
   ],
   "source": [
    "df.info()"
   ]
  },
  {
   "cell_type": "markdown",
   "metadata": {},
   "source": [
    "0-333 alto risco<br>\n",
    "334-666 médio risco<br>\n",
    "667-1000 baixo risco<br>"
   ]
  },
  {
   "cell_type": "code",
   "execution_count": 8,
   "metadata": {},
   "outputs": [],
   "source": [
    "# Anélise do risco de clientes\n",
    "\n",
    "df[\"Risco\"] = \"Alto risco\"\n",
    "df.loc[df[\"Score\"] > 333, \"Risco\"] = \"Médio Risco\" \n",
    "df.loc[df[\"Score\"] > 666, \"Risco\"] = \"Baixo Risco\" "
   ]
  },
  {
   "cell_type": "code",
   "execution_count": 9,
   "metadata": {},
   "outputs": [
    {
     "data": {
      "text/html": [
       "<div>\n",
       "<style scoped>\n",
       "    .dataframe tbody tr th:only-of-type {\n",
       "        vertical-align: middle;\n",
       "    }\n",
       "\n",
       "    .dataframe tbody tr th {\n",
       "        vertical-align: top;\n",
       "    }\n",
       "\n",
       "    .dataframe thead th {\n",
       "        text-align: right;\n",
       "    }\n",
       "</style>\n",
       "<table border=\"1\" class=\"dataframe\">\n",
       "  <thead>\n",
       "    <tr style=\"text-align: right;\">\n",
       "      <th></th>\n",
       "      <th>Idade</th>\n",
       "      <th>Renda_Anual</th>\n",
       "      <th>Hist_Inad</th>\n",
       "      <th>Val_Emprestimo</th>\n",
       "      <th>Score</th>\n",
       "      <th>Aprovado</th>\n",
       "      <th>Risco</th>\n",
       "    </tr>\n",
       "  </thead>\n",
       "  <tbody>\n",
       "    <tr>\n",
       "      <th>0</th>\n",
       "      <td>47</td>\n",
       "      <td>122744.11</td>\n",
       "      <td>3</td>\n",
       "      <td>30849.28</td>\n",
       "      <td>708.0</td>\n",
       "      <td>False</td>\n",
       "      <td>Baixo Risco</td>\n",
       "    </tr>\n",
       "    <tr>\n",
       "      <th>1</th>\n",
       "      <td>66</td>\n",
       "      <td>128962.66</td>\n",
       "      <td>2</td>\n",
       "      <td>32412.19</td>\n",
       "      <td>636.0</td>\n",
       "      <td>False</td>\n",
       "      <td>Médio Risco</td>\n",
       "    </tr>\n",
       "    <tr>\n",
       "      <th>2</th>\n",
       "      <td>60</td>\n",
       "      <td>110876.31</td>\n",
       "      <td>8</td>\n",
       "      <td>27866.55</td>\n",
       "      <td>500.0</td>\n",
       "      <td>False</td>\n",
       "      <td>Médio Risco</td>\n",
       "    </tr>\n",
       "    <tr>\n",
       "      <th>3</th>\n",
       "      <td>35</td>\n",
       "      <td>121757.87</td>\n",
       "      <td>6</td>\n",
       "      <td>30601.41</td>\n",
       "      <td>611.0</td>\n",
       "      <td>False</td>\n",
       "      <td>Médio Risco</td>\n",
       "    </tr>\n",
       "    <tr>\n",
       "      <th>4</th>\n",
       "      <td>36</td>\n",
       "      <td>92358.95</td>\n",
       "      <td>0</td>\n",
       "      <td>23212.58</td>\n",
       "      <td>655.0</td>\n",
       "      <td>True</td>\n",
       "      <td>Médio Risco</td>\n",
       "    </tr>\n",
       "    <tr>\n",
       "      <th>...</th>\n",
       "      <td>...</td>\n",
       "      <td>...</td>\n",
       "      <td>...</td>\n",
       "      <td>...</td>\n",
       "      <td>...</td>\n",
       "      <td>...</td>\n",
       "      <td>...</td>\n",
       "    </tr>\n",
       "    <tr>\n",
       "      <th>495</th>\n",
       "      <td>42</td>\n",
       "      <td>115194.89</td>\n",
       "      <td>8</td>\n",
       "      <td>28951.94</td>\n",
       "      <td>593.0</td>\n",
       "      <td>False</td>\n",
       "      <td>Médio Risco</td>\n",
       "    </tr>\n",
       "    <tr>\n",
       "      <th>496</th>\n",
       "      <td>41</td>\n",
       "      <td>107050.82</td>\n",
       "      <td>1</td>\n",
       "      <td>26905.09</td>\n",
       "      <td>705.0</td>\n",
       "      <td>True</td>\n",
       "      <td>Baixo Risco</td>\n",
       "    </tr>\n",
       "    <tr>\n",
       "      <th>497</th>\n",
       "      <td>50</td>\n",
       "      <td>108608.55</td>\n",
       "      <td>7</td>\n",
       "      <td>27296.59</td>\n",
       "      <td>572.0</td>\n",
       "      <td>False</td>\n",
       "      <td>Médio Risco</td>\n",
       "    </tr>\n",
       "    <tr>\n",
       "      <th>498</th>\n",
       "      <td>41</td>\n",
       "      <td>128825.65</td>\n",
       "      <td>5</td>\n",
       "      <td>32377.76</td>\n",
       "      <td>685.0</td>\n",
       "      <td>False</td>\n",
       "      <td>Baixo Risco</td>\n",
       "    </tr>\n",
       "    <tr>\n",
       "      <th>499</th>\n",
       "      <td>44</td>\n",
       "      <td>97948.23</td>\n",
       "      <td>4</td>\n",
       "      <td>24617.33</td>\n",
       "      <td>637.0</td>\n",
       "      <td>False</td>\n",
       "      <td>Médio Risco</td>\n",
       "    </tr>\n",
       "  </tbody>\n",
       "</table>\n",
       "<p>500 rows × 7 columns</p>\n",
       "</div>"
      ],
      "text/plain": [
       "     Idade  Renda_Anual  Hist_Inad  Val_Emprestimo  Score  Aprovado  \\\n",
       "0       47    122744.11          3        30849.28  708.0     False   \n",
       "1       66    128962.66          2        32412.19  636.0     False   \n",
       "2       60    110876.31          8        27866.55  500.0     False   \n",
       "3       35    121757.87          6        30601.41  611.0     False   \n",
       "4       36     92358.95          0        23212.58  655.0      True   \n",
       "..     ...          ...        ...             ...    ...       ...   \n",
       "495     42    115194.89          8        28951.94  593.0     False   \n",
       "496     41    107050.82          1        26905.09  705.0      True   \n",
       "497     50    108608.55          7        27296.59  572.0     False   \n",
       "498     41    128825.65          5        32377.76  685.0     False   \n",
       "499     44     97948.23          4        24617.33  637.0     False   \n",
       "\n",
       "           Risco  \n",
       "0    Baixo Risco  \n",
       "1    Médio Risco  \n",
       "2    Médio Risco  \n",
       "3    Médio Risco  \n",
       "4    Médio Risco  \n",
       "..           ...  \n",
       "495  Médio Risco  \n",
       "496  Baixo Risco  \n",
       "497  Médio Risco  \n",
       "498  Baixo Risco  \n",
       "499  Médio Risco  \n",
       "\n",
       "[500 rows x 7 columns]"
      ]
     },
     "execution_count": 9,
     "metadata": {},
     "output_type": "execute_result"
    }
   ],
   "source": [
    "df"
   ]
  },
  {
   "cell_type": "markdown",
   "metadata": {},
   "source": [
    "1. Análise Estatística Básica\n",
    "\n",
    "Calcule medidas descritivas (média, mediana, desvio-padrão) para cada variável e exiba um resumo.\n",
    "\n",
    "Gere gráficos (histogramas e boxplots) para variáveis como idade, renda anual, e valor do empréstimo."
   ]
  },
  {
   "cell_type": "code",
   "execution_count": 10,
   "metadata": {},
   "outputs": [
    {
     "data": {
      "text/html": [
       "<div>\n",
       "<style scoped>\n",
       "    .dataframe tbody tr th:only-of-type {\n",
       "        vertical-align: middle;\n",
       "    }\n",
       "\n",
       "    .dataframe tbody tr th {\n",
       "        vertical-align: top;\n",
       "    }\n",
       "\n",
       "    .dataframe thead th {\n",
       "        text-align: right;\n",
       "    }\n",
       "</style>\n",
       "<table border=\"1\" class=\"dataframe\">\n",
       "  <thead>\n",
       "    <tr style=\"text-align: right;\">\n",
       "      <th></th>\n",
       "      <th>Idade</th>\n",
       "      <th>Renda_Anual</th>\n",
       "      <th>Hist_Inad</th>\n",
       "      <th>Val_Emprestimo</th>\n",
       "      <th>Score</th>\n",
       "    </tr>\n",
       "  </thead>\n",
       "  <tbody>\n",
       "    <tr>\n",
       "      <th>count</th>\n",
       "      <td>500.000000</td>\n",
       "      <td>500.000000</td>\n",
       "      <td>500.000000</td>\n",
       "      <td>500.000000</td>\n",
       "      <td>500.000000</td>\n",
       "    </tr>\n",
       "    <tr>\n",
       "      <th>mean</th>\n",
       "      <td>44.408000</td>\n",
       "      <td>112125.422640</td>\n",
       "      <td>4.834000</td>\n",
       "      <td>28180.487360</td>\n",
       "      <td>614.414000</td>\n",
       "    </tr>\n",
       "    <tr>\n",
       "      <th>std</th>\n",
       "      <td>9.747593</td>\n",
       "      <td>19698.183681</td>\n",
       "      <td>3.142323</td>\n",
       "      <td>4950.745522</td>\n",
       "      <td>92.891443</td>\n",
       "    </tr>\n",
       "    <tr>\n",
       "      <th>min</th>\n",
       "      <td>17.000000</td>\n",
       "      <td>56228.260000</td>\n",
       "      <td>0.000000</td>\n",
       "      <td>14131.850000</td>\n",
       "      <td>357.000000</td>\n",
       "    </tr>\n",
       "    <tr>\n",
       "      <th>25%</th>\n",
       "      <td>37.750000</td>\n",
       "      <td>99087.877500</td>\n",
       "      <td>2.000000</td>\n",
       "      <td>24903.757500</td>\n",
       "      <td>549.500000</td>\n",
       "    </tr>\n",
       "    <tr>\n",
       "      <th>50%</th>\n",
       "      <td>44.000000</td>\n",
       "      <td>111391.010000</td>\n",
       "      <td>5.000000</td>\n",
       "      <td>27995.905000</td>\n",
       "      <td>613.000000</td>\n",
       "    </tr>\n",
       "    <tr>\n",
       "      <th>75%</th>\n",
       "      <td>51.000000</td>\n",
       "      <td>124714.887500</td>\n",
       "      <td>8.000000</td>\n",
       "      <td>31344.602500</td>\n",
       "      <td>683.000000</td>\n",
       "    </tr>\n",
       "    <tr>\n",
       "      <th>max</th>\n",
       "      <td>73.000000</td>\n",
       "      <td>167515.470000</td>\n",
       "      <td>10.000000</td>\n",
       "      <td>42101.670000</td>\n",
       "      <td>870.000000</td>\n",
       "    </tr>\n",
       "  </tbody>\n",
       "</table>\n",
       "</div>"
      ],
      "text/plain": [
       "            Idade    Renda_Anual   Hist_Inad  Val_Emprestimo       Score\n",
       "count  500.000000     500.000000  500.000000      500.000000  500.000000\n",
       "mean    44.408000  112125.422640    4.834000    28180.487360  614.414000\n",
       "std      9.747593   19698.183681    3.142323     4950.745522   92.891443\n",
       "min     17.000000   56228.260000    0.000000    14131.850000  357.000000\n",
       "25%     37.750000   99087.877500    2.000000    24903.757500  549.500000\n",
       "50%     44.000000  111391.010000    5.000000    27995.905000  613.000000\n",
       "75%     51.000000  124714.887500    8.000000    31344.602500  683.000000\n",
       "max     73.000000  167515.470000   10.000000    42101.670000  870.000000"
      ]
     },
     "execution_count": 10,
     "metadata": {},
     "output_type": "execute_result"
    }
   ],
   "source": [
    "df.describe()"
   ]
  },
  {
   "cell_type": "code",
   "execution_count": 11,
   "metadata": {},
   "outputs": [
    {
     "data": {
      "application/vnd.plotly.v1+json": {
       "config": {
        "plotlyServerURL": "https://plot.ly"
       },
       "data": [
        {
         "alignmentgroup": "True",
         "boxpoints": "all",
         "hovertemplate": "Aprovado=%{x}<br>Renda_Anual=%{y}<extra></extra>",
         "legendgroup": "",
         "marker": {
          "color": "#636efa"
         },
         "name": "",
         "notched": false,
         "offsetgroup": "",
         "orientation": "v",
         "showlegend": false,
         "type": "box",
         "x": [
          false,
          false,
          false,
          false,
          true,
          false,
          false,
          false,
          false,
          false,
          true,
          false,
          false,
          true,
          false,
          true,
          false,
          false,
          false,
          false,
          false,
          true,
          false,
          false,
          true,
          false,
          false,
          false,
          false,
          false,
          false,
          false,
          false,
          false,
          false,
          false,
          false,
          false,
          true,
          false,
          false,
          false,
          false,
          false,
          false,
          false,
          false,
          false,
          true,
          false,
          false,
          false,
          false,
          false,
          false,
          false,
          true,
          false,
          false,
          false,
          false,
          false,
          false,
          false,
          true,
          true,
          false,
          false,
          false,
          false,
          false,
          false,
          false,
          true,
          false,
          false,
          false,
          true,
          false,
          false,
          false,
          true,
          true,
          false,
          false,
          false,
          false,
          false,
          false,
          false,
          false,
          false,
          false,
          false,
          false,
          false,
          false,
          false,
          true,
          false,
          false,
          false,
          false,
          false,
          true,
          false,
          false,
          false,
          false,
          true,
          true,
          true,
          true,
          false,
          false,
          false,
          false,
          false,
          false,
          true,
          true,
          false,
          false,
          true,
          false,
          true,
          false,
          false,
          false,
          false,
          true,
          false,
          false,
          false,
          false,
          true,
          false,
          false,
          false,
          true,
          false,
          false,
          false,
          false,
          false,
          false,
          false,
          true,
          false,
          false,
          false,
          false,
          true,
          true,
          false,
          true,
          true,
          false,
          false,
          true,
          false,
          false,
          true,
          false,
          false,
          false,
          false,
          false,
          false,
          false,
          false,
          true,
          false,
          false,
          false,
          false,
          true,
          true,
          true,
          false,
          true,
          true,
          false,
          true,
          false,
          false,
          true,
          false,
          false,
          false,
          false,
          false,
          false,
          false,
          false,
          true,
          true,
          false,
          false,
          false,
          true,
          false,
          false,
          false,
          false,
          false,
          false,
          false,
          false,
          false,
          false,
          false,
          false,
          false,
          true,
          false,
          true,
          false,
          false,
          false,
          true,
          false,
          false,
          true,
          false,
          true,
          false,
          true,
          true,
          true,
          false,
          false,
          true,
          true,
          false,
          false,
          false,
          false,
          true,
          false,
          true,
          true,
          false,
          false,
          true,
          false,
          true,
          true,
          false,
          true,
          false,
          false,
          false,
          false,
          false,
          false,
          false,
          false,
          false,
          false,
          false,
          false,
          false,
          false,
          false,
          false,
          true,
          false,
          false,
          false,
          false,
          false,
          true,
          false,
          true,
          true,
          false,
          false,
          true,
          false,
          false,
          false,
          false,
          false,
          false,
          false,
          true,
          false,
          false,
          true,
          true,
          false,
          false,
          false,
          true,
          false,
          true,
          false,
          true,
          false,
          false,
          false,
          false,
          false,
          false,
          true,
          false,
          false,
          false,
          false,
          false,
          false,
          false,
          false,
          false,
          false,
          false,
          false,
          false,
          false,
          false,
          true,
          false,
          false,
          false,
          false,
          false,
          false,
          false,
          false,
          false,
          true,
          false,
          true,
          false,
          true,
          false,
          true,
          false,
          true,
          false,
          false,
          false,
          false,
          false,
          false,
          false,
          false,
          false,
          false,
          true,
          true,
          false,
          true,
          true,
          true,
          true,
          false,
          true,
          true,
          false,
          false,
          false,
          false,
          true,
          false,
          true,
          false,
          false,
          false,
          false,
          false,
          false,
          false,
          false,
          true,
          false,
          false,
          false,
          true,
          false,
          false,
          false,
          true,
          false,
          false,
          false,
          true,
          true,
          false,
          true,
          false,
          true,
          false,
          false,
          false,
          false,
          true,
          false,
          false,
          true,
          false,
          false,
          false,
          false,
          false,
          false,
          true,
          false,
          false,
          false,
          true,
          true,
          true,
          false,
          false,
          false,
          false,
          false,
          false,
          true,
          false,
          true,
          false,
          false,
          false,
          false,
          true,
          true,
          false,
          false,
          false,
          false,
          true,
          true,
          false,
          false,
          false,
          false,
          true,
          true,
          false,
          false,
          false,
          true,
          true,
          false,
          false,
          true,
          false,
          false,
          false,
          false,
          true,
          true,
          false,
          false,
          true,
          false,
          false,
          false,
          false,
          false,
          true,
          true,
          false,
          false,
          false,
          true,
          false,
          false,
          false,
          false,
          false,
          true,
          true,
          false,
          true,
          false,
          true,
          false,
          false,
          true,
          false,
          false,
          false,
          false,
          false,
          true,
          true,
          false,
          true,
          true,
          true,
          false,
          false,
          true,
          false,
          false,
          false
         ],
         "x0": " ",
         "xaxis": "x",
         "y": [
          122744.11,
          128962.66,
          110876.31,
          121757.87,
          92358.95,
          69403.38,
          67486.57,
          96613.39,
          105210.5,
          92942.59,
          121339.5,
          148052.45,
          92563.6,
          116959.07,
          112817.96,
          97471.28,
          102823.01,
          116346.32,
          106064.48,
          119246.96,
          119832.74,
          102701.04,
          87508.34,
          122846.77,
          89977.3,
          142649.53,
          116397.63,
          114215.26,
          126284.2,
          121966.87,
          107851.59,
          105519.9,
          120271.53,
          82424.52,
          88412.48,
          113340.47,
          105986,
          124593.51,
          100684.34,
          124356.26,
          110692.8,
          147385.62,
          121014.34,
          121381.11,
          107080.96,
          89386.06,
          91376.04,
          129745.36,
          123201.45,
          113427.62,
          108501.09,
          92051.9,
          113804.82,
          70470.93,
          95513.85,
          140676.93,
          84615.33,
          133719.98,
          130256.93,
          144569.47,
          109175.16,
          122715.35,
          156446.7,
          106685.07,
          105852.7,
          91537.83,
          100178.07,
          111085.92,
          77296.8,
          56676.69,
          107677.82,
          103767.35,
          72084.51,
          151801.48,
          83768.3,
          112758.09,
          91945.3,
          114181.18,
          108530.32,
          108165.74,
          134124.47,
          121716.46,
          101817.43,
          105419.86,
          104304.69,
          99394.06,
          110702.46,
          147859.29,
          89415.16,
          96797.96,
          87578.39,
          111718.89,
          153662.51,
          106878.89,
          97185.69,
          101781.8,
          133259.04,
          137526.26,
          92204.96,
          92946.7,
          124371.82,
          101717.97,
          98606.47,
          141771.18,
          79953.93,
          132174.23,
          104980.89,
          123221.8,
          100908.53,
          121006.21,
          109426.85,
          112148.35,
          115364.5,
          95297.31,
          128985.06,
          103227.67,
          97238.23,
          109614.06,
          94442.95,
          91249.22,
          114381.01,
          121201.35,
          136395.97,
          110143,
          94234,
          129922.5,
          83855.17,
          110144.44,
          90589.5,
          105488.83,
          161478.87,
          112072.23,
          95817.75,
          133481.99,
          101245.77,
          140057.47,
          105772.09,
          108882.59,
          114949.77,
          138163.65,
          99114.39,
          127016.63,
          100740.6,
          141003.24,
          113700.64,
          119292.29,
          108522.38,
          110180.52,
          95430.84,
          95785.54,
          134755.52,
          117198.32,
          129737.57,
          113699.34,
          137940.27,
          105333.32,
          109597.78,
          101820.93,
          73111.4,
          110129.42,
          103098.32,
          103083.06,
          159932.45,
          117573.5,
          87421.51,
          88402.02,
          112184.33,
          102118.71,
          130402.27,
          75327.73,
          141212.03,
          86144.96,
          103436.68,
          76782.14,
          101906.96,
          113788.74,
          123254.99,
          96949.29,
          106340.39,
          64098.04,
          109961.58,
          115561.36,
          71186.11,
          86162.08,
          107625.4,
          125691.77,
          131155.5,
          148411.71,
          93105.03,
          101014.7,
          115720.87,
          111599.61,
          119247.83,
          136992.87,
          84666.65,
          123108.34,
          143649.79,
          86261.09,
          135745.73,
          121819,
          130896.52,
          146846.98,
          128103.7,
          85054.62,
          140637.28,
          142577.35,
          124568.85,
          150050.5,
          111516,
          86459.69,
          111611.86,
          105875.28,
          113881.44,
          88772.62,
          91380.88,
          107364.8,
          117326.41,
          113766.6,
          119527.77,
          125172.96,
          143767.76,
          128216.29,
          106283.03,
          84718.35,
          97994.63,
          99008.34,
          124874.63,
          89470.42,
          88493.62,
          90530.47,
          120252.43,
          126674.91,
          101917.49,
          84281.58,
          110583.85,
          164389.17,
          121641.96,
          98088.52,
          114308.1,
          107555.87,
          122562.07,
          106434.02,
          143767.1,
          79654.88,
          128896.36,
          119075.04,
          131547.37,
          115207.74,
          98110.48,
          103780.6,
          88191.8,
          96641.31,
          89739.64,
          93877.74,
          110638.34,
          97115.97,
          89696.32,
          133005.04,
          99117.6,
          140661.47,
          114872.33,
          129343.48,
          98052.01,
          124311.54,
          117217.18,
          97881.33,
          135117.72,
          120032.02,
          88695.38,
          115085.88,
          131024.28,
          126747.78,
          119421.23,
          136423.29,
          135755.94,
          109792.13,
          107005.92,
          96297.13,
          100274.15,
          119380.84,
          122058.13,
          124131.32,
          83072.88,
          131629.74,
          125994.78,
          63129.59,
          127052.1,
          112149.44,
          145355.95,
          112129.3,
          121022.79,
          133056.42,
          122607.69,
          127348.35,
          111190.3,
          119718.66,
          122894.43,
          147220.49,
          137039.56,
          103813.91,
          57274.85,
          135896.29,
          112934.66,
          113434.16,
          73846.32,
          135267.29,
          117069.57,
          106211.14,
          83115.77,
          90235.6,
          85982.24,
          86183.72,
          137741.92,
          136179.49,
          86138.35,
          106169.07,
          102248.69,
          104983.82,
          114958.53,
          136854.51,
          127390.15,
          119119.88,
          119390.84,
          109128.84,
          156579.37,
          126490.11,
          110186.37,
          83650,
          116870.42,
          145707.8,
          106774.23,
          140047.2,
          108722.59,
          90859.54,
          87218.02,
          133760.73,
          93903.03,
          134818.37,
          100777.05,
          98694.23,
          125136.16,
          95075.91,
          89412.12,
          121924.77,
          86024.66,
          106772.04,
          117137.85,
          125562.23,
          156610.16,
          103457.31,
          140058.52,
          111089.76,
          113115.17,
          113408.7,
          106940.5,
          100960.62,
          103954.26,
          104546.94,
          114632.87,
          147176.54,
          108888.15,
          128751.29,
          124000.13,
          95500.16,
          121315.51,
          97721.48,
          119623.55,
          119683.9,
          129756.02,
          124498.57,
          101822.3,
          141224.39,
          139222.63,
          146404.05,
          140487.48,
          110574.51,
          93352.81,
          107561.48,
          93539.1,
          124661.64,
          135806.16,
          123262.65,
          89800,
          88081.05,
          117694.36,
          101542.9,
          118002.17,
          119618.16,
          103972.32,
          142989.64,
          92126.34,
          113801.82,
          103855.95,
          103207.58,
          115057.64,
          158830.41,
          75310.45,
          128751.58,
          75528.09,
          105894.52,
          123271.74,
          133743.37,
          119055.55,
          162296.24,
          117173.04,
          108582.08,
          124238.52,
          126785.76,
          56848.15,
          131716.35,
          127355.08,
          102114.48,
          106900.49,
          117702.62,
          141333.13,
          105637.17,
          117772.27,
          118271.44,
          92724.46,
          118199.19,
          159488.6,
          70952.03,
          130736.01,
          108406,
          117029.28,
          82955.27,
          136922.78,
          129996.22,
          132426.27,
          86103.03,
          106061.12,
          101401.37,
          138281.95,
          100231.73,
          136635.24,
          89125.88,
          64900.66,
          93381.52,
          92817.98,
          123339.21,
          112943.67,
          101148.02,
          107380.56,
          85651.03,
          105383.66,
          106075.76,
          88478.88,
          121363.22,
          115635.54,
          130325.24,
          126159.46,
          129451.79,
          108637.82,
          85499.61,
          118534.94,
          56228.26,
          81904.81,
          100769.81,
          107509.87,
          94114.02,
          95743.35,
          94119.9,
          111266.02,
          115903.3,
          114825.13,
          115849.53,
          106822.68,
          92418.96,
          110115.57,
          128688.59,
          128037.37,
          145953.61,
          122644.12,
          111011.6,
          104335.62,
          124241.59,
          139922.03,
          110940.18,
          100821.51,
          143177.08,
          120373.28,
          118864.67,
          143185.4,
          103266.03,
          82784.54,
          125251.5,
          120891.48,
          111870.54,
          167515.47,
          125809.19,
          106818.31,
          102089.64,
          128539.74,
          111256.6,
          90972.76,
          115194.89,
          107050.82,
          108608.55,
          128825.65,
          97948.23
         ],
         "y0": " ",
         "yaxis": "y"
        }
       ],
       "layout": {
        "boxmode": "group",
        "legend": {
         "tracegroupgap": 0
        },
        "template": {
         "data": {
          "bar": [
           {
            "error_x": {
             "color": "#2a3f5f"
            },
            "error_y": {
             "color": "#2a3f5f"
            },
            "marker": {
             "line": {
              "color": "#E5ECF6",
              "width": 0.5
             },
             "pattern": {
              "fillmode": "overlay",
              "size": 10,
              "solidity": 0.2
             }
            },
            "type": "bar"
           }
          ],
          "barpolar": [
           {
            "marker": {
             "line": {
              "color": "#E5ECF6",
              "width": 0.5
             },
             "pattern": {
              "fillmode": "overlay",
              "size": 10,
              "solidity": 0.2
             }
            },
            "type": "barpolar"
           }
          ],
          "carpet": [
           {
            "aaxis": {
             "endlinecolor": "#2a3f5f",
             "gridcolor": "white",
             "linecolor": "white",
             "minorgridcolor": "white",
             "startlinecolor": "#2a3f5f"
            },
            "baxis": {
             "endlinecolor": "#2a3f5f",
             "gridcolor": "white",
             "linecolor": "white",
             "minorgridcolor": "white",
             "startlinecolor": "#2a3f5f"
            },
            "type": "carpet"
           }
          ],
          "choropleth": [
           {
            "colorbar": {
             "outlinewidth": 0,
             "ticks": ""
            },
            "type": "choropleth"
           }
          ],
          "contour": [
           {
            "colorbar": {
             "outlinewidth": 0,
             "ticks": ""
            },
            "colorscale": [
             [
              0,
              "#0d0887"
             ],
             [
              0.1111111111111111,
              "#46039f"
             ],
             [
              0.2222222222222222,
              "#7201a8"
             ],
             [
              0.3333333333333333,
              "#9c179e"
             ],
             [
              0.4444444444444444,
              "#bd3786"
             ],
             [
              0.5555555555555556,
              "#d8576b"
             ],
             [
              0.6666666666666666,
              "#ed7953"
             ],
             [
              0.7777777777777778,
              "#fb9f3a"
             ],
             [
              0.8888888888888888,
              "#fdca26"
             ],
             [
              1,
              "#f0f921"
             ]
            ],
            "type": "contour"
           }
          ],
          "contourcarpet": [
           {
            "colorbar": {
             "outlinewidth": 0,
             "ticks": ""
            },
            "type": "contourcarpet"
           }
          ],
          "heatmap": [
           {
            "colorbar": {
             "outlinewidth": 0,
             "ticks": ""
            },
            "colorscale": [
             [
              0,
              "#0d0887"
             ],
             [
              0.1111111111111111,
              "#46039f"
             ],
             [
              0.2222222222222222,
              "#7201a8"
             ],
             [
              0.3333333333333333,
              "#9c179e"
             ],
             [
              0.4444444444444444,
              "#bd3786"
             ],
             [
              0.5555555555555556,
              "#d8576b"
             ],
             [
              0.6666666666666666,
              "#ed7953"
             ],
             [
              0.7777777777777778,
              "#fb9f3a"
             ],
             [
              0.8888888888888888,
              "#fdca26"
             ],
             [
              1,
              "#f0f921"
             ]
            ],
            "type": "heatmap"
           }
          ],
          "heatmapgl": [
           {
            "colorbar": {
             "outlinewidth": 0,
             "ticks": ""
            },
            "colorscale": [
             [
              0,
              "#0d0887"
             ],
             [
              0.1111111111111111,
              "#46039f"
             ],
             [
              0.2222222222222222,
              "#7201a8"
             ],
             [
              0.3333333333333333,
              "#9c179e"
             ],
             [
              0.4444444444444444,
              "#bd3786"
             ],
             [
              0.5555555555555556,
              "#d8576b"
             ],
             [
              0.6666666666666666,
              "#ed7953"
             ],
             [
              0.7777777777777778,
              "#fb9f3a"
             ],
             [
              0.8888888888888888,
              "#fdca26"
             ],
             [
              1,
              "#f0f921"
             ]
            ],
            "type": "heatmapgl"
           }
          ],
          "histogram": [
           {
            "marker": {
             "pattern": {
              "fillmode": "overlay",
              "size": 10,
              "solidity": 0.2
             }
            },
            "type": "histogram"
           }
          ],
          "histogram2d": [
           {
            "colorbar": {
             "outlinewidth": 0,
             "ticks": ""
            },
            "colorscale": [
             [
              0,
              "#0d0887"
             ],
             [
              0.1111111111111111,
              "#46039f"
             ],
             [
              0.2222222222222222,
              "#7201a8"
             ],
             [
              0.3333333333333333,
              "#9c179e"
             ],
             [
              0.4444444444444444,
              "#bd3786"
             ],
             [
              0.5555555555555556,
              "#d8576b"
             ],
             [
              0.6666666666666666,
              "#ed7953"
             ],
             [
              0.7777777777777778,
              "#fb9f3a"
             ],
             [
              0.8888888888888888,
              "#fdca26"
             ],
             [
              1,
              "#f0f921"
             ]
            ],
            "type": "histogram2d"
           }
          ],
          "histogram2dcontour": [
           {
            "colorbar": {
             "outlinewidth": 0,
             "ticks": ""
            },
            "colorscale": [
             [
              0,
              "#0d0887"
             ],
             [
              0.1111111111111111,
              "#46039f"
             ],
             [
              0.2222222222222222,
              "#7201a8"
             ],
             [
              0.3333333333333333,
              "#9c179e"
             ],
             [
              0.4444444444444444,
              "#bd3786"
             ],
             [
              0.5555555555555556,
              "#d8576b"
             ],
             [
              0.6666666666666666,
              "#ed7953"
             ],
             [
              0.7777777777777778,
              "#fb9f3a"
             ],
             [
              0.8888888888888888,
              "#fdca26"
             ],
             [
              1,
              "#f0f921"
             ]
            ],
            "type": "histogram2dcontour"
           }
          ],
          "mesh3d": [
           {
            "colorbar": {
             "outlinewidth": 0,
             "ticks": ""
            },
            "type": "mesh3d"
           }
          ],
          "parcoords": [
           {
            "line": {
             "colorbar": {
              "outlinewidth": 0,
              "ticks": ""
             }
            },
            "type": "parcoords"
           }
          ],
          "pie": [
           {
            "automargin": true,
            "type": "pie"
           }
          ],
          "scatter": [
           {
            "fillpattern": {
             "fillmode": "overlay",
             "size": 10,
             "solidity": 0.2
            },
            "type": "scatter"
           }
          ],
          "scatter3d": [
           {
            "line": {
             "colorbar": {
              "outlinewidth": 0,
              "ticks": ""
             }
            },
            "marker": {
             "colorbar": {
              "outlinewidth": 0,
              "ticks": ""
             }
            },
            "type": "scatter3d"
           }
          ],
          "scattercarpet": [
           {
            "marker": {
             "colorbar": {
              "outlinewidth": 0,
              "ticks": ""
             }
            },
            "type": "scattercarpet"
           }
          ],
          "scattergeo": [
           {
            "marker": {
             "colorbar": {
              "outlinewidth": 0,
              "ticks": ""
             }
            },
            "type": "scattergeo"
           }
          ],
          "scattergl": [
           {
            "marker": {
             "colorbar": {
              "outlinewidth": 0,
              "ticks": ""
             }
            },
            "type": "scattergl"
           }
          ],
          "scattermapbox": [
           {
            "marker": {
             "colorbar": {
              "outlinewidth": 0,
              "ticks": ""
             }
            },
            "type": "scattermapbox"
           }
          ],
          "scatterpolar": [
           {
            "marker": {
             "colorbar": {
              "outlinewidth": 0,
              "ticks": ""
             }
            },
            "type": "scatterpolar"
           }
          ],
          "scatterpolargl": [
           {
            "marker": {
             "colorbar": {
              "outlinewidth": 0,
              "ticks": ""
             }
            },
            "type": "scatterpolargl"
           }
          ],
          "scatterternary": [
           {
            "marker": {
             "colorbar": {
              "outlinewidth": 0,
              "ticks": ""
             }
            },
            "type": "scatterternary"
           }
          ],
          "surface": [
           {
            "colorbar": {
             "outlinewidth": 0,
             "ticks": ""
            },
            "colorscale": [
             [
              0,
              "#0d0887"
             ],
             [
              0.1111111111111111,
              "#46039f"
             ],
             [
              0.2222222222222222,
              "#7201a8"
             ],
             [
              0.3333333333333333,
              "#9c179e"
             ],
             [
              0.4444444444444444,
              "#bd3786"
             ],
             [
              0.5555555555555556,
              "#d8576b"
             ],
             [
              0.6666666666666666,
              "#ed7953"
             ],
             [
              0.7777777777777778,
              "#fb9f3a"
             ],
             [
              0.8888888888888888,
              "#fdca26"
             ],
             [
              1,
              "#f0f921"
             ]
            ],
            "type": "surface"
           }
          ],
          "table": [
           {
            "cells": {
             "fill": {
              "color": "#EBF0F8"
             },
             "line": {
              "color": "white"
             }
            },
            "header": {
             "fill": {
              "color": "#C8D4E3"
             },
             "line": {
              "color": "white"
             }
            },
            "type": "table"
           }
          ]
         },
         "layout": {
          "annotationdefaults": {
           "arrowcolor": "#2a3f5f",
           "arrowhead": 0,
           "arrowwidth": 1
          },
          "autotypenumbers": "strict",
          "coloraxis": {
           "colorbar": {
            "outlinewidth": 0,
            "ticks": ""
           }
          },
          "colorscale": {
           "diverging": [
            [
             0,
             "#8e0152"
            ],
            [
             0.1,
             "#c51b7d"
            ],
            [
             0.2,
             "#de77ae"
            ],
            [
             0.3,
             "#f1b6da"
            ],
            [
             0.4,
             "#fde0ef"
            ],
            [
             0.5,
             "#f7f7f7"
            ],
            [
             0.6,
             "#e6f5d0"
            ],
            [
             0.7,
             "#b8e186"
            ],
            [
             0.8,
             "#7fbc41"
            ],
            [
             0.9,
             "#4d9221"
            ],
            [
             1,
             "#276419"
            ]
           ],
           "sequential": [
            [
             0,
             "#0d0887"
            ],
            [
             0.1111111111111111,
             "#46039f"
            ],
            [
             0.2222222222222222,
             "#7201a8"
            ],
            [
             0.3333333333333333,
             "#9c179e"
            ],
            [
             0.4444444444444444,
             "#bd3786"
            ],
            [
             0.5555555555555556,
             "#d8576b"
            ],
            [
             0.6666666666666666,
             "#ed7953"
            ],
            [
             0.7777777777777778,
             "#fb9f3a"
            ],
            [
             0.8888888888888888,
             "#fdca26"
            ],
            [
             1,
             "#f0f921"
            ]
           ],
           "sequentialminus": [
            [
             0,
             "#0d0887"
            ],
            [
             0.1111111111111111,
             "#46039f"
            ],
            [
             0.2222222222222222,
             "#7201a8"
            ],
            [
             0.3333333333333333,
             "#9c179e"
            ],
            [
             0.4444444444444444,
             "#bd3786"
            ],
            [
             0.5555555555555556,
             "#d8576b"
            ],
            [
             0.6666666666666666,
             "#ed7953"
            ],
            [
             0.7777777777777778,
             "#fb9f3a"
            ],
            [
             0.8888888888888888,
             "#fdca26"
            ],
            [
             1,
             "#f0f921"
            ]
           ]
          },
          "colorway": [
           "#636efa",
           "#EF553B",
           "#00cc96",
           "#ab63fa",
           "#FFA15A",
           "#19d3f3",
           "#FF6692",
           "#B6E880",
           "#FF97FF",
           "#FECB52"
          ],
          "font": {
           "color": "#2a3f5f"
          },
          "geo": {
           "bgcolor": "white",
           "lakecolor": "white",
           "landcolor": "#E5ECF6",
           "showlakes": true,
           "showland": true,
           "subunitcolor": "white"
          },
          "hoverlabel": {
           "align": "left"
          },
          "hovermode": "closest",
          "mapbox": {
           "style": "light"
          },
          "paper_bgcolor": "white",
          "plot_bgcolor": "#E5ECF6",
          "polar": {
           "angularaxis": {
            "gridcolor": "white",
            "linecolor": "white",
            "ticks": ""
           },
           "bgcolor": "#E5ECF6",
           "radialaxis": {
            "gridcolor": "white",
            "linecolor": "white",
            "ticks": ""
           }
          },
          "scene": {
           "xaxis": {
            "backgroundcolor": "#E5ECF6",
            "gridcolor": "white",
            "gridwidth": 2,
            "linecolor": "white",
            "showbackground": true,
            "ticks": "",
            "zerolinecolor": "white"
           },
           "yaxis": {
            "backgroundcolor": "#E5ECF6",
            "gridcolor": "white",
            "gridwidth": 2,
            "linecolor": "white",
            "showbackground": true,
            "ticks": "",
            "zerolinecolor": "white"
           },
           "zaxis": {
            "backgroundcolor": "#E5ECF6",
            "gridcolor": "white",
            "gridwidth": 2,
            "linecolor": "white",
            "showbackground": true,
            "ticks": "",
            "zerolinecolor": "white"
           }
          },
          "shapedefaults": {
           "line": {
            "color": "#2a3f5f"
           }
          },
          "ternary": {
           "aaxis": {
            "gridcolor": "white",
            "linecolor": "white",
            "ticks": ""
           },
           "baxis": {
            "gridcolor": "white",
            "linecolor": "white",
            "ticks": ""
           },
           "bgcolor": "#E5ECF6",
           "caxis": {
            "gridcolor": "white",
            "linecolor": "white",
            "ticks": ""
           }
          },
          "title": {
           "x": 0.05
          },
          "xaxis": {
           "automargin": true,
           "gridcolor": "white",
           "linecolor": "white",
           "ticks": "",
           "title": {
            "standoff": 15
           },
           "zerolinecolor": "white",
           "zerolinewidth": 2
          },
          "yaxis": {
           "automargin": true,
           "gridcolor": "white",
           "linecolor": "white",
           "ticks": "",
           "title": {
            "standoff": 15
           },
           "zerolinecolor": "white",
           "zerolinewidth": 2
          }
         }
        },
        "title": {
         "text": " Renda_Anual"
        },
        "xaxis": {
         "anchor": "y",
         "domain": [
          0,
          1
         ],
         "title": {
          "text": "Aprovado"
         }
        },
        "yaxis": {
         "anchor": "x",
         "domain": [
          0,
          1
         ],
         "title": {
          "text": "Renda_Anual"
         }
        }
       }
      }
     },
     "metadata": {},
     "output_type": "display_data"
    }
   ],
   "source": [
    "fig = px.box(df, x = 'Aprovado' , y = 'Renda_Anual',points=\"all\", title=' Renda_Anual')\n",
    "fig.show()"
   ]
  },
  {
   "cell_type": "code",
   "execution_count": 12,
   "metadata": {},
   "outputs": [
    {
     "data": {
      "application/vnd.plotly.v1+json": {
       "config": {
        "plotlyServerURL": "https://plot.ly"
       },
       "data": [
        {
         "alignmentgroup": "True",
         "boxpoints": "all",
         "hovertemplate": "Aprovado=%{x}<br>Idade=%{y}<extra></extra>",
         "legendgroup": "",
         "marker": {
          "color": "#636efa"
         },
         "name": "",
         "notched": false,
         "offsetgroup": "",
         "orientation": "v",
         "showlegend": false,
         "type": "box",
         "x": [
          false,
          false,
          false,
          false,
          true,
          false,
          false,
          false,
          false,
          false,
          true,
          false,
          false,
          true,
          false,
          true,
          false,
          false,
          false,
          false,
          false,
          true,
          false,
          false,
          true,
          false,
          false,
          false,
          false,
          false,
          false,
          false,
          false,
          false,
          false,
          false,
          false,
          false,
          true,
          false,
          false,
          false,
          false,
          false,
          false,
          false,
          false,
          false,
          true,
          false,
          false,
          false,
          false,
          false,
          false,
          false,
          true,
          false,
          false,
          false,
          false,
          false,
          false,
          false,
          true,
          true,
          false,
          false,
          false,
          false,
          false,
          false,
          false,
          true,
          false,
          false,
          false,
          true,
          false,
          false,
          false,
          true,
          true,
          false,
          false,
          false,
          false,
          false,
          false,
          false,
          false,
          false,
          false,
          false,
          false,
          false,
          false,
          false,
          true,
          false,
          false,
          false,
          false,
          false,
          true,
          false,
          false,
          false,
          false,
          true,
          true,
          true,
          true,
          false,
          false,
          false,
          false,
          false,
          false,
          true,
          true,
          false,
          false,
          true,
          false,
          true,
          false,
          false,
          false,
          false,
          true,
          false,
          false,
          false,
          false,
          true,
          false,
          false,
          false,
          true,
          false,
          false,
          false,
          false,
          false,
          false,
          false,
          true,
          false,
          false,
          false,
          false,
          true,
          true,
          false,
          true,
          true,
          false,
          false,
          true,
          false,
          false,
          true,
          false,
          false,
          false,
          false,
          false,
          false,
          false,
          false,
          true,
          false,
          false,
          false,
          false,
          true,
          true,
          true,
          false,
          true,
          true,
          false,
          true,
          false,
          false,
          true,
          false,
          false,
          false,
          false,
          false,
          false,
          false,
          false,
          true,
          true,
          false,
          false,
          false,
          true,
          false,
          false,
          false,
          false,
          false,
          false,
          false,
          false,
          false,
          false,
          false,
          false,
          false,
          true,
          false,
          true,
          false,
          false,
          false,
          true,
          false,
          false,
          true,
          false,
          true,
          false,
          true,
          true,
          true,
          false,
          false,
          true,
          true,
          false,
          false,
          false,
          false,
          true,
          false,
          true,
          true,
          false,
          false,
          true,
          false,
          true,
          true,
          false,
          true,
          false,
          false,
          false,
          false,
          false,
          false,
          false,
          false,
          false,
          false,
          false,
          false,
          false,
          false,
          false,
          false,
          true,
          false,
          false,
          false,
          false,
          false,
          true,
          false,
          true,
          true,
          false,
          false,
          true,
          false,
          false,
          false,
          false,
          false,
          false,
          false,
          true,
          false,
          false,
          true,
          true,
          false,
          false,
          false,
          true,
          false,
          true,
          false,
          true,
          false,
          false,
          false,
          false,
          false,
          false,
          true,
          false,
          false,
          false,
          false,
          false,
          false,
          false,
          false,
          false,
          false,
          false,
          false,
          false,
          false,
          false,
          true,
          false,
          false,
          false,
          false,
          false,
          false,
          false,
          false,
          false,
          true,
          false,
          true,
          false,
          true,
          false,
          true,
          false,
          true,
          false,
          false,
          false,
          false,
          false,
          false,
          false,
          false,
          false,
          false,
          true,
          true,
          false,
          true,
          true,
          true,
          true,
          false,
          true,
          true,
          false,
          false,
          false,
          false,
          true,
          false,
          true,
          false,
          false,
          false,
          false,
          false,
          false,
          false,
          false,
          true,
          false,
          false,
          false,
          true,
          false,
          false,
          false,
          true,
          false,
          false,
          false,
          true,
          true,
          false,
          true,
          false,
          true,
          false,
          false,
          false,
          false,
          true,
          false,
          false,
          true,
          false,
          false,
          false,
          false,
          false,
          false,
          true,
          false,
          false,
          false,
          true,
          true,
          true,
          false,
          false,
          false,
          false,
          false,
          false,
          true,
          false,
          true,
          false,
          false,
          false,
          false,
          true,
          true,
          false,
          false,
          false,
          false,
          true,
          true,
          false,
          false,
          false,
          false,
          true,
          true,
          false,
          false,
          false,
          true,
          true,
          false,
          false,
          true,
          false,
          false,
          false,
          false,
          true,
          true,
          false,
          false,
          true,
          false,
          false,
          false,
          false,
          false,
          true,
          true,
          false,
          false,
          false,
          true,
          false,
          false,
          false,
          false,
          false,
          true,
          true,
          false,
          true,
          false,
          true,
          false,
          false,
          true,
          false,
          false,
          false,
          false,
          false,
          true,
          true,
          false,
          true,
          true,
          true,
          false,
          false,
          true,
          false,
          false,
          false
         ],
         "x0": " ",
         "xaxis": "x",
         "y": [
          47,
          66,
          60,
          35,
          36,
          45,
          35,
          31,
          50,
          38,
          53,
          32,
          38,
          45,
          44,
          49,
          42,
          73,
          32,
          41,
          54,
          34,
          20,
          40,
          41,
          51,
          34,
          43,
          39,
          23,
          53,
          38,
          42,
          47,
          43,
          39,
          42,
          31,
          33,
          29,
          57,
          23,
          57,
          43,
          43,
          71,
          45,
          44,
          59,
          57,
          38,
          62,
          49,
          38,
          34,
          43,
          44,
          65,
          42,
          55,
          56,
          43,
          51,
          44,
          29,
          32,
          29,
          52,
          48,
          57,
          61,
          62,
          60,
          50,
          44,
          33,
          44,
          37,
          56,
          49,
          66,
          48,
          48,
          49,
          45,
          37,
          46,
          61,
          52,
          30,
          41,
          60,
          42,
          40,
          52,
          35,
          53,
          28,
          53,
          45,
          21,
          37,
          49,
          51,
          35,
          55,
          27,
          48,
          31,
          39,
          44,
          37,
          40,
          53,
          68,
          48,
          51,
          42,
          44,
          36,
          51,
          55,
          37,
          41,
          42,
          41,
          62,
          49,
          57,
          30,
          34,
          33,
          39,
          41,
          37,
          33,
          52,
          64,
          17,
          45,
          67,
          34,
          39,
          62,
          50,
          27,
          48,
          53,
          52,
          49,
          39,
          42,
          54,
          44,
          42,
          48,
          30,
          33,
          54,
          56,
          56,
          56,
          34,
          35,
          48,
          41,
          53,
          45,
          27,
          53,
          32,
          42,
          45,
          44,
          68,
          29,
          47,
          37,
          55,
          48,
          44,
          43,
          43,
          47,
          56,
          51,
          40,
          45,
          29,
          36,
          65,
          23,
          48,
          48,
          44,
          59,
          53,
          57,
          34,
          24,
          58,
          37,
          41,
          21,
          67,
          48,
          40,
          42,
          41,
          59,
          41,
          61,
          55,
          43,
          41,
          41,
          30,
          53,
          39,
          56,
          60,
          32,
          53,
          41,
          31,
          43,
          33,
          45,
          41,
          50,
          42,
          27,
          51,
          39,
          37,
          49,
          41,
          59,
          28,
          44,
          37,
          60,
          47,
          48,
          47,
          42,
          40,
          30,
          35,
          47,
          53,
          46,
          52,
          61,
          34,
          35,
          41,
          52,
          20,
          45,
          33,
          49,
          27,
          48,
          46,
          40,
          49,
          36,
          43,
          55,
          27,
          31,
          43,
          46,
          43,
          44,
          41,
          63,
          57,
          62,
          55,
          36,
          53,
          31,
          58,
          30,
          51,
          34,
          37,
          55,
          39,
          56,
          58,
          31,
          57,
          51,
          47,
          48,
          46,
          41,
          50,
          40,
          42,
          54,
          38,
          48,
          35,
          39,
          66,
          49,
          53,
          32,
          39,
          32,
          44,
          40,
          46,
          37,
          56,
          58,
          54,
          47,
          54,
          35,
          40,
          45,
          35,
          42,
          54,
          32,
          57,
          35,
          43,
          46,
          57,
          54,
          53,
          51,
          45,
          35,
          30,
          52,
          73,
          47,
          47,
          50,
          49,
          30,
          58,
          52,
          41,
          43,
          44,
          41,
          45,
          47,
          38,
          23,
          40,
          37,
          46,
          51,
          41,
          44,
          36,
          48,
          46,
          42,
          45,
          31,
          26,
          48,
          53,
          31,
          42,
          43,
          35,
          32,
          49,
          46,
          41,
          48,
          61,
          45,
          43,
          37,
          36,
          53,
          57,
          34,
          47,
          24,
          49,
          27,
          37,
          35,
          55,
          59,
          41,
          30,
          48,
          45,
          48,
          48,
          56,
          39,
          54,
          46,
          59,
          40,
          49,
          43,
          44,
          41,
          46,
          46,
          49,
          58,
          54,
          51,
          47,
          31,
          50,
          38,
          49,
          50,
          59,
          44,
          50,
          38,
          46,
          41,
          45,
          41,
          35,
          44,
          36,
          44,
          53,
          54,
          53,
          34,
          48,
          28,
          37,
          45,
          34,
          38,
          48,
          43,
          50,
          50,
          46,
          46,
          58,
          34,
          32,
          46,
          33,
          45,
          44,
          53,
          30,
          40,
          40,
          48,
          38,
          53,
          51,
          50,
          44,
          37,
          50,
          41,
          60,
          55,
          51,
          34,
          43,
          39,
          32,
          41,
          57,
          36,
          37,
          39,
          32,
          53,
          44,
          51,
          45,
          37,
          51,
          44,
          29,
          42,
          41,
          50,
          41,
          44
         ],
         "y0": " ",
         "yaxis": "y"
        }
       ],
       "layout": {
        "boxmode": "group",
        "legend": {
         "tracegroupgap": 0
        },
        "template": {
         "data": {
          "bar": [
           {
            "error_x": {
             "color": "#2a3f5f"
            },
            "error_y": {
             "color": "#2a3f5f"
            },
            "marker": {
             "line": {
              "color": "#E5ECF6",
              "width": 0.5
             },
             "pattern": {
              "fillmode": "overlay",
              "size": 10,
              "solidity": 0.2
             }
            },
            "type": "bar"
           }
          ],
          "barpolar": [
           {
            "marker": {
             "line": {
              "color": "#E5ECF6",
              "width": 0.5
             },
             "pattern": {
              "fillmode": "overlay",
              "size": 10,
              "solidity": 0.2
             }
            },
            "type": "barpolar"
           }
          ],
          "carpet": [
           {
            "aaxis": {
             "endlinecolor": "#2a3f5f",
             "gridcolor": "white",
             "linecolor": "white",
             "minorgridcolor": "white",
             "startlinecolor": "#2a3f5f"
            },
            "baxis": {
             "endlinecolor": "#2a3f5f",
             "gridcolor": "white",
             "linecolor": "white",
             "minorgridcolor": "white",
             "startlinecolor": "#2a3f5f"
            },
            "type": "carpet"
           }
          ],
          "choropleth": [
           {
            "colorbar": {
             "outlinewidth": 0,
             "ticks": ""
            },
            "type": "choropleth"
           }
          ],
          "contour": [
           {
            "colorbar": {
             "outlinewidth": 0,
             "ticks": ""
            },
            "colorscale": [
             [
              0,
              "#0d0887"
             ],
             [
              0.1111111111111111,
              "#46039f"
             ],
             [
              0.2222222222222222,
              "#7201a8"
             ],
             [
              0.3333333333333333,
              "#9c179e"
             ],
             [
              0.4444444444444444,
              "#bd3786"
             ],
             [
              0.5555555555555556,
              "#d8576b"
             ],
             [
              0.6666666666666666,
              "#ed7953"
             ],
             [
              0.7777777777777778,
              "#fb9f3a"
             ],
             [
              0.8888888888888888,
              "#fdca26"
             ],
             [
              1,
              "#f0f921"
             ]
            ],
            "type": "contour"
           }
          ],
          "contourcarpet": [
           {
            "colorbar": {
             "outlinewidth": 0,
             "ticks": ""
            },
            "type": "contourcarpet"
           }
          ],
          "heatmap": [
           {
            "colorbar": {
             "outlinewidth": 0,
             "ticks": ""
            },
            "colorscale": [
             [
              0,
              "#0d0887"
             ],
             [
              0.1111111111111111,
              "#46039f"
             ],
             [
              0.2222222222222222,
              "#7201a8"
             ],
             [
              0.3333333333333333,
              "#9c179e"
             ],
             [
              0.4444444444444444,
              "#bd3786"
             ],
             [
              0.5555555555555556,
              "#d8576b"
             ],
             [
              0.6666666666666666,
              "#ed7953"
             ],
             [
              0.7777777777777778,
              "#fb9f3a"
             ],
             [
              0.8888888888888888,
              "#fdca26"
             ],
             [
              1,
              "#f0f921"
             ]
            ],
            "type": "heatmap"
           }
          ],
          "heatmapgl": [
           {
            "colorbar": {
             "outlinewidth": 0,
             "ticks": ""
            },
            "colorscale": [
             [
              0,
              "#0d0887"
             ],
             [
              0.1111111111111111,
              "#46039f"
             ],
             [
              0.2222222222222222,
              "#7201a8"
             ],
             [
              0.3333333333333333,
              "#9c179e"
             ],
             [
              0.4444444444444444,
              "#bd3786"
             ],
             [
              0.5555555555555556,
              "#d8576b"
             ],
             [
              0.6666666666666666,
              "#ed7953"
             ],
             [
              0.7777777777777778,
              "#fb9f3a"
             ],
             [
              0.8888888888888888,
              "#fdca26"
             ],
             [
              1,
              "#f0f921"
             ]
            ],
            "type": "heatmapgl"
           }
          ],
          "histogram": [
           {
            "marker": {
             "pattern": {
              "fillmode": "overlay",
              "size": 10,
              "solidity": 0.2
             }
            },
            "type": "histogram"
           }
          ],
          "histogram2d": [
           {
            "colorbar": {
             "outlinewidth": 0,
             "ticks": ""
            },
            "colorscale": [
             [
              0,
              "#0d0887"
             ],
             [
              0.1111111111111111,
              "#46039f"
             ],
             [
              0.2222222222222222,
              "#7201a8"
             ],
             [
              0.3333333333333333,
              "#9c179e"
             ],
             [
              0.4444444444444444,
              "#bd3786"
             ],
             [
              0.5555555555555556,
              "#d8576b"
             ],
             [
              0.6666666666666666,
              "#ed7953"
             ],
             [
              0.7777777777777778,
              "#fb9f3a"
             ],
             [
              0.8888888888888888,
              "#fdca26"
             ],
             [
              1,
              "#f0f921"
             ]
            ],
            "type": "histogram2d"
           }
          ],
          "histogram2dcontour": [
           {
            "colorbar": {
             "outlinewidth": 0,
             "ticks": ""
            },
            "colorscale": [
             [
              0,
              "#0d0887"
             ],
             [
              0.1111111111111111,
              "#46039f"
             ],
             [
              0.2222222222222222,
              "#7201a8"
             ],
             [
              0.3333333333333333,
              "#9c179e"
             ],
             [
              0.4444444444444444,
              "#bd3786"
             ],
             [
              0.5555555555555556,
              "#d8576b"
             ],
             [
              0.6666666666666666,
              "#ed7953"
             ],
             [
              0.7777777777777778,
              "#fb9f3a"
             ],
             [
              0.8888888888888888,
              "#fdca26"
             ],
             [
              1,
              "#f0f921"
             ]
            ],
            "type": "histogram2dcontour"
           }
          ],
          "mesh3d": [
           {
            "colorbar": {
             "outlinewidth": 0,
             "ticks": ""
            },
            "type": "mesh3d"
           }
          ],
          "parcoords": [
           {
            "line": {
             "colorbar": {
              "outlinewidth": 0,
              "ticks": ""
             }
            },
            "type": "parcoords"
           }
          ],
          "pie": [
           {
            "automargin": true,
            "type": "pie"
           }
          ],
          "scatter": [
           {
            "fillpattern": {
             "fillmode": "overlay",
             "size": 10,
             "solidity": 0.2
            },
            "type": "scatter"
           }
          ],
          "scatter3d": [
           {
            "line": {
             "colorbar": {
              "outlinewidth": 0,
              "ticks": ""
             }
            },
            "marker": {
             "colorbar": {
              "outlinewidth": 0,
              "ticks": ""
             }
            },
            "type": "scatter3d"
           }
          ],
          "scattercarpet": [
           {
            "marker": {
             "colorbar": {
              "outlinewidth": 0,
              "ticks": ""
             }
            },
            "type": "scattercarpet"
           }
          ],
          "scattergeo": [
           {
            "marker": {
             "colorbar": {
              "outlinewidth": 0,
              "ticks": ""
             }
            },
            "type": "scattergeo"
           }
          ],
          "scattergl": [
           {
            "marker": {
             "colorbar": {
              "outlinewidth": 0,
              "ticks": ""
             }
            },
            "type": "scattergl"
           }
          ],
          "scattermapbox": [
           {
            "marker": {
             "colorbar": {
              "outlinewidth": 0,
              "ticks": ""
             }
            },
            "type": "scattermapbox"
           }
          ],
          "scatterpolar": [
           {
            "marker": {
             "colorbar": {
              "outlinewidth": 0,
              "ticks": ""
             }
            },
            "type": "scatterpolar"
           }
          ],
          "scatterpolargl": [
           {
            "marker": {
             "colorbar": {
              "outlinewidth": 0,
              "ticks": ""
             }
            },
            "type": "scatterpolargl"
           }
          ],
          "scatterternary": [
           {
            "marker": {
             "colorbar": {
              "outlinewidth": 0,
              "ticks": ""
             }
            },
            "type": "scatterternary"
           }
          ],
          "surface": [
           {
            "colorbar": {
             "outlinewidth": 0,
             "ticks": ""
            },
            "colorscale": [
             [
              0,
              "#0d0887"
             ],
             [
              0.1111111111111111,
              "#46039f"
             ],
             [
              0.2222222222222222,
              "#7201a8"
             ],
             [
              0.3333333333333333,
              "#9c179e"
             ],
             [
              0.4444444444444444,
              "#bd3786"
             ],
             [
              0.5555555555555556,
              "#d8576b"
             ],
             [
              0.6666666666666666,
              "#ed7953"
             ],
             [
              0.7777777777777778,
              "#fb9f3a"
             ],
             [
              0.8888888888888888,
              "#fdca26"
             ],
             [
              1,
              "#f0f921"
             ]
            ],
            "type": "surface"
           }
          ],
          "table": [
           {
            "cells": {
             "fill": {
              "color": "#EBF0F8"
             },
             "line": {
              "color": "white"
             }
            },
            "header": {
             "fill": {
              "color": "#C8D4E3"
             },
             "line": {
              "color": "white"
             }
            },
            "type": "table"
           }
          ]
         },
         "layout": {
          "annotationdefaults": {
           "arrowcolor": "#2a3f5f",
           "arrowhead": 0,
           "arrowwidth": 1
          },
          "autotypenumbers": "strict",
          "coloraxis": {
           "colorbar": {
            "outlinewidth": 0,
            "ticks": ""
           }
          },
          "colorscale": {
           "diverging": [
            [
             0,
             "#8e0152"
            ],
            [
             0.1,
             "#c51b7d"
            ],
            [
             0.2,
             "#de77ae"
            ],
            [
             0.3,
             "#f1b6da"
            ],
            [
             0.4,
             "#fde0ef"
            ],
            [
             0.5,
             "#f7f7f7"
            ],
            [
             0.6,
             "#e6f5d0"
            ],
            [
             0.7,
             "#b8e186"
            ],
            [
             0.8,
             "#7fbc41"
            ],
            [
             0.9,
             "#4d9221"
            ],
            [
             1,
             "#276419"
            ]
           ],
           "sequential": [
            [
             0,
             "#0d0887"
            ],
            [
             0.1111111111111111,
             "#46039f"
            ],
            [
             0.2222222222222222,
             "#7201a8"
            ],
            [
             0.3333333333333333,
             "#9c179e"
            ],
            [
             0.4444444444444444,
             "#bd3786"
            ],
            [
             0.5555555555555556,
             "#d8576b"
            ],
            [
             0.6666666666666666,
             "#ed7953"
            ],
            [
             0.7777777777777778,
             "#fb9f3a"
            ],
            [
             0.8888888888888888,
             "#fdca26"
            ],
            [
             1,
             "#f0f921"
            ]
           ],
           "sequentialminus": [
            [
             0,
             "#0d0887"
            ],
            [
             0.1111111111111111,
             "#46039f"
            ],
            [
             0.2222222222222222,
             "#7201a8"
            ],
            [
             0.3333333333333333,
             "#9c179e"
            ],
            [
             0.4444444444444444,
             "#bd3786"
            ],
            [
             0.5555555555555556,
             "#d8576b"
            ],
            [
             0.6666666666666666,
             "#ed7953"
            ],
            [
             0.7777777777777778,
             "#fb9f3a"
            ],
            [
             0.8888888888888888,
             "#fdca26"
            ],
            [
             1,
             "#f0f921"
            ]
           ]
          },
          "colorway": [
           "#636efa",
           "#EF553B",
           "#00cc96",
           "#ab63fa",
           "#FFA15A",
           "#19d3f3",
           "#FF6692",
           "#B6E880",
           "#FF97FF",
           "#FECB52"
          ],
          "font": {
           "color": "#2a3f5f"
          },
          "geo": {
           "bgcolor": "white",
           "lakecolor": "white",
           "landcolor": "#E5ECF6",
           "showlakes": true,
           "showland": true,
           "subunitcolor": "white"
          },
          "hoverlabel": {
           "align": "left"
          },
          "hovermode": "closest",
          "mapbox": {
           "style": "light"
          },
          "paper_bgcolor": "white",
          "plot_bgcolor": "#E5ECF6",
          "polar": {
           "angularaxis": {
            "gridcolor": "white",
            "linecolor": "white",
            "ticks": ""
           },
           "bgcolor": "#E5ECF6",
           "radialaxis": {
            "gridcolor": "white",
            "linecolor": "white",
            "ticks": ""
           }
          },
          "scene": {
           "xaxis": {
            "backgroundcolor": "#E5ECF6",
            "gridcolor": "white",
            "gridwidth": 2,
            "linecolor": "white",
            "showbackground": true,
            "ticks": "",
            "zerolinecolor": "white"
           },
           "yaxis": {
            "backgroundcolor": "#E5ECF6",
            "gridcolor": "white",
            "gridwidth": 2,
            "linecolor": "white",
            "showbackground": true,
            "ticks": "",
            "zerolinecolor": "white"
           },
           "zaxis": {
            "backgroundcolor": "#E5ECF6",
            "gridcolor": "white",
            "gridwidth": 2,
            "linecolor": "white",
            "showbackground": true,
            "ticks": "",
            "zerolinecolor": "white"
           }
          },
          "shapedefaults": {
           "line": {
            "color": "#2a3f5f"
           }
          },
          "ternary": {
           "aaxis": {
            "gridcolor": "white",
            "linecolor": "white",
            "ticks": ""
           },
           "baxis": {
            "gridcolor": "white",
            "linecolor": "white",
            "ticks": ""
           },
           "bgcolor": "#E5ECF6",
           "caxis": {
            "gridcolor": "white",
            "linecolor": "white",
            "ticks": ""
           }
          },
          "title": {
           "x": 0.05
          },
          "xaxis": {
           "automargin": true,
           "gridcolor": "white",
           "linecolor": "white",
           "ticks": "",
           "title": {
            "standoff": 15
           },
           "zerolinecolor": "white",
           "zerolinewidth": 2
          },
          "yaxis": {
           "automargin": true,
           "gridcolor": "white",
           "linecolor": "white",
           "ticks": "",
           "title": {
            "standoff": 15
           },
           "zerolinecolor": "white",
           "zerolinewidth": 2
          }
         }
        },
        "title": {
         "text": "Idade"
        },
        "xaxis": {
         "anchor": "y",
         "domain": [
          0,
          1
         ],
         "title": {
          "text": "Aprovado"
         }
        },
        "yaxis": {
         "anchor": "x",
         "domain": [
          0,
          1
         ],
         "title": {
          "text": "Idade"
         }
        }
       }
      }
     },
     "metadata": {},
     "output_type": "display_data"
    }
   ],
   "source": [
    "fig = px.box(df, x = 'Aprovado' , y = 'Idade',points=\"all\", title='Idade')\n",
    "fig.show()"
   ]
  },
  {
   "cell_type": "code",
   "execution_count": 13,
   "metadata": {},
   "outputs": [
    {
     "data": {
      "application/vnd.plotly.v1+json": {
       "config": {
        "plotlyServerURL": "https://plot.ly"
       },
       "data": [
        {
         "alignmentgroup": "True",
         "boxpoints": "all",
         "hovertemplate": "Aprovado=%{x}<br>Val_Emprestimo=%{y}<extra></extra>",
         "legendgroup": "",
         "marker": {
          "color": "#636efa"
         },
         "name": "",
         "notched": false,
         "offsetgroup": "",
         "orientation": "v",
         "showlegend": false,
         "type": "box",
         "x": [
          false,
          false,
          false,
          false,
          true,
          false,
          false,
          false,
          false,
          false,
          true,
          false,
          false,
          true,
          false,
          true,
          false,
          false,
          false,
          false,
          false,
          true,
          false,
          false,
          true,
          false,
          false,
          false,
          false,
          false,
          false,
          false,
          false,
          false,
          false,
          false,
          false,
          false,
          true,
          false,
          false,
          false,
          false,
          false,
          false,
          false,
          false,
          false,
          true,
          false,
          false,
          false,
          false,
          false,
          false,
          false,
          true,
          false,
          false,
          false,
          false,
          false,
          false,
          false,
          true,
          true,
          false,
          false,
          false,
          false,
          false,
          false,
          false,
          true,
          false,
          false,
          false,
          true,
          false,
          false,
          false,
          true,
          true,
          false,
          false,
          false,
          false,
          false,
          false,
          false,
          false,
          false,
          false,
          false,
          false,
          false,
          false,
          false,
          true,
          false,
          false,
          false,
          false,
          false,
          true,
          false,
          false,
          false,
          false,
          true,
          true,
          true,
          true,
          false,
          false,
          false,
          false,
          false,
          false,
          true,
          true,
          false,
          false,
          true,
          false,
          true,
          false,
          false,
          false,
          false,
          true,
          false,
          false,
          false,
          false,
          true,
          false,
          false,
          false,
          true,
          false,
          false,
          false,
          false,
          false,
          false,
          false,
          true,
          false,
          false,
          false,
          false,
          true,
          true,
          false,
          true,
          true,
          false,
          false,
          true,
          false,
          false,
          true,
          false,
          false,
          false,
          false,
          false,
          false,
          false,
          false,
          true,
          false,
          false,
          false,
          false,
          true,
          true,
          true,
          false,
          true,
          true,
          false,
          true,
          false,
          false,
          true,
          false,
          false,
          false,
          false,
          false,
          false,
          false,
          false,
          true,
          true,
          false,
          false,
          false,
          true,
          false,
          false,
          false,
          false,
          false,
          false,
          false,
          false,
          false,
          false,
          false,
          false,
          false,
          true,
          false,
          true,
          false,
          false,
          false,
          true,
          false,
          false,
          true,
          false,
          true,
          false,
          true,
          true,
          true,
          false,
          false,
          true,
          true,
          false,
          false,
          false,
          false,
          true,
          false,
          true,
          true,
          false,
          false,
          true,
          false,
          true,
          true,
          false,
          true,
          false,
          false,
          false,
          false,
          false,
          false,
          false,
          false,
          false,
          false,
          false,
          false,
          false,
          false,
          false,
          false,
          true,
          false,
          false,
          false,
          false,
          false,
          true,
          false,
          true,
          true,
          false,
          false,
          true,
          false,
          false,
          false,
          false,
          false,
          false,
          false,
          true,
          false,
          false,
          true,
          true,
          false,
          false,
          false,
          true,
          false,
          true,
          false,
          true,
          false,
          false,
          false,
          false,
          false,
          false,
          true,
          false,
          false,
          false,
          false,
          false,
          false,
          false,
          false,
          false,
          false,
          false,
          false,
          false,
          false,
          false,
          true,
          false,
          false,
          false,
          false,
          false,
          false,
          false,
          false,
          false,
          true,
          false,
          true,
          false,
          true,
          false,
          true,
          false,
          true,
          false,
          false,
          false,
          false,
          false,
          false,
          false,
          false,
          false,
          false,
          true,
          true,
          false,
          true,
          true,
          true,
          true,
          false,
          true,
          true,
          false,
          false,
          false,
          false,
          true,
          false,
          true,
          false,
          false,
          false,
          false,
          false,
          false,
          false,
          false,
          true,
          false,
          false,
          false,
          true,
          false,
          false,
          false,
          true,
          false,
          false,
          false,
          true,
          true,
          false,
          true,
          false,
          true,
          false,
          false,
          false,
          false,
          true,
          false,
          false,
          true,
          false,
          false,
          false,
          false,
          false,
          false,
          true,
          false,
          false,
          false,
          true,
          true,
          true,
          false,
          false,
          false,
          false,
          false,
          false,
          true,
          false,
          true,
          false,
          false,
          false,
          false,
          true,
          true,
          false,
          false,
          false,
          false,
          true,
          true,
          false,
          false,
          false,
          false,
          true,
          true,
          false,
          false,
          false,
          true,
          true,
          false,
          false,
          true,
          false,
          false,
          false,
          false,
          true,
          true,
          false,
          false,
          true,
          false,
          false,
          false,
          false,
          false,
          true,
          true,
          false,
          false,
          false,
          true,
          false,
          false,
          false,
          false,
          false,
          true,
          true,
          false,
          true,
          false,
          true,
          false,
          false,
          true,
          false,
          false,
          false,
          false,
          false,
          true,
          true,
          false,
          true,
          true,
          true,
          false,
          false,
          true,
          false,
          false,
          false
         ],
         "x0": " ",
         "xaxis": "x",
         "y": [
          30849.28,
          32412.19,
          27866.55,
          30601.41,
          23212.58,
          17443.15,
          16961.4,
          24281.85,
          26442.56,
          23359.27,
          30496.26,
          37210.03,
          23264.01,
          29395.33,
          28354.54,
          24497.46,
          25842.51,
          29241.33,
          26657.19,
          29970.34,
          30117.57,
          25811.86,
          21993.47,
          30875.08,
          22614,
          35852.11,
          29254.22,
          28705.73,
          31739.01,
          30653.94,
          27106.34,
          26520.32,
          30227.85,
          20715.76,
          22220.71,
          28485.87,
          26637.47,
          31314.09,
          25305,
          31254.46,
          27820.43,
          37042.43,
          30414.54,
          30506.72,
          26912.66,
          22465.4,
          22965.54,
          32608.91,
          30964.23,
          28507.77,
          27269.58,
          23135.41,
          28602.57,
          17711.46,
          24005.5,
          35356.34,
          21266.37,
          33607.85,
          32737.48,
          36334.65,
          27439,
          30842.05,
          39319.76,
          26813.16,
          26603.96,
          23006.21,
          25177.76,
          27919.23,
          19427.01,
          14244.55,
          27062.67,
          26079.85,
          18117,
          38152.27,
          21053.49,
          28339.5,
          23108.62,
          28697.16,
          27276.93,
          27185.3,
          33709.51,
          30591,
          25589.78,
          26495.18,
          26214.9,
          24980.71,
          27822.85,
          37161.48,
          22472.72,
          24328.24,
          22011.08,
          28078.31,
          38620.01,
          26861.88,
          24425.68,
          25580.82,
          33492,
          34564.48,
          23173.88,
          23360.3,
          31258.37,
          25564.78,
          24782.77,
          35631.36,
          20094.82,
          33219.36,
          26384.85,
          30969.34,
          25361.35,
          30412.5,
          27502.26,
          28186.25,
          28994.56,
          23951.08,
          32417.82,
          25944.21,
          24438.89,
          27549.31,
          23736.35,
          22933.67,
          28747.38,
          30461.54,
          34280.41,
          27682.25,
          23683.84,
          32653.43,
          21075.32,
          27682.61,
          22767.86,
          26512.51,
          40584.49,
          28167.12,
          24081.88,
          33548.03,
          25446.1,
          35200.65,
          26583.7,
          27365.47,
          28890.33,
          34724.68,
          24910.42,
          31923.1,
          25319.14,
          35438.35,
          28576.39,
          29981.74,
          27274.93,
          27691.67,
          23984.64,
          24073.78,
          33868.11,
          29455.46,
          32606.95,
          28576.06,
          34668.53,
          26473.43,
          27545.21,
          25590.66,
          18375.09,
          27678.83,
          25911.71,
          25907.87,
          40195.83,
          29549.75,
          21971.65,
          22218.08,
          28195.29,
          25665.5,
          32774.01,
          18932.12,
          35490.83,
          21650.82,
          25996.75,
          19297.66,
          25612.28,
          28598.53,
          30977.68,
          24366.27,
          26726.53,
          16109.76,
          27636.65,
          29044.04,
          17891.21,
          21655.12,
          27049.5,
          31590.12,
          32963.32,
          37300.32,
          23400.09,
          25388.03,
          29084.13,
          28048.33,
          29970.56,
          34430.42,
          21279.27,
          30940.82,
          36103.51,
          21680,
          34116.98,
          30616.77,
          32898.23,
          36907.06,
          32196.31,
          21376.78,
          35346.37,
          35833.97,
          31307.89,
          37712.2,
          28027.32,
          21729.92,
          28051.41,
          26609.64,
          28621.83,
          22311.23,
          22966.76,
          26984,
          29487.65,
          28592.96,
          30040.92,
          31459.73,
          36133.16,
          32224.61,
          26712.12,
          21292.27,
          24628.99,
          24883.77,
          31384.75,
          22486.6,
          22241.11,
          22753.03,
          30223.05,
          31837.21,
          25614.93,
          21182.49,
          27793.04,
          41315.94,
          30572.28,
          24652.59,
          28729.06,
          27032.02,
          30803.53,
          26750.07,
          36132.99,
          20019.66,
          32395.53,
          29927.14,
          33061.81,
          28955.17,
          24658.11,
          26083.18,
          22165.25,
          24288.86,
          22554.27,
          23594.3,
          27806.74,
          24408.16,
          22543.38,
          33428.16,
          24911.23,
          35352.45,
          28870.87,
          32507.9,
          24643.42,
          31243.22,
          29460.2,
          24600.52,
          33959.14,
          30167.65,
          22291.81,
          28924.54,
          32930.34,
          31855.53,
          30014.14,
          34287.27,
          34119.55,
          27594.06,
          26893.8,
          24202.36,
          25201.91,
          30003.99,
          30676.88,
          31197.93,
          20878.71,
          33082.51,
          31666.27,
          15866.36,
          31932.01,
          28186.52,
          36532.32,
          28181.46,
          30416.66,
          33441.08,
          30815,
          32006.47,
          27945.46,
          30088.9,
          30887.06,
          37000.93,
          34442.16,
          26091.55,
          14394.89,
          34154.82,
          28383.87,
          28509.41,
          18559.8,
          33996.73,
          29423.1,
          26694.05,
          20889.49,
          22678.92,
          21609.92,
          21660.56,
          34618.68,
          34226,
          21649.16,
          26683.48,
          25698.17,
          26385.59,
          28892.53,
          34395.65,
          32016.97,
          29938.4,
          30006.51,
          27427.36,
          39353.1,
          31790.76,
          27693.15,
          21023.76,
          29373.05,
          36620.75,
          26835.57,
          35198.07,
          27325.25,
          22835.73,
          21920.51,
          33618.09,
          23600.65,
          33883.91,
          25328.3,
          24804.83,
          31450.48,
          23895.43,
          22471.95,
          30643.36,
          21620.58,
          26835.02,
          29440.26,
          31557.56,
          39360.84,
          26001.93,
          35200.91,
          27920.19,
          28429.24,
          28503.01,
          26877.36,
          25374.44,
          26126.83,
          26275.79,
          28810.68,
          36989.89,
          27366.86,
          32359.07,
          31164.96,
          24002.06,
          30490.23,
          24560.34,
          30064.99,
          30080.16,
          32611.59,
          31290.23,
          25591,
          35493.93,
          34990.83,
          36795.74,
          35308.72,
          27790.7,
          23462.37,
          27033.43,
          23509.19,
          31331.22,
          34132.17,
          30979.61,
          22569.44,
          22137.41,
          29580.13,
          25520.78,
          29657.49,
          30063.64,
          26131.37,
          35937.59,
          23154.12,
          28601.82,
          26102.12,
          25939.17,
          28917.44,
          39918.85,
          18927.78,
          32359.14,
          18982.48,
          26614.47,
          30981.89,
          33613.73,
          29922.24,
          40789.92,
          29449.11,
          27289.94,
          31224.87,
          31865.07,
          14287.65,
          33104.28,
          32008.16,
          25664.44,
          26867.3,
          29582.2,
          35521.26,
          26549.79,
          29599.71,
          29725.17,
          23304.44,
          29707.01,
          40084.28,
          17832.38,
          32857.89,
          27245.68,
          29412.97,
          20849.15,
          34412.81,
          32671.96,
          33282.7,
          21640.28,
          26656.35,
          25485.21,
          34754.41,
          25191.25,
          34340.54,
          22400.01,
          16311.49,
          23469.58,
          23327.95,
          30998.85,
          28386.14,
          25421.54,
          26987.96,
          21526.68,
          26486.08,
          26660.03,
          22237.4,
          30502.22,
          29062.69,
          32754.65,
          31707.66,
          32535.12,
          27303.95,
          21488.62,
          29791.39,
          14131.85,
          20585.14,
          25326.48,
          27020.46,
          23653.68,
          24063.18,
          23655.16,
          27964.49,
          29129.98,
          28859,
          29116.47,
          26847.75,
          23227.66,
          27675.35,
          32343.31,
          32179.64,
          36682.53,
          30824.15,
          27900.55,
          26222.68,
          31225.64,
          35166.61,
          27882.6,
          25339.47,
          35984.7,
          30253.42,
          29874.26,
          35986.79,
          25953.86,
          20806.24,
          31479.46,
          30383.66,
          28116.43,
          42101.67,
          31619.63,
          26846.65,
          25658.19,
          32305.9,
          27962.13,
          22864.19,
          28951.94,
          26905.09,
          27296.59,
          32377.76,
          24617.33
         ],
         "y0": " ",
         "yaxis": "y"
        }
       ],
       "layout": {
        "boxmode": "group",
        "legend": {
         "tracegroupgap": 0
        },
        "template": {
         "data": {
          "bar": [
           {
            "error_x": {
             "color": "#2a3f5f"
            },
            "error_y": {
             "color": "#2a3f5f"
            },
            "marker": {
             "line": {
              "color": "#E5ECF6",
              "width": 0.5
             },
             "pattern": {
              "fillmode": "overlay",
              "size": 10,
              "solidity": 0.2
             }
            },
            "type": "bar"
           }
          ],
          "barpolar": [
           {
            "marker": {
             "line": {
              "color": "#E5ECF6",
              "width": 0.5
             },
             "pattern": {
              "fillmode": "overlay",
              "size": 10,
              "solidity": 0.2
             }
            },
            "type": "barpolar"
           }
          ],
          "carpet": [
           {
            "aaxis": {
             "endlinecolor": "#2a3f5f",
             "gridcolor": "white",
             "linecolor": "white",
             "minorgridcolor": "white",
             "startlinecolor": "#2a3f5f"
            },
            "baxis": {
             "endlinecolor": "#2a3f5f",
             "gridcolor": "white",
             "linecolor": "white",
             "minorgridcolor": "white",
             "startlinecolor": "#2a3f5f"
            },
            "type": "carpet"
           }
          ],
          "choropleth": [
           {
            "colorbar": {
             "outlinewidth": 0,
             "ticks": ""
            },
            "type": "choropleth"
           }
          ],
          "contour": [
           {
            "colorbar": {
             "outlinewidth": 0,
             "ticks": ""
            },
            "colorscale": [
             [
              0,
              "#0d0887"
             ],
             [
              0.1111111111111111,
              "#46039f"
             ],
             [
              0.2222222222222222,
              "#7201a8"
             ],
             [
              0.3333333333333333,
              "#9c179e"
             ],
             [
              0.4444444444444444,
              "#bd3786"
             ],
             [
              0.5555555555555556,
              "#d8576b"
             ],
             [
              0.6666666666666666,
              "#ed7953"
             ],
             [
              0.7777777777777778,
              "#fb9f3a"
             ],
             [
              0.8888888888888888,
              "#fdca26"
             ],
             [
              1,
              "#f0f921"
             ]
            ],
            "type": "contour"
           }
          ],
          "contourcarpet": [
           {
            "colorbar": {
             "outlinewidth": 0,
             "ticks": ""
            },
            "type": "contourcarpet"
           }
          ],
          "heatmap": [
           {
            "colorbar": {
             "outlinewidth": 0,
             "ticks": ""
            },
            "colorscale": [
             [
              0,
              "#0d0887"
             ],
             [
              0.1111111111111111,
              "#46039f"
             ],
             [
              0.2222222222222222,
              "#7201a8"
             ],
             [
              0.3333333333333333,
              "#9c179e"
             ],
             [
              0.4444444444444444,
              "#bd3786"
             ],
             [
              0.5555555555555556,
              "#d8576b"
             ],
             [
              0.6666666666666666,
              "#ed7953"
             ],
             [
              0.7777777777777778,
              "#fb9f3a"
             ],
             [
              0.8888888888888888,
              "#fdca26"
             ],
             [
              1,
              "#f0f921"
             ]
            ],
            "type": "heatmap"
           }
          ],
          "heatmapgl": [
           {
            "colorbar": {
             "outlinewidth": 0,
             "ticks": ""
            },
            "colorscale": [
             [
              0,
              "#0d0887"
             ],
             [
              0.1111111111111111,
              "#46039f"
             ],
             [
              0.2222222222222222,
              "#7201a8"
             ],
             [
              0.3333333333333333,
              "#9c179e"
             ],
             [
              0.4444444444444444,
              "#bd3786"
             ],
             [
              0.5555555555555556,
              "#d8576b"
             ],
             [
              0.6666666666666666,
              "#ed7953"
             ],
             [
              0.7777777777777778,
              "#fb9f3a"
             ],
             [
              0.8888888888888888,
              "#fdca26"
             ],
             [
              1,
              "#f0f921"
             ]
            ],
            "type": "heatmapgl"
           }
          ],
          "histogram": [
           {
            "marker": {
             "pattern": {
              "fillmode": "overlay",
              "size": 10,
              "solidity": 0.2
             }
            },
            "type": "histogram"
           }
          ],
          "histogram2d": [
           {
            "colorbar": {
             "outlinewidth": 0,
             "ticks": ""
            },
            "colorscale": [
             [
              0,
              "#0d0887"
             ],
             [
              0.1111111111111111,
              "#46039f"
             ],
             [
              0.2222222222222222,
              "#7201a8"
             ],
             [
              0.3333333333333333,
              "#9c179e"
             ],
             [
              0.4444444444444444,
              "#bd3786"
             ],
             [
              0.5555555555555556,
              "#d8576b"
             ],
             [
              0.6666666666666666,
              "#ed7953"
             ],
             [
              0.7777777777777778,
              "#fb9f3a"
             ],
             [
              0.8888888888888888,
              "#fdca26"
             ],
             [
              1,
              "#f0f921"
             ]
            ],
            "type": "histogram2d"
           }
          ],
          "histogram2dcontour": [
           {
            "colorbar": {
             "outlinewidth": 0,
             "ticks": ""
            },
            "colorscale": [
             [
              0,
              "#0d0887"
             ],
             [
              0.1111111111111111,
              "#46039f"
             ],
             [
              0.2222222222222222,
              "#7201a8"
             ],
             [
              0.3333333333333333,
              "#9c179e"
             ],
             [
              0.4444444444444444,
              "#bd3786"
             ],
             [
              0.5555555555555556,
              "#d8576b"
             ],
             [
              0.6666666666666666,
              "#ed7953"
             ],
             [
              0.7777777777777778,
              "#fb9f3a"
             ],
             [
              0.8888888888888888,
              "#fdca26"
             ],
             [
              1,
              "#f0f921"
             ]
            ],
            "type": "histogram2dcontour"
           }
          ],
          "mesh3d": [
           {
            "colorbar": {
             "outlinewidth": 0,
             "ticks": ""
            },
            "type": "mesh3d"
           }
          ],
          "parcoords": [
           {
            "line": {
             "colorbar": {
              "outlinewidth": 0,
              "ticks": ""
             }
            },
            "type": "parcoords"
           }
          ],
          "pie": [
           {
            "automargin": true,
            "type": "pie"
           }
          ],
          "scatter": [
           {
            "fillpattern": {
             "fillmode": "overlay",
             "size": 10,
             "solidity": 0.2
            },
            "type": "scatter"
           }
          ],
          "scatter3d": [
           {
            "line": {
             "colorbar": {
              "outlinewidth": 0,
              "ticks": ""
             }
            },
            "marker": {
             "colorbar": {
              "outlinewidth": 0,
              "ticks": ""
             }
            },
            "type": "scatter3d"
           }
          ],
          "scattercarpet": [
           {
            "marker": {
             "colorbar": {
              "outlinewidth": 0,
              "ticks": ""
             }
            },
            "type": "scattercarpet"
           }
          ],
          "scattergeo": [
           {
            "marker": {
             "colorbar": {
              "outlinewidth": 0,
              "ticks": ""
             }
            },
            "type": "scattergeo"
           }
          ],
          "scattergl": [
           {
            "marker": {
             "colorbar": {
              "outlinewidth": 0,
              "ticks": ""
             }
            },
            "type": "scattergl"
           }
          ],
          "scattermapbox": [
           {
            "marker": {
             "colorbar": {
              "outlinewidth": 0,
              "ticks": ""
             }
            },
            "type": "scattermapbox"
           }
          ],
          "scatterpolar": [
           {
            "marker": {
             "colorbar": {
              "outlinewidth": 0,
              "ticks": ""
             }
            },
            "type": "scatterpolar"
           }
          ],
          "scatterpolargl": [
           {
            "marker": {
             "colorbar": {
              "outlinewidth": 0,
              "ticks": ""
             }
            },
            "type": "scatterpolargl"
           }
          ],
          "scatterternary": [
           {
            "marker": {
             "colorbar": {
              "outlinewidth": 0,
              "ticks": ""
             }
            },
            "type": "scatterternary"
           }
          ],
          "surface": [
           {
            "colorbar": {
             "outlinewidth": 0,
             "ticks": ""
            },
            "colorscale": [
             [
              0,
              "#0d0887"
             ],
             [
              0.1111111111111111,
              "#46039f"
             ],
             [
              0.2222222222222222,
              "#7201a8"
             ],
             [
              0.3333333333333333,
              "#9c179e"
             ],
             [
              0.4444444444444444,
              "#bd3786"
             ],
             [
              0.5555555555555556,
              "#d8576b"
             ],
             [
              0.6666666666666666,
              "#ed7953"
             ],
             [
              0.7777777777777778,
              "#fb9f3a"
             ],
             [
              0.8888888888888888,
              "#fdca26"
             ],
             [
              1,
              "#f0f921"
             ]
            ],
            "type": "surface"
           }
          ],
          "table": [
           {
            "cells": {
             "fill": {
              "color": "#EBF0F8"
             },
             "line": {
              "color": "white"
             }
            },
            "header": {
             "fill": {
              "color": "#C8D4E3"
             },
             "line": {
              "color": "white"
             }
            },
            "type": "table"
           }
          ]
         },
         "layout": {
          "annotationdefaults": {
           "arrowcolor": "#2a3f5f",
           "arrowhead": 0,
           "arrowwidth": 1
          },
          "autotypenumbers": "strict",
          "coloraxis": {
           "colorbar": {
            "outlinewidth": 0,
            "ticks": ""
           }
          },
          "colorscale": {
           "diverging": [
            [
             0,
             "#8e0152"
            ],
            [
             0.1,
             "#c51b7d"
            ],
            [
             0.2,
             "#de77ae"
            ],
            [
             0.3,
             "#f1b6da"
            ],
            [
             0.4,
             "#fde0ef"
            ],
            [
             0.5,
             "#f7f7f7"
            ],
            [
             0.6,
             "#e6f5d0"
            ],
            [
             0.7,
             "#b8e186"
            ],
            [
             0.8,
             "#7fbc41"
            ],
            [
             0.9,
             "#4d9221"
            ],
            [
             1,
             "#276419"
            ]
           ],
           "sequential": [
            [
             0,
             "#0d0887"
            ],
            [
             0.1111111111111111,
             "#46039f"
            ],
            [
             0.2222222222222222,
             "#7201a8"
            ],
            [
             0.3333333333333333,
             "#9c179e"
            ],
            [
             0.4444444444444444,
             "#bd3786"
            ],
            [
             0.5555555555555556,
             "#d8576b"
            ],
            [
             0.6666666666666666,
             "#ed7953"
            ],
            [
             0.7777777777777778,
             "#fb9f3a"
            ],
            [
             0.8888888888888888,
             "#fdca26"
            ],
            [
             1,
             "#f0f921"
            ]
           ],
           "sequentialminus": [
            [
             0,
             "#0d0887"
            ],
            [
             0.1111111111111111,
             "#46039f"
            ],
            [
             0.2222222222222222,
             "#7201a8"
            ],
            [
             0.3333333333333333,
             "#9c179e"
            ],
            [
             0.4444444444444444,
             "#bd3786"
            ],
            [
             0.5555555555555556,
             "#d8576b"
            ],
            [
             0.6666666666666666,
             "#ed7953"
            ],
            [
             0.7777777777777778,
             "#fb9f3a"
            ],
            [
             0.8888888888888888,
             "#fdca26"
            ],
            [
             1,
             "#f0f921"
            ]
           ]
          },
          "colorway": [
           "#636efa",
           "#EF553B",
           "#00cc96",
           "#ab63fa",
           "#FFA15A",
           "#19d3f3",
           "#FF6692",
           "#B6E880",
           "#FF97FF",
           "#FECB52"
          ],
          "font": {
           "color": "#2a3f5f"
          },
          "geo": {
           "bgcolor": "white",
           "lakecolor": "white",
           "landcolor": "#E5ECF6",
           "showlakes": true,
           "showland": true,
           "subunitcolor": "white"
          },
          "hoverlabel": {
           "align": "left"
          },
          "hovermode": "closest",
          "mapbox": {
           "style": "light"
          },
          "paper_bgcolor": "white",
          "plot_bgcolor": "#E5ECF6",
          "polar": {
           "angularaxis": {
            "gridcolor": "white",
            "linecolor": "white",
            "ticks": ""
           },
           "bgcolor": "#E5ECF6",
           "radialaxis": {
            "gridcolor": "white",
            "linecolor": "white",
            "ticks": ""
           }
          },
          "scene": {
           "xaxis": {
            "backgroundcolor": "#E5ECF6",
            "gridcolor": "white",
            "gridwidth": 2,
            "linecolor": "white",
            "showbackground": true,
            "ticks": "",
            "zerolinecolor": "white"
           },
           "yaxis": {
            "backgroundcolor": "#E5ECF6",
            "gridcolor": "white",
            "gridwidth": 2,
            "linecolor": "white",
            "showbackground": true,
            "ticks": "",
            "zerolinecolor": "white"
           },
           "zaxis": {
            "backgroundcolor": "#E5ECF6",
            "gridcolor": "white",
            "gridwidth": 2,
            "linecolor": "white",
            "showbackground": true,
            "ticks": "",
            "zerolinecolor": "white"
           }
          },
          "shapedefaults": {
           "line": {
            "color": "#2a3f5f"
           }
          },
          "ternary": {
           "aaxis": {
            "gridcolor": "white",
            "linecolor": "white",
            "ticks": ""
           },
           "baxis": {
            "gridcolor": "white",
            "linecolor": "white",
            "ticks": ""
           },
           "bgcolor": "#E5ECF6",
           "caxis": {
            "gridcolor": "white",
            "linecolor": "white",
            "ticks": ""
           }
          },
          "title": {
           "x": 0.05
          },
          "xaxis": {
           "automargin": true,
           "gridcolor": "white",
           "linecolor": "white",
           "ticks": "",
           "title": {
            "standoff": 15
           },
           "zerolinecolor": "white",
           "zerolinewidth": 2
          },
          "yaxis": {
           "automargin": true,
           "gridcolor": "white",
           "linecolor": "white",
           "ticks": "",
           "title": {
            "standoff": 15
           },
           "zerolinecolor": "white",
           "zerolinewidth": 2
          }
         }
        },
        "title": {
         "text": "Val_Emprestimo"
        },
        "xaxis": {
         "anchor": "y",
         "domain": [
          0,
          1
         ],
         "title": {
          "text": "Aprovado"
         }
        },
        "yaxis": {
         "anchor": "x",
         "domain": [
          0,
          1
         ],
         "title": {
          "text": "Val_Emprestimo"
         }
        }
       }
      }
     },
     "metadata": {},
     "output_type": "display_data"
    }
   ],
   "source": [
    "fig = px.box(df, x = 'Aprovado' , y = 'Val_Emprestimo',points=\"all\", title='Val_Emprestimo')\n",
    "fig.show()"
   ]
  },
  {
   "cell_type": "code",
   "execution_count": 14,
   "metadata": {},
   "outputs": [
    {
     "data": {
      "application/vnd.plotly.v1+json": {
       "config": {
        "plotlyServerURL": "https://plot.ly"
       },
       "data": [
        {
         "alignmentgroup": "True",
         "boxpoints": "all",
         "hovertemplate": "Aprovado=%{x}<br>Hist_Inad=%{y}<extra></extra>",
         "legendgroup": "",
         "marker": {
          "color": "#636efa"
         },
         "name": "",
         "notched": false,
         "offsetgroup": "",
         "orientation": "v",
         "showlegend": false,
         "type": "box",
         "x": [
          false,
          false,
          false,
          false,
          true,
          false,
          false,
          false,
          false,
          false,
          true,
          false,
          false,
          true,
          false,
          true,
          false,
          false,
          false,
          false,
          false,
          true,
          false,
          false,
          true,
          false,
          false,
          false,
          false,
          false,
          false,
          false,
          false,
          false,
          false,
          false,
          false,
          false,
          true,
          false,
          false,
          false,
          false,
          false,
          false,
          false,
          false,
          false,
          true,
          false,
          false,
          false,
          false,
          false,
          false,
          false,
          true,
          false,
          false,
          false,
          false,
          false,
          false,
          false,
          true,
          true,
          false,
          false,
          false,
          false,
          false,
          false,
          false,
          true,
          false,
          false,
          false,
          true,
          false,
          false,
          false,
          true,
          true,
          false,
          false,
          false,
          false,
          false,
          false,
          false,
          false,
          false,
          false,
          false,
          false,
          false,
          false,
          false,
          true,
          false,
          false,
          false,
          false,
          false,
          true,
          false,
          false,
          false,
          false,
          true,
          true,
          true,
          true,
          false,
          false,
          false,
          false,
          false,
          false,
          true,
          true,
          false,
          false,
          true,
          false,
          true,
          false,
          false,
          false,
          false,
          true,
          false,
          false,
          false,
          false,
          true,
          false,
          false,
          false,
          true,
          false,
          false,
          false,
          false,
          false,
          false,
          false,
          true,
          false,
          false,
          false,
          false,
          true,
          true,
          false,
          true,
          true,
          false,
          false,
          true,
          false,
          false,
          true,
          false,
          false,
          false,
          false,
          false,
          false,
          false,
          false,
          true,
          false,
          false,
          false,
          false,
          true,
          true,
          true,
          false,
          true,
          true,
          false,
          true,
          false,
          false,
          true,
          false,
          false,
          false,
          false,
          false,
          false,
          false,
          false,
          true,
          true,
          false,
          false,
          false,
          true,
          false,
          false,
          false,
          false,
          false,
          false,
          false,
          false,
          false,
          false,
          false,
          false,
          false,
          true,
          false,
          true,
          false,
          false,
          false,
          true,
          false,
          false,
          true,
          false,
          true,
          false,
          true,
          true,
          true,
          false,
          false,
          true,
          true,
          false,
          false,
          false,
          false,
          true,
          false,
          true,
          true,
          false,
          false,
          true,
          false,
          true,
          true,
          false,
          true,
          false,
          false,
          false,
          false,
          false,
          false,
          false,
          false,
          false,
          false,
          false,
          false,
          false,
          false,
          false,
          false,
          true,
          false,
          false,
          false,
          false,
          false,
          true,
          false,
          true,
          true,
          false,
          false,
          true,
          false,
          false,
          false,
          false,
          false,
          false,
          false,
          true,
          false,
          false,
          true,
          true,
          false,
          false,
          false,
          true,
          false,
          true,
          false,
          true,
          false,
          false,
          false,
          false,
          false,
          false,
          true,
          false,
          false,
          false,
          false,
          false,
          false,
          false,
          false,
          false,
          false,
          false,
          false,
          false,
          false,
          false,
          true,
          false,
          false,
          false,
          false,
          false,
          false,
          false,
          false,
          false,
          true,
          false,
          true,
          false,
          true,
          false,
          true,
          false,
          true,
          false,
          false,
          false,
          false,
          false,
          false,
          false,
          false,
          false,
          false,
          true,
          true,
          false,
          true,
          true,
          true,
          true,
          false,
          true,
          true,
          false,
          false,
          false,
          false,
          true,
          false,
          true,
          false,
          false,
          false,
          false,
          false,
          false,
          false,
          false,
          true,
          false,
          false,
          false,
          true,
          false,
          false,
          false,
          true,
          false,
          false,
          false,
          true,
          true,
          false,
          true,
          false,
          true,
          false,
          false,
          false,
          false,
          true,
          false,
          false,
          true,
          false,
          false,
          false,
          false,
          false,
          false,
          true,
          false,
          false,
          false,
          true,
          true,
          true,
          false,
          false,
          false,
          false,
          false,
          false,
          true,
          false,
          true,
          false,
          false,
          false,
          false,
          true,
          true,
          false,
          false,
          false,
          false,
          true,
          true,
          false,
          false,
          false,
          false,
          true,
          true,
          false,
          false,
          false,
          true,
          true,
          false,
          false,
          true,
          false,
          false,
          false,
          false,
          true,
          true,
          false,
          false,
          true,
          false,
          false,
          false,
          false,
          false,
          true,
          true,
          false,
          false,
          false,
          true,
          false,
          false,
          false,
          false,
          false,
          true,
          true,
          false,
          true,
          false,
          true,
          false,
          false,
          true,
          false,
          false,
          false,
          false,
          false,
          true,
          true,
          false,
          true,
          true,
          true,
          false,
          false,
          true,
          false,
          false,
          false
         ],
         "x0": " ",
         "xaxis": "x",
         "y": [
          3,
          2,
          8,
          6,
          0,
          9,
          10,
          3,
          6,
          3,
          1,
          4,
          9,
          1,
          7,
          1,
          7,
          1,
          4,
          3,
          4,
          1,
          4,
          8,
          0,
          4,
          5,
          8,
          5,
          8,
          4,
          8,
          10,
          6,
          5,
          10,
          10,
          3,
          2,
          4,
          5,
          10,
          7,
          8,
          10,
          9,
          7,
          8,
          2,
          10,
          4,
          6,
          9,
          4,
          9,
          4,
          0,
          2,
          3,
          8,
          4,
          3,
          6,
          4,
          1,
          1,
          4,
          7,
          7,
          3,
          5,
          1,
          5,
          0,
          7,
          8,
          6,
          0,
          10,
          9,
          3,
          2,
          2,
          5,
          10,
          9,
          6,
          4,
          3,
          4,
          3,
          4,
          5,
          6,
          7,
          8,
          8,
          6,
          2,
          8,
          10,
          3,
          8,
          6,
          0,
          8,
          4,
          5,
          8,
          0,
          1,
          0,
          1,
          7,
          2,
          5,
          10,
          8,
          8,
          0,
          0,
          6,
          8,
          2,
          10,
          0,
          6,
          6,
          6,
          10,
          2,
          3,
          4,
          5,
          7,
          1,
          7,
          8,
          10,
          0,
          7,
          9,
          3,
          2,
          9,
          5,
          4,
          2,
          3,
          5,
          4,
          7,
          0,
          2,
          8,
          1,
          0,
          7,
          6,
          1,
          10,
          8,
          2,
          5,
          10,
          6,
          10,
          10,
          6,
          1,
          10,
          2,
          8,
          7,
          8,
          8,
          1,
          2,
          1,
          3,
          0,
          0,
          2,
          2,
          4,
          5,
          0,
          6,
          2,
          9,
          0,
          3,
          6,
          6,
          10,
          2,
          0,
          6,
          4,
          2,
          2,
          8,
          6,
          2,
          6,
          10,
          5,
          8,
          4,
          6,
          4,
          2,
          8,
          3,
          2,
          8,
          2,
          7,
          5,
          9,
          2,
          7,
          7,
          2,
          9,
          1,
          9,
          1,
          2,
          0,
          10,
          6,
          0,
          1,
          5,
          7,
          4,
          10,
          1,
          9,
          1,
          1,
          9,
          8,
          2,
          6,
          2,
          0,
          9,
          0,
          3,
          4,
          6,
          3,
          5,
          6,
          10,
          3,
          10,
          4,
          9,
          3,
          3,
          8,
          5,
          6,
          2,
          9,
          6,
          9,
          9,
          10,
          0,
          3,
          2,
          0,
          9,
          10,
          2,
          5,
          7,
          7,
          10,
          4,
          9,
          1,
          1,
          6,
          4,
          0,
          0,
          5,
          7,
          6,
          2,
          5,
          2,
          4,
          2,
          6,
          8,
          3,
          8,
          5,
          9,
          1,
          4,
          7,
          6,
          9,
          5,
          10,
          7,
          4,
          3,
          8,
          4,
          9,
          6,
          5,
          8,
          0,
          3,
          3,
          5,
          5,
          7,
          4,
          7,
          8,
          5,
          1,
          3,
          1,
          2,
          2,
          5,
          0,
          4,
          1,
          7,
          6,
          2,
          7,
          7,
          9,
          4,
          9,
          7,
          8,
          0,
          2,
          5,
          2,
          0,
          0,
          2,
          0,
          1,
          1,
          10,
          8,
          9,
          7,
          0,
          9,
          2,
          5,
          3,
          9,
          4,
          9,
          5,
          6,
          10,
          1,
          9,
          10,
          6,
          0,
          7,
          4,
          6,
          0,
          7,
          5,
          7,
          1,
          0,
          3,
          0,
          7,
          1,
          6,
          7,
          7,
          3,
          1,
          9,
          3,
          0,
          8,
          8,
          7,
          6,
          4,
          4,
          0,
          7,
          7,
          4,
          0,
          0,
          2,
          6,
          7,
          6,
          4,
          5,
          10,
          2,
          10,
          1,
          6,
          9,
          7,
          7,
          2,
          1,
          8,
          8,
          7,
          3,
          2,
          1,
          4,
          10,
          9,
          9,
          1,
          2,
          6,
          8,
          2,
          0,
          0,
          3,
          4,
          2,
          6,
          8,
          9,
          7,
          1,
          2,
          2,
          7,
          0,
          4,
          3,
          9,
          5,
          5,
          2,
          1,
          8,
          4,
          9,
          0,
          5,
          6,
          4,
          5,
          4,
          0,
          2,
          10,
          1,
          10,
          0,
          9,
          10,
          2,
          5,
          2,
          3,
          8,
          10,
          2,
          1,
          10,
          1,
          1,
          2,
          3,
          8,
          1,
          7,
          5,
          4
         ],
         "y0": " ",
         "yaxis": "y"
        }
       ],
       "layout": {
        "boxmode": "group",
        "legend": {
         "tracegroupgap": 0
        },
        "template": {
         "data": {
          "bar": [
           {
            "error_x": {
             "color": "#2a3f5f"
            },
            "error_y": {
             "color": "#2a3f5f"
            },
            "marker": {
             "line": {
              "color": "#E5ECF6",
              "width": 0.5
             },
             "pattern": {
              "fillmode": "overlay",
              "size": 10,
              "solidity": 0.2
             }
            },
            "type": "bar"
           }
          ],
          "barpolar": [
           {
            "marker": {
             "line": {
              "color": "#E5ECF6",
              "width": 0.5
             },
             "pattern": {
              "fillmode": "overlay",
              "size": 10,
              "solidity": 0.2
             }
            },
            "type": "barpolar"
           }
          ],
          "carpet": [
           {
            "aaxis": {
             "endlinecolor": "#2a3f5f",
             "gridcolor": "white",
             "linecolor": "white",
             "minorgridcolor": "white",
             "startlinecolor": "#2a3f5f"
            },
            "baxis": {
             "endlinecolor": "#2a3f5f",
             "gridcolor": "white",
             "linecolor": "white",
             "minorgridcolor": "white",
             "startlinecolor": "#2a3f5f"
            },
            "type": "carpet"
           }
          ],
          "choropleth": [
           {
            "colorbar": {
             "outlinewidth": 0,
             "ticks": ""
            },
            "type": "choropleth"
           }
          ],
          "contour": [
           {
            "colorbar": {
             "outlinewidth": 0,
             "ticks": ""
            },
            "colorscale": [
             [
              0,
              "#0d0887"
             ],
             [
              0.1111111111111111,
              "#46039f"
             ],
             [
              0.2222222222222222,
              "#7201a8"
             ],
             [
              0.3333333333333333,
              "#9c179e"
             ],
             [
              0.4444444444444444,
              "#bd3786"
             ],
             [
              0.5555555555555556,
              "#d8576b"
             ],
             [
              0.6666666666666666,
              "#ed7953"
             ],
             [
              0.7777777777777778,
              "#fb9f3a"
             ],
             [
              0.8888888888888888,
              "#fdca26"
             ],
             [
              1,
              "#f0f921"
             ]
            ],
            "type": "contour"
           }
          ],
          "contourcarpet": [
           {
            "colorbar": {
             "outlinewidth": 0,
             "ticks": ""
            },
            "type": "contourcarpet"
           }
          ],
          "heatmap": [
           {
            "colorbar": {
             "outlinewidth": 0,
             "ticks": ""
            },
            "colorscale": [
             [
              0,
              "#0d0887"
             ],
             [
              0.1111111111111111,
              "#46039f"
             ],
             [
              0.2222222222222222,
              "#7201a8"
             ],
             [
              0.3333333333333333,
              "#9c179e"
             ],
             [
              0.4444444444444444,
              "#bd3786"
             ],
             [
              0.5555555555555556,
              "#d8576b"
             ],
             [
              0.6666666666666666,
              "#ed7953"
             ],
             [
              0.7777777777777778,
              "#fb9f3a"
             ],
             [
              0.8888888888888888,
              "#fdca26"
             ],
             [
              1,
              "#f0f921"
             ]
            ],
            "type": "heatmap"
           }
          ],
          "heatmapgl": [
           {
            "colorbar": {
             "outlinewidth": 0,
             "ticks": ""
            },
            "colorscale": [
             [
              0,
              "#0d0887"
             ],
             [
              0.1111111111111111,
              "#46039f"
             ],
             [
              0.2222222222222222,
              "#7201a8"
             ],
             [
              0.3333333333333333,
              "#9c179e"
             ],
             [
              0.4444444444444444,
              "#bd3786"
             ],
             [
              0.5555555555555556,
              "#d8576b"
             ],
             [
              0.6666666666666666,
              "#ed7953"
             ],
             [
              0.7777777777777778,
              "#fb9f3a"
             ],
             [
              0.8888888888888888,
              "#fdca26"
             ],
             [
              1,
              "#f0f921"
             ]
            ],
            "type": "heatmapgl"
           }
          ],
          "histogram": [
           {
            "marker": {
             "pattern": {
              "fillmode": "overlay",
              "size": 10,
              "solidity": 0.2
             }
            },
            "type": "histogram"
           }
          ],
          "histogram2d": [
           {
            "colorbar": {
             "outlinewidth": 0,
             "ticks": ""
            },
            "colorscale": [
             [
              0,
              "#0d0887"
             ],
             [
              0.1111111111111111,
              "#46039f"
             ],
             [
              0.2222222222222222,
              "#7201a8"
             ],
             [
              0.3333333333333333,
              "#9c179e"
             ],
             [
              0.4444444444444444,
              "#bd3786"
             ],
             [
              0.5555555555555556,
              "#d8576b"
             ],
             [
              0.6666666666666666,
              "#ed7953"
             ],
             [
              0.7777777777777778,
              "#fb9f3a"
             ],
             [
              0.8888888888888888,
              "#fdca26"
             ],
             [
              1,
              "#f0f921"
             ]
            ],
            "type": "histogram2d"
           }
          ],
          "histogram2dcontour": [
           {
            "colorbar": {
             "outlinewidth": 0,
             "ticks": ""
            },
            "colorscale": [
             [
              0,
              "#0d0887"
             ],
             [
              0.1111111111111111,
              "#46039f"
             ],
             [
              0.2222222222222222,
              "#7201a8"
             ],
             [
              0.3333333333333333,
              "#9c179e"
             ],
             [
              0.4444444444444444,
              "#bd3786"
             ],
             [
              0.5555555555555556,
              "#d8576b"
             ],
             [
              0.6666666666666666,
              "#ed7953"
             ],
             [
              0.7777777777777778,
              "#fb9f3a"
             ],
             [
              0.8888888888888888,
              "#fdca26"
             ],
             [
              1,
              "#f0f921"
             ]
            ],
            "type": "histogram2dcontour"
           }
          ],
          "mesh3d": [
           {
            "colorbar": {
             "outlinewidth": 0,
             "ticks": ""
            },
            "type": "mesh3d"
           }
          ],
          "parcoords": [
           {
            "line": {
             "colorbar": {
              "outlinewidth": 0,
              "ticks": ""
             }
            },
            "type": "parcoords"
           }
          ],
          "pie": [
           {
            "automargin": true,
            "type": "pie"
           }
          ],
          "scatter": [
           {
            "fillpattern": {
             "fillmode": "overlay",
             "size": 10,
             "solidity": 0.2
            },
            "type": "scatter"
           }
          ],
          "scatter3d": [
           {
            "line": {
             "colorbar": {
              "outlinewidth": 0,
              "ticks": ""
             }
            },
            "marker": {
             "colorbar": {
              "outlinewidth": 0,
              "ticks": ""
             }
            },
            "type": "scatter3d"
           }
          ],
          "scattercarpet": [
           {
            "marker": {
             "colorbar": {
              "outlinewidth": 0,
              "ticks": ""
             }
            },
            "type": "scattercarpet"
           }
          ],
          "scattergeo": [
           {
            "marker": {
             "colorbar": {
              "outlinewidth": 0,
              "ticks": ""
             }
            },
            "type": "scattergeo"
           }
          ],
          "scattergl": [
           {
            "marker": {
             "colorbar": {
              "outlinewidth": 0,
              "ticks": ""
             }
            },
            "type": "scattergl"
           }
          ],
          "scattermapbox": [
           {
            "marker": {
             "colorbar": {
              "outlinewidth": 0,
              "ticks": ""
             }
            },
            "type": "scattermapbox"
           }
          ],
          "scatterpolar": [
           {
            "marker": {
             "colorbar": {
              "outlinewidth": 0,
              "ticks": ""
             }
            },
            "type": "scatterpolar"
           }
          ],
          "scatterpolargl": [
           {
            "marker": {
             "colorbar": {
              "outlinewidth": 0,
              "ticks": ""
             }
            },
            "type": "scatterpolargl"
           }
          ],
          "scatterternary": [
           {
            "marker": {
             "colorbar": {
              "outlinewidth": 0,
              "ticks": ""
             }
            },
            "type": "scatterternary"
           }
          ],
          "surface": [
           {
            "colorbar": {
             "outlinewidth": 0,
             "ticks": ""
            },
            "colorscale": [
             [
              0,
              "#0d0887"
             ],
             [
              0.1111111111111111,
              "#46039f"
             ],
             [
              0.2222222222222222,
              "#7201a8"
             ],
             [
              0.3333333333333333,
              "#9c179e"
             ],
             [
              0.4444444444444444,
              "#bd3786"
             ],
             [
              0.5555555555555556,
              "#d8576b"
             ],
             [
              0.6666666666666666,
              "#ed7953"
             ],
             [
              0.7777777777777778,
              "#fb9f3a"
             ],
             [
              0.8888888888888888,
              "#fdca26"
             ],
             [
              1,
              "#f0f921"
             ]
            ],
            "type": "surface"
           }
          ],
          "table": [
           {
            "cells": {
             "fill": {
              "color": "#EBF0F8"
             },
             "line": {
              "color": "white"
             }
            },
            "header": {
             "fill": {
              "color": "#C8D4E3"
             },
             "line": {
              "color": "white"
             }
            },
            "type": "table"
           }
          ]
         },
         "layout": {
          "annotationdefaults": {
           "arrowcolor": "#2a3f5f",
           "arrowhead": 0,
           "arrowwidth": 1
          },
          "autotypenumbers": "strict",
          "coloraxis": {
           "colorbar": {
            "outlinewidth": 0,
            "ticks": ""
           }
          },
          "colorscale": {
           "diverging": [
            [
             0,
             "#8e0152"
            ],
            [
             0.1,
             "#c51b7d"
            ],
            [
             0.2,
             "#de77ae"
            ],
            [
             0.3,
             "#f1b6da"
            ],
            [
             0.4,
             "#fde0ef"
            ],
            [
             0.5,
             "#f7f7f7"
            ],
            [
             0.6,
             "#e6f5d0"
            ],
            [
             0.7,
             "#b8e186"
            ],
            [
             0.8,
             "#7fbc41"
            ],
            [
             0.9,
             "#4d9221"
            ],
            [
             1,
             "#276419"
            ]
           ],
           "sequential": [
            [
             0,
             "#0d0887"
            ],
            [
             0.1111111111111111,
             "#46039f"
            ],
            [
             0.2222222222222222,
             "#7201a8"
            ],
            [
             0.3333333333333333,
             "#9c179e"
            ],
            [
             0.4444444444444444,
             "#bd3786"
            ],
            [
             0.5555555555555556,
             "#d8576b"
            ],
            [
             0.6666666666666666,
             "#ed7953"
            ],
            [
             0.7777777777777778,
             "#fb9f3a"
            ],
            [
             0.8888888888888888,
             "#fdca26"
            ],
            [
             1,
             "#f0f921"
            ]
           ],
           "sequentialminus": [
            [
             0,
             "#0d0887"
            ],
            [
             0.1111111111111111,
             "#46039f"
            ],
            [
             0.2222222222222222,
             "#7201a8"
            ],
            [
             0.3333333333333333,
             "#9c179e"
            ],
            [
             0.4444444444444444,
             "#bd3786"
            ],
            [
             0.5555555555555556,
             "#d8576b"
            ],
            [
             0.6666666666666666,
             "#ed7953"
            ],
            [
             0.7777777777777778,
             "#fb9f3a"
            ],
            [
             0.8888888888888888,
             "#fdca26"
            ],
            [
             1,
             "#f0f921"
            ]
           ]
          },
          "colorway": [
           "#636efa",
           "#EF553B",
           "#00cc96",
           "#ab63fa",
           "#FFA15A",
           "#19d3f3",
           "#FF6692",
           "#B6E880",
           "#FF97FF",
           "#FECB52"
          ],
          "font": {
           "color": "#2a3f5f"
          },
          "geo": {
           "bgcolor": "white",
           "lakecolor": "white",
           "landcolor": "#E5ECF6",
           "showlakes": true,
           "showland": true,
           "subunitcolor": "white"
          },
          "hoverlabel": {
           "align": "left"
          },
          "hovermode": "closest",
          "mapbox": {
           "style": "light"
          },
          "paper_bgcolor": "white",
          "plot_bgcolor": "#E5ECF6",
          "polar": {
           "angularaxis": {
            "gridcolor": "white",
            "linecolor": "white",
            "ticks": ""
           },
           "bgcolor": "#E5ECF6",
           "radialaxis": {
            "gridcolor": "white",
            "linecolor": "white",
            "ticks": ""
           }
          },
          "scene": {
           "xaxis": {
            "backgroundcolor": "#E5ECF6",
            "gridcolor": "white",
            "gridwidth": 2,
            "linecolor": "white",
            "showbackground": true,
            "ticks": "",
            "zerolinecolor": "white"
           },
           "yaxis": {
            "backgroundcolor": "#E5ECF6",
            "gridcolor": "white",
            "gridwidth": 2,
            "linecolor": "white",
            "showbackground": true,
            "ticks": "",
            "zerolinecolor": "white"
           },
           "zaxis": {
            "backgroundcolor": "#E5ECF6",
            "gridcolor": "white",
            "gridwidth": 2,
            "linecolor": "white",
            "showbackground": true,
            "ticks": "",
            "zerolinecolor": "white"
           }
          },
          "shapedefaults": {
           "line": {
            "color": "#2a3f5f"
           }
          },
          "ternary": {
           "aaxis": {
            "gridcolor": "white",
            "linecolor": "white",
            "ticks": ""
           },
           "baxis": {
            "gridcolor": "white",
            "linecolor": "white",
            "ticks": ""
           },
           "bgcolor": "#E5ECF6",
           "caxis": {
            "gridcolor": "white",
            "linecolor": "white",
            "ticks": ""
           }
          },
          "title": {
           "x": 0.05
          },
          "xaxis": {
           "automargin": true,
           "gridcolor": "white",
           "linecolor": "white",
           "ticks": "",
           "title": {
            "standoff": 15
           },
           "zerolinecolor": "white",
           "zerolinewidth": 2
          },
          "yaxis": {
           "automargin": true,
           "gridcolor": "white",
           "linecolor": "white",
           "ticks": "",
           "title": {
            "standoff": 15
           },
           "zerolinecolor": "white",
           "zerolinewidth": 2
          }
         }
        },
        "title": {
         "text": "Hist_Inad"
        },
        "xaxis": {
         "anchor": "y",
         "domain": [
          0,
          1
         ],
         "title": {
          "text": "Aprovado"
         }
        },
        "yaxis": {
         "anchor": "x",
         "domain": [
          0,
          1
         ],
         "title": {
          "text": "Hist_Inad"
         }
        }
       }
      }
     },
     "metadata": {},
     "output_type": "display_data"
    }
   ],
   "source": [
    "fig = px.box(df, x = 'Aprovado' , y = 'Hist_Inad',points=\"all\", title='Hist_Inad')\n",
    "fig.show()"
   ]
  },
  {
   "cell_type": "code",
   "execution_count": null,
   "metadata": {},
   "outputs": [
    {
     "data": {
      "application/vnd.plotly.v1+json": {
       "config": {
        "plotlyServerURL": "https://plot.ly"
       },
       "data": [
        {
         "marker": {
          "color": "blue"
         },
         "name": "Frequência",
         "nbinsx": 15,
         "opacity": 0.7,
         "type": "histogram",
         "x": [
          30849.28,
          32412.19,
          27866.55,
          30601.41,
          23212.58,
          17443.15,
          16961.4,
          24281.85,
          26442.56,
          23359.27,
          30496.26,
          37210.03,
          23264.01,
          29395.33,
          28354.54,
          24497.46,
          25842.51,
          29241.33,
          26657.19,
          29970.34,
          30117.57,
          25811.86,
          21993.47,
          30875.08,
          22614,
          35852.11,
          29254.22,
          28705.73,
          31739.01,
          30653.94,
          27106.34,
          26520.32,
          30227.85,
          20715.76,
          22220.71,
          28485.87,
          26637.47,
          31314.09,
          25305,
          31254.46,
          27820.43,
          37042.43,
          30414.54,
          30506.72,
          26912.66,
          22465.4,
          22965.54,
          32608.91,
          30964.23,
          28507.77,
          27269.58,
          23135.41,
          28602.57,
          17711.46,
          24005.5,
          35356.34,
          21266.37,
          33607.85,
          32737.48,
          36334.65,
          27439,
          30842.05,
          39319.76,
          26813.16,
          26603.96,
          23006.21,
          25177.76,
          27919.23,
          19427.01,
          14244.55,
          27062.67,
          26079.85,
          18117,
          38152.27,
          21053.49,
          28339.5,
          23108.62,
          28697.16,
          27276.93,
          27185.3,
          33709.51,
          30591,
          25589.78,
          26495.18,
          26214.9,
          24980.71,
          27822.85,
          37161.48,
          22472.72,
          24328.24,
          22011.08,
          28078.31,
          38620.01,
          26861.88,
          24425.68,
          25580.82,
          33492,
          34564.48,
          23173.88,
          23360.3,
          31258.37,
          25564.78,
          24782.77,
          35631.36,
          20094.82,
          33219.36,
          26384.85,
          30969.34,
          25361.35,
          30412.5,
          27502.26,
          28186.25,
          28994.56,
          23951.08,
          32417.82,
          25944.21,
          24438.89,
          27549.31,
          23736.35,
          22933.67,
          28747.38,
          30461.54,
          34280.41,
          27682.25,
          23683.84,
          32653.43,
          21075.32,
          27682.61,
          22767.86,
          26512.51,
          40584.49,
          28167.12,
          24081.88,
          33548.03,
          25446.1,
          35200.65,
          26583.7,
          27365.47,
          28890.33,
          34724.68,
          24910.42,
          31923.1,
          25319.14,
          35438.35,
          28576.39,
          29981.74,
          27274.93,
          27691.67,
          23984.64,
          24073.78,
          33868.11,
          29455.46,
          32606.95,
          28576.06,
          34668.53,
          26473.43,
          27545.21,
          25590.66,
          18375.09,
          27678.83,
          25911.71,
          25907.87,
          40195.83,
          29549.75,
          21971.65,
          22218.08,
          28195.29,
          25665.5,
          32774.01,
          18932.12,
          35490.83,
          21650.82,
          25996.75,
          19297.66,
          25612.28,
          28598.53,
          30977.68,
          24366.27,
          26726.53,
          16109.76,
          27636.65,
          29044.04,
          17891.21,
          21655.12,
          27049.5,
          31590.12,
          32963.32,
          37300.32,
          23400.09,
          25388.03,
          29084.13,
          28048.33,
          29970.56,
          34430.42,
          21279.27,
          30940.82,
          36103.51,
          21680,
          34116.98,
          30616.77,
          32898.23,
          36907.06,
          32196.31,
          21376.78,
          35346.37,
          35833.97,
          31307.89,
          37712.2,
          28027.32,
          21729.92,
          28051.41,
          26609.64,
          28621.83,
          22311.23,
          22966.76,
          26984,
          29487.65,
          28592.96,
          30040.92,
          31459.73,
          36133.16,
          32224.61,
          26712.12,
          21292.27,
          24628.99,
          24883.77,
          31384.75,
          22486.6,
          22241.11,
          22753.03,
          30223.05,
          31837.21,
          25614.93,
          21182.49,
          27793.04,
          41315.94,
          30572.28,
          24652.59,
          28729.06,
          27032.02,
          30803.53,
          26750.07,
          36132.99,
          20019.66,
          32395.53,
          29927.14,
          33061.81,
          28955.17,
          24658.11,
          26083.18,
          22165.25,
          24288.86,
          22554.27,
          23594.3,
          27806.74,
          24408.16,
          22543.38,
          33428.16,
          24911.23,
          35352.45,
          28870.87,
          32507.9,
          24643.42,
          31243.22,
          29460.2,
          24600.52,
          33959.14,
          30167.65,
          22291.81,
          28924.54,
          32930.34,
          31855.53,
          30014.14,
          34287.27,
          34119.55,
          27594.06,
          26893.8,
          24202.36,
          25201.91,
          30003.99,
          30676.88,
          31197.93,
          20878.71,
          33082.51,
          31666.27,
          15866.36,
          31932.01,
          28186.52,
          36532.32,
          28181.46,
          30416.66,
          33441.08,
          30815,
          32006.47,
          27945.46,
          30088.9,
          30887.06,
          37000.93,
          34442.16,
          26091.55,
          14394.89,
          34154.82,
          28383.87,
          28509.41,
          18559.8,
          33996.73,
          29423.1,
          26694.05,
          20889.49,
          22678.92,
          21609.92,
          21660.56,
          34618.68,
          34226,
          21649.16,
          26683.48,
          25698.17,
          26385.59,
          28892.53,
          34395.65,
          32016.97,
          29938.4,
          30006.51,
          27427.36,
          39353.1,
          31790.76,
          27693.15,
          21023.76,
          29373.05,
          36620.75,
          26835.57,
          35198.07,
          27325.25,
          22835.73,
          21920.51,
          33618.09,
          23600.65,
          33883.91,
          25328.3,
          24804.83,
          31450.48,
          23895.43,
          22471.95,
          30643.36,
          21620.58,
          26835.02,
          29440.26,
          31557.56,
          39360.84,
          26001.93,
          35200.91,
          27920.19,
          28429.24,
          28503.01,
          26877.36,
          25374.44,
          26126.83,
          26275.79,
          28810.68,
          36989.89,
          27366.86,
          32359.07,
          31164.96,
          24002.06,
          30490.23,
          24560.34,
          30064.99,
          30080.16,
          32611.59,
          31290.23,
          25591,
          35493.93,
          34990.83,
          36795.74,
          35308.72,
          27790.7,
          23462.37,
          27033.43,
          23509.19,
          31331.22,
          34132.17,
          30979.61,
          22569.44,
          22137.41,
          29580.13,
          25520.78,
          29657.49,
          30063.64,
          26131.37,
          35937.59,
          23154.12,
          28601.82,
          26102.12,
          25939.17,
          28917.44,
          39918.85,
          18927.78,
          32359.14,
          18982.48,
          26614.47,
          30981.89,
          33613.73,
          29922.24,
          40789.92,
          29449.11,
          27289.94,
          31224.87,
          31865.07,
          14287.65,
          33104.28,
          32008.16,
          25664.44,
          26867.3,
          29582.2,
          35521.26,
          26549.79,
          29599.71,
          29725.17,
          23304.44,
          29707.01,
          40084.28,
          17832.38,
          32857.89,
          27245.68,
          29412.97,
          20849.15,
          34412.81,
          32671.96,
          33282.7,
          21640.28,
          26656.35,
          25485.21,
          34754.41,
          25191.25,
          34340.54,
          22400.01,
          16311.49,
          23469.58,
          23327.95,
          30998.85,
          28386.14,
          25421.54,
          26987.96,
          21526.68,
          26486.08,
          26660.03,
          22237.4,
          30502.22,
          29062.69,
          32754.65,
          31707.66,
          32535.12,
          27303.95,
          21488.62,
          29791.39,
          14131.85,
          20585.14,
          25326.48,
          27020.46,
          23653.68,
          24063.18,
          23655.16,
          27964.49,
          29129.98,
          28859,
          29116.47,
          26847.75,
          23227.66,
          27675.35,
          32343.31,
          32179.64,
          36682.53,
          30824.15,
          27900.55,
          26222.68,
          31225.64,
          35166.61,
          27882.6,
          25339.47,
          35984.7,
          30253.42,
          29874.26,
          35986.79,
          25953.86,
          20806.24,
          31479.46,
          30383.66,
          28116.43,
          42101.67,
          31619.63,
          26846.65,
          25658.19,
          32305.9,
          27962.13,
          22864.19,
          28951.94,
          26905.09,
          27296.59,
          32377.76,
          24617.33
         ]
        }
       ],
       "layout": {
        "barmode": "overlay",
        "legend": {
         "title": {
          "text": "Legenda"
         }
        },
        "template": {
         "data": {
          "bar": [
           {
            "error_x": {
             "color": "#2a3f5f"
            },
            "error_y": {
             "color": "#2a3f5f"
            },
            "marker": {
             "line": {
              "color": "#E5ECF6",
              "width": 0.5
             },
             "pattern": {
              "fillmode": "overlay",
              "size": 10,
              "solidity": 0.2
             }
            },
            "type": "bar"
           }
          ],
          "barpolar": [
           {
            "marker": {
             "line": {
              "color": "#E5ECF6",
              "width": 0.5
             },
             "pattern": {
              "fillmode": "overlay",
              "size": 10,
              "solidity": 0.2
             }
            },
            "type": "barpolar"
           }
          ],
          "carpet": [
           {
            "aaxis": {
             "endlinecolor": "#2a3f5f",
             "gridcolor": "white",
             "linecolor": "white",
             "minorgridcolor": "white",
             "startlinecolor": "#2a3f5f"
            },
            "baxis": {
             "endlinecolor": "#2a3f5f",
             "gridcolor": "white",
             "linecolor": "white",
             "minorgridcolor": "white",
             "startlinecolor": "#2a3f5f"
            },
            "type": "carpet"
           }
          ],
          "choropleth": [
           {
            "colorbar": {
             "outlinewidth": 0,
             "ticks": ""
            },
            "type": "choropleth"
           }
          ],
          "contour": [
           {
            "colorbar": {
             "outlinewidth": 0,
             "ticks": ""
            },
            "colorscale": [
             [
              0,
              "#0d0887"
             ],
             [
              0.1111111111111111,
              "#46039f"
             ],
             [
              0.2222222222222222,
              "#7201a8"
             ],
             [
              0.3333333333333333,
              "#9c179e"
             ],
             [
              0.4444444444444444,
              "#bd3786"
             ],
             [
              0.5555555555555556,
              "#d8576b"
             ],
             [
              0.6666666666666666,
              "#ed7953"
             ],
             [
              0.7777777777777778,
              "#fb9f3a"
             ],
             [
              0.8888888888888888,
              "#fdca26"
             ],
             [
              1,
              "#f0f921"
             ]
            ],
            "type": "contour"
           }
          ],
          "contourcarpet": [
           {
            "colorbar": {
             "outlinewidth": 0,
             "ticks": ""
            },
            "type": "contourcarpet"
           }
          ],
          "heatmap": [
           {
            "colorbar": {
             "outlinewidth": 0,
             "ticks": ""
            },
            "colorscale": [
             [
              0,
              "#0d0887"
             ],
             [
              0.1111111111111111,
              "#46039f"
             ],
             [
              0.2222222222222222,
              "#7201a8"
             ],
             [
              0.3333333333333333,
              "#9c179e"
             ],
             [
              0.4444444444444444,
              "#bd3786"
             ],
             [
              0.5555555555555556,
              "#d8576b"
             ],
             [
              0.6666666666666666,
              "#ed7953"
             ],
             [
              0.7777777777777778,
              "#fb9f3a"
             ],
             [
              0.8888888888888888,
              "#fdca26"
             ],
             [
              1,
              "#f0f921"
             ]
            ],
            "type": "heatmap"
           }
          ],
          "heatmapgl": [
           {
            "colorbar": {
             "outlinewidth": 0,
             "ticks": ""
            },
            "colorscale": [
             [
              0,
              "#0d0887"
             ],
             [
              0.1111111111111111,
              "#46039f"
             ],
             [
              0.2222222222222222,
              "#7201a8"
             ],
             [
              0.3333333333333333,
              "#9c179e"
             ],
             [
              0.4444444444444444,
              "#bd3786"
             ],
             [
              0.5555555555555556,
              "#d8576b"
             ],
             [
              0.6666666666666666,
              "#ed7953"
             ],
             [
              0.7777777777777778,
              "#fb9f3a"
             ],
             [
              0.8888888888888888,
              "#fdca26"
             ],
             [
              1,
              "#f0f921"
             ]
            ],
            "type": "heatmapgl"
           }
          ],
          "histogram": [
           {
            "marker": {
             "pattern": {
              "fillmode": "overlay",
              "size": 10,
              "solidity": 0.2
             }
            },
            "type": "histogram"
           }
          ],
          "histogram2d": [
           {
            "colorbar": {
             "outlinewidth": 0,
             "ticks": ""
            },
            "colorscale": [
             [
              0,
              "#0d0887"
             ],
             [
              0.1111111111111111,
              "#46039f"
             ],
             [
              0.2222222222222222,
              "#7201a8"
             ],
             [
              0.3333333333333333,
              "#9c179e"
             ],
             [
              0.4444444444444444,
              "#bd3786"
             ],
             [
              0.5555555555555556,
              "#d8576b"
             ],
             [
              0.6666666666666666,
              "#ed7953"
             ],
             [
              0.7777777777777778,
              "#fb9f3a"
             ],
             [
              0.8888888888888888,
              "#fdca26"
             ],
             [
              1,
              "#f0f921"
             ]
            ],
            "type": "histogram2d"
           }
          ],
          "histogram2dcontour": [
           {
            "colorbar": {
             "outlinewidth": 0,
             "ticks": ""
            },
            "colorscale": [
             [
              0,
              "#0d0887"
             ],
             [
              0.1111111111111111,
              "#46039f"
             ],
             [
              0.2222222222222222,
              "#7201a8"
             ],
             [
              0.3333333333333333,
              "#9c179e"
             ],
             [
              0.4444444444444444,
              "#bd3786"
             ],
             [
              0.5555555555555556,
              "#d8576b"
             ],
             [
              0.6666666666666666,
              "#ed7953"
             ],
             [
              0.7777777777777778,
              "#fb9f3a"
             ],
             [
              0.8888888888888888,
              "#fdca26"
             ],
             [
              1,
              "#f0f921"
             ]
            ],
            "type": "histogram2dcontour"
           }
          ],
          "mesh3d": [
           {
            "colorbar": {
             "outlinewidth": 0,
             "ticks": ""
            },
            "type": "mesh3d"
           }
          ],
          "parcoords": [
           {
            "line": {
             "colorbar": {
              "outlinewidth": 0,
              "ticks": ""
             }
            },
            "type": "parcoords"
           }
          ],
          "pie": [
           {
            "automargin": true,
            "type": "pie"
           }
          ],
          "scatter": [
           {
            "fillpattern": {
             "fillmode": "overlay",
             "size": 10,
             "solidity": 0.2
            },
            "type": "scatter"
           }
          ],
          "scatter3d": [
           {
            "line": {
             "colorbar": {
              "outlinewidth": 0,
              "ticks": ""
             }
            },
            "marker": {
             "colorbar": {
              "outlinewidth": 0,
              "ticks": ""
             }
            },
            "type": "scatter3d"
           }
          ],
          "scattercarpet": [
           {
            "marker": {
             "colorbar": {
              "outlinewidth": 0,
              "ticks": ""
             }
            },
            "type": "scattercarpet"
           }
          ],
          "scattergeo": [
           {
            "marker": {
             "colorbar": {
              "outlinewidth": 0,
              "ticks": ""
             }
            },
            "type": "scattergeo"
           }
          ],
          "scattergl": [
           {
            "marker": {
             "colorbar": {
              "outlinewidth": 0,
              "ticks": ""
             }
            },
            "type": "scattergl"
           }
          ],
          "scattermapbox": [
           {
            "marker": {
             "colorbar": {
              "outlinewidth": 0,
              "ticks": ""
             }
            },
            "type": "scattermapbox"
           }
          ],
          "scatterpolar": [
           {
            "marker": {
             "colorbar": {
              "outlinewidth": 0,
              "ticks": ""
             }
            },
            "type": "scatterpolar"
           }
          ],
          "scatterpolargl": [
           {
            "marker": {
             "colorbar": {
              "outlinewidth": 0,
              "ticks": ""
             }
            },
            "type": "scatterpolargl"
           }
          ],
          "scatterternary": [
           {
            "marker": {
             "colorbar": {
              "outlinewidth": 0,
              "ticks": ""
             }
            },
            "type": "scatterternary"
           }
          ],
          "surface": [
           {
            "colorbar": {
             "outlinewidth": 0,
             "ticks": ""
            },
            "colorscale": [
             [
              0,
              "#0d0887"
             ],
             [
              0.1111111111111111,
              "#46039f"
             ],
             [
              0.2222222222222222,
              "#7201a8"
             ],
             [
              0.3333333333333333,
              "#9c179e"
             ],
             [
              0.4444444444444444,
              "#bd3786"
             ],
             [
              0.5555555555555556,
              "#d8576b"
             ],
             [
              0.6666666666666666,
              "#ed7953"
             ],
             [
              0.7777777777777778,
              "#fb9f3a"
             ],
             [
              0.8888888888888888,
              "#fdca26"
             ],
             [
              1,
              "#f0f921"
             ]
            ],
            "type": "surface"
           }
          ],
          "table": [
           {
            "cells": {
             "fill": {
              "color": "#EBF0F8"
             },
             "line": {
              "color": "white"
             }
            },
            "header": {
             "fill": {
              "color": "#C8D4E3"
             },
             "line": {
              "color": "white"
             }
            },
            "type": "table"
           }
          ]
         },
         "layout": {
          "annotationdefaults": {
           "arrowcolor": "#2a3f5f",
           "arrowhead": 0,
           "arrowwidth": 1
          },
          "autotypenumbers": "strict",
          "coloraxis": {
           "colorbar": {
            "outlinewidth": 0,
            "ticks": ""
           }
          },
          "colorscale": {
           "diverging": [
            [
             0,
             "#8e0152"
            ],
            [
             0.1,
             "#c51b7d"
            ],
            [
             0.2,
             "#de77ae"
            ],
            [
             0.3,
             "#f1b6da"
            ],
            [
             0.4,
             "#fde0ef"
            ],
            [
             0.5,
             "#f7f7f7"
            ],
            [
             0.6,
             "#e6f5d0"
            ],
            [
             0.7,
             "#b8e186"
            ],
            [
             0.8,
             "#7fbc41"
            ],
            [
             0.9,
             "#4d9221"
            ],
            [
             1,
             "#276419"
            ]
           ],
           "sequential": [
            [
             0,
             "#0d0887"
            ],
            [
             0.1111111111111111,
             "#46039f"
            ],
            [
             0.2222222222222222,
             "#7201a8"
            ],
            [
             0.3333333333333333,
             "#9c179e"
            ],
            [
             0.4444444444444444,
             "#bd3786"
            ],
            [
             0.5555555555555556,
             "#d8576b"
            ],
            [
             0.6666666666666666,
             "#ed7953"
            ],
            [
             0.7777777777777778,
             "#fb9f3a"
            ],
            [
             0.8888888888888888,
             "#fdca26"
            ],
            [
             1,
             "#f0f921"
            ]
           ],
           "sequentialminus": [
            [
             0,
             "#0d0887"
            ],
            [
             0.1111111111111111,
             "#46039f"
            ],
            [
             0.2222222222222222,
             "#7201a8"
            ],
            [
             0.3333333333333333,
             "#9c179e"
            ],
            [
             0.4444444444444444,
             "#bd3786"
            ],
            [
             0.5555555555555556,
             "#d8576b"
            ],
            [
             0.6666666666666666,
             "#ed7953"
            ],
            [
             0.7777777777777778,
             "#fb9f3a"
            ],
            [
             0.8888888888888888,
             "#fdca26"
            ],
            [
             1,
             "#f0f921"
            ]
           ]
          },
          "colorway": [
           "#636efa",
           "#EF553B",
           "#00cc96",
           "#ab63fa",
           "#FFA15A",
           "#19d3f3",
           "#FF6692",
           "#B6E880",
           "#FF97FF",
           "#FECB52"
          ],
          "font": {
           "color": "#2a3f5f"
          },
          "geo": {
           "bgcolor": "white",
           "lakecolor": "white",
           "landcolor": "#E5ECF6",
           "showlakes": true,
           "showland": true,
           "subunitcolor": "white"
          },
          "hoverlabel": {
           "align": "left"
          },
          "hovermode": "closest",
          "mapbox": {
           "style": "light"
          },
          "paper_bgcolor": "white",
          "plot_bgcolor": "#E5ECF6",
          "polar": {
           "angularaxis": {
            "gridcolor": "white",
            "linecolor": "white",
            "ticks": ""
           },
           "bgcolor": "#E5ECF6",
           "radialaxis": {
            "gridcolor": "white",
            "linecolor": "white",
            "ticks": ""
           }
          },
          "scene": {
           "xaxis": {
            "backgroundcolor": "#E5ECF6",
            "gridcolor": "white",
            "gridwidth": 2,
            "linecolor": "white",
            "showbackground": true,
            "ticks": "",
            "zerolinecolor": "white"
           },
           "yaxis": {
            "backgroundcolor": "#E5ECF6",
            "gridcolor": "white",
            "gridwidth": 2,
            "linecolor": "white",
            "showbackground": true,
            "ticks": "",
            "zerolinecolor": "white"
           },
           "zaxis": {
            "backgroundcolor": "#E5ECF6",
            "gridcolor": "white",
            "gridwidth": 2,
            "linecolor": "white",
            "showbackground": true,
            "ticks": "",
            "zerolinecolor": "white"
           }
          },
          "shapedefaults": {
           "line": {
            "color": "#2a3f5f"
           }
          },
          "ternary": {
           "aaxis": {
            "gridcolor": "white",
            "linecolor": "white",
            "ticks": ""
           },
           "baxis": {
            "gridcolor": "white",
            "linecolor": "white",
            "ticks": ""
           },
           "bgcolor": "#E5ECF6",
           "caxis": {
            "gridcolor": "white",
            "linecolor": "white",
            "ticks": ""
           }
          },
          "title": {
           "x": 0.05
          },
          "xaxis": {
           "automargin": true,
           "gridcolor": "white",
           "linecolor": "white",
           "ticks": "",
           "title": {
            "standoff": 15
           },
           "zerolinecolor": "white",
           "zerolinewidth": 2
          },
          "yaxis": {
           "automargin": true,
           "gridcolor": "white",
           "linecolor": "white",
           "ticks": "",
           "title": {
            "standoff": 15
           },
           "zerolinecolor": "white",
           "zerolinewidth": 2
          }
         }
        },
        "title": {
         "text": "Val_Emprestimo"
        },
        "xaxis": {
         "title": {
          "text": "Valores"
         }
        },
        "yaxis": {
         "title": {
          "text": "Frequência"
         }
        },
        "yaxis2": {
         "overlaying": "y",
         "side": "right",
         "title": {
          "text": "Percentual (%)"
         }
        }
       }
      }
     },
     "metadata": {},
     "output_type": "display_data"
    }
   ],
   "source": [
    "# Criando os dados do histograma\n",
    "fig = go.Figure()\n",
    "espacos = 15\n",
    "estudo = df['Val_Emprestimo']\n",
    "titulo =  'Val_Emprestimo'\n",
    "\n",
    "# Valores absolutos\n",
    "fig.add_trace(\n",
    "    go.Histogram(\n",
    "        x = estudo,\n",
    "        nbinsx = espacos,\n",
    "        name = 'Frequência',  # Nome da legenda\n",
    "        opacity = 0.7,\n",
    "        marker = dict(color='blue')\n",
    "    )\n",
    ")\n",
    "\n",
    "# Configurando eixos e layout\n",
    "fig.update_layout(\n",
    "    barmode='overlay',  # Sobrepõe os gráficos\n",
    "    title= titulo,\n",
    "    xaxis_title='Valores',\n",
    "    yaxis_title='Frequência',\n",
    "    yaxis2=dict(\n",
    "        title='Percentual (%)',\n",
    "        overlaying='y',  # Sobrepõe o eixo Y principal\n",
    "        side='right',  # Coloca o eixo à direita\n",
    "    ),\n",
    "    legend=dict(title='Legenda'),\n",
    ")\n",
    "\n",
    "fig.show()"
   ]
  },
  {
   "cell_type": "code",
   "execution_count": 16,
   "metadata": {},
   "outputs": [
    {
     "data": {
      "application/vnd.plotly.v1+json": {
       "config": {
        "plotlyServerURL": "https://plot.ly"
       },
       "data": [
        {
         "marker": {
          "color": "blue"
         },
         "name": "Frequência",
         "nbinsx": 15,
         "opacity": 0.7,
         "type": "histogram",
         "x": [
          122744.11,
          128962.66,
          110876.31,
          121757.87,
          92358.95,
          69403.38,
          67486.57,
          96613.39,
          105210.5,
          92942.59,
          121339.5,
          148052.45,
          92563.6,
          116959.07,
          112817.96,
          97471.28,
          102823.01,
          116346.32,
          106064.48,
          119246.96,
          119832.74,
          102701.04,
          87508.34,
          122846.77,
          89977.3,
          142649.53,
          116397.63,
          114215.26,
          126284.2,
          121966.87,
          107851.59,
          105519.9,
          120271.53,
          82424.52,
          88412.48,
          113340.47,
          105986,
          124593.51,
          100684.34,
          124356.26,
          110692.8,
          147385.62,
          121014.34,
          121381.11,
          107080.96,
          89386.06,
          91376.04,
          129745.36,
          123201.45,
          113427.62,
          108501.09,
          92051.9,
          113804.82,
          70470.93,
          95513.85,
          140676.93,
          84615.33,
          133719.98,
          130256.93,
          144569.47,
          109175.16,
          122715.35,
          156446.7,
          106685.07,
          105852.7,
          91537.83,
          100178.07,
          111085.92,
          77296.8,
          56676.69,
          107677.82,
          103767.35,
          72084.51,
          151801.48,
          83768.3,
          112758.09,
          91945.3,
          114181.18,
          108530.32,
          108165.74,
          134124.47,
          121716.46,
          101817.43,
          105419.86,
          104304.69,
          99394.06,
          110702.46,
          147859.29,
          89415.16,
          96797.96,
          87578.39,
          111718.89,
          153662.51,
          106878.89,
          97185.69,
          101781.8,
          133259.04,
          137526.26,
          92204.96,
          92946.7,
          124371.82,
          101717.97,
          98606.47,
          141771.18,
          79953.93,
          132174.23,
          104980.89,
          123221.8,
          100908.53,
          121006.21,
          109426.85,
          112148.35,
          115364.5,
          95297.31,
          128985.06,
          103227.67,
          97238.23,
          109614.06,
          94442.95,
          91249.22,
          114381.01,
          121201.35,
          136395.97,
          110143,
          94234,
          129922.5,
          83855.17,
          110144.44,
          90589.5,
          105488.83,
          161478.87,
          112072.23,
          95817.75,
          133481.99,
          101245.77,
          140057.47,
          105772.09,
          108882.59,
          114949.77,
          138163.65,
          99114.39,
          127016.63,
          100740.6,
          141003.24,
          113700.64,
          119292.29,
          108522.38,
          110180.52,
          95430.84,
          95785.54,
          134755.52,
          117198.32,
          129737.57,
          113699.34,
          137940.27,
          105333.32,
          109597.78,
          101820.93,
          73111.4,
          110129.42,
          103098.32,
          103083.06,
          159932.45,
          117573.5,
          87421.51,
          88402.02,
          112184.33,
          102118.71,
          130402.27,
          75327.73,
          141212.03,
          86144.96,
          103436.68,
          76782.14,
          101906.96,
          113788.74,
          123254.99,
          96949.29,
          106340.39,
          64098.04,
          109961.58,
          115561.36,
          71186.11,
          86162.08,
          107625.4,
          125691.77,
          131155.5,
          148411.71,
          93105.03,
          101014.7,
          115720.87,
          111599.61,
          119247.83,
          136992.87,
          84666.65,
          123108.34,
          143649.79,
          86261.09,
          135745.73,
          121819,
          130896.52,
          146846.98,
          128103.7,
          85054.62,
          140637.28,
          142577.35,
          124568.85,
          150050.5,
          111516,
          86459.69,
          111611.86,
          105875.28,
          113881.44,
          88772.62,
          91380.88,
          107364.8,
          117326.41,
          113766.6,
          119527.77,
          125172.96,
          143767.76,
          128216.29,
          106283.03,
          84718.35,
          97994.63,
          99008.34,
          124874.63,
          89470.42,
          88493.62,
          90530.47,
          120252.43,
          126674.91,
          101917.49,
          84281.58,
          110583.85,
          164389.17,
          121641.96,
          98088.52,
          114308.1,
          107555.87,
          122562.07,
          106434.02,
          143767.1,
          79654.88,
          128896.36,
          119075.04,
          131547.37,
          115207.74,
          98110.48,
          103780.6,
          88191.8,
          96641.31,
          89739.64,
          93877.74,
          110638.34,
          97115.97,
          89696.32,
          133005.04,
          99117.6,
          140661.47,
          114872.33,
          129343.48,
          98052.01,
          124311.54,
          117217.18,
          97881.33,
          135117.72,
          120032.02,
          88695.38,
          115085.88,
          131024.28,
          126747.78,
          119421.23,
          136423.29,
          135755.94,
          109792.13,
          107005.92,
          96297.13,
          100274.15,
          119380.84,
          122058.13,
          124131.32,
          83072.88,
          131629.74,
          125994.78,
          63129.59,
          127052.1,
          112149.44,
          145355.95,
          112129.3,
          121022.79,
          133056.42,
          122607.69,
          127348.35,
          111190.3,
          119718.66,
          122894.43,
          147220.49,
          137039.56,
          103813.91,
          57274.85,
          135896.29,
          112934.66,
          113434.16,
          73846.32,
          135267.29,
          117069.57,
          106211.14,
          83115.77,
          90235.6,
          85982.24,
          86183.72,
          137741.92,
          136179.49,
          86138.35,
          106169.07,
          102248.69,
          104983.82,
          114958.53,
          136854.51,
          127390.15,
          119119.88,
          119390.84,
          109128.84,
          156579.37,
          126490.11,
          110186.37,
          83650,
          116870.42,
          145707.8,
          106774.23,
          140047.2,
          108722.59,
          90859.54,
          87218.02,
          133760.73,
          93903.03,
          134818.37,
          100777.05,
          98694.23,
          125136.16,
          95075.91,
          89412.12,
          121924.77,
          86024.66,
          106772.04,
          117137.85,
          125562.23,
          156610.16,
          103457.31,
          140058.52,
          111089.76,
          113115.17,
          113408.7,
          106940.5,
          100960.62,
          103954.26,
          104546.94,
          114632.87,
          147176.54,
          108888.15,
          128751.29,
          124000.13,
          95500.16,
          121315.51,
          97721.48,
          119623.55,
          119683.9,
          129756.02,
          124498.57,
          101822.3,
          141224.39,
          139222.63,
          146404.05,
          140487.48,
          110574.51,
          93352.81,
          107561.48,
          93539.1,
          124661.64,
          135806.16,
          123262.65,
          89800,
          88081.05,
          117694.36,
          101542.9,
          118002.17,
          119618.16,
          103972.32,
          142989.64,
          92126.34,
          113801.82,
          103855.95,
          103207.58,
          115057.64,
          158830.41,
          75310.45,
          128751.58,
          75528.09,
          105894.52,
          123271.74,
          133743.37,
          119055.55,
          162296.24,
          117173.04,
          108582.08,
          124238.52,
          126785.76,
          56848.15,
          131716.35,
          127355.08,
          102114.48,
          106900.49,
          117702.62,
          141333.13,
          105637.17,
          117772.27,
          118271.44,
          92724.46,
          118199.19,
          159488.6,
          70952.03,
          130736.01,
          108406,
          117029.28,
          82955.27,
          136922.78,
          129996.22,
          132426.27,
          86103.03,
          106061.12,
          101401.37,
          138281.95,
          100231.73,
          136635.24,
          89125.88,
          64900.66,
          93381.52,
          92817.98,
          123339.21,
          112943.67,
          101148.02,
          107380.56,
          85651.03,
          105383.66,
          106075.76,
          88478.88,
          121363.22,
          115635.54,
          130325.24,
          126159.46,
          129451.79,
          108637.82,
          85499.61,
          118534.94,
          56228.26,
          81904.81,
          100769.81,
          107509.87,
          94114.02,
          95743.35,
          94119.9,
          111266.02,
          115903.3,
          114825.13,
          115849.53,
          106822.68,
          92418.96,
          110115.57,
          128688.59,
          128037.37,
          145953.61,
          122644.12,
          111011.6,
          104335.62,
          124241.59,
          139922.03,
          110940.18,
          100821.51,
          143177.08,
          120373.28,
          118864.67,
          143185.4,
          103266.03,
          82784.54,
          125251.5,
          120891.48,
          111870.54,
          167515.47,
          125809.19,
          106818.31,
          102089.64,
          128539.74,
          111256.6,
          90972.76,
          115194.89,
          107050.82,
          108608.55,
          128825.65,
          97948.23
         ]
        }
       ],
       "layout": {
        "barmode": "overlay",
        "legend": {
         "title": {
          "text": "Legenda"
         }
        },
        "template": {
         "data": {
          "bar": [
           {
            "error_x": {
             "color": "#2a3f5f"
            },
            "error_y": {
             "color": "#2a3f5f"
            },
            "marker": {
             "line": {
              "color": "#E5ECF6",
              "width": 0.5
             },
             "pattern": {
              "fillmode": "overlay",
              "size": 10,
              "solidity": 0.2
             }
            },
            "type": "bar"
           }
          ],
          "barpolar": [
           {
            "marker": {
             "line": {
              "color": "#E5ECF6",
              "width": 0.5
             },
             "pattern": {
              "fillmode": "overlay",
              "size": 10,
              "solidity": 0.2
             }
            },
            "type": "barpolar"
           }
          ],
          "carpet": [
           {
            "aaxis": {
             "endlinecolor": "#2a3f5f",
             "gridcolor": "white",
             "linecolor": "white",
             "minorgridcolor": "white",
             "startlinecolor": "#2a3f5f"
            },
            "baxis": {
             "endlinecolor": "#2a3f5f",
             "gridcolor": "white",
             "linecolor": "white",
             "minorgridcolor": "white",
             "startlinecolor": "#2a3f5f"
            },
            "type": "carpet"
           }
          ],
          "choropleth": [
           {
            "colorbar": {
             "outlinewidth": 0,
             "ticks": ""
            },
            "type": "choropleth"
           }
          ],
          "contour": [
           {
            "colorbar": {
             "outlinewidth": 0,
             "ticks": ""
            },
            "colorscale": [
             [
              0,
              "#0d0887"
             ],
             [
              0.1111111111111111,
              "#46039f"
             ],
             [
              0.2222222222222222,
              "#7201a8"
             ],
             [
              0.3333333333333333,
              "#9c179e"
             ],
             [
              0.4444444444444444,
              "#bd3786"
             ],
             [
              0.5555555555555556,
              "#d8576b"
             ],
             [
              0.6666666666666666,
              "#ed7953"
             ],
             [
              0.7777777777777778,
              "#fb9f3a"
             ],
             [
              0.8888888888888888,
              "#fdca26"
             ],
             [
              1,
              "#f0f921"
             ]
            ],
            "type": "contour"
           }
          ],
          "contourcarpet": [
           {
            "colorbar": {
             "outlinewidth": 0,
             "ticks": ""
            },
            "type": "contourcarpet"
           }
          ],
          "heatmap": [
           {
            "colorbar": {
             "outlinewidth": 0,
             "ticks": ""
            },
            "colorscale": [
             [
              0,
              "#0d0887"
             ],
             [
              0.1111111111111111,
              "#46039f"
             ],
             [
              0.2222222222222222,
              "#7201a8"
             ],
             [
              0.3333333333333333,
              "#9c179e"
             ],
             [
              0.4444444444444444,
              "#bd3786"
             ],
             [
              0.5555555555555556,
              "#d8576b"
             ],
             [
              0.6666666666666666,
              "#ed7953"
             ],
             [
              0.7777777777777778,
              "#fb9f3a"
             ],
             [
              0.8888888888888888,
              "#fdca26"
             ],
             [
              1,
              "#f0f921"
             ]
            ],
            "type": "heatmap"
           }
          ],
          "heatmapgl": [
           {
            "colorbar": {
             "outlinewidth": 0,
             "ticks": ""
            },
            "colorscale": [
             [
              0,
              "#0d0887"
             ],
             [
              0.1111111111111111,
              "#46039f"
             ],
             [
              0.2222222222222222,
              "#7201a8"
             ],
             [
              0.3333333333333333,
              "#9c179e"
             ],
             [
              0.4444444444444444,
              "#bd3786"
             ],
             [
              0.5555555555555556,
              "#d8576b"
             ],
             [
              0.6666666666666666,
              "#ed7953"
             ],
             [
              0.7777777777777778,
              "#fb9f3a"
             ],
             [
              0.8888888888888888,
              "#fdca26"
             ],
             [
              1,
              "#f0f921"
             ]
            ],
            "type": "heatmapgl"
           }
          ],
          "histogram": [
           {
            "marker": {
             "pattern": {
              "fillmode": "overlay",
              "size": 10,
              "solidity": 0.2
             }
            },
            "type": "histogram"
           }
          ],
          "histogram2d": [
           {
            "colorbar": {
             "outlinewidth": 0,
             "ticks": ""
            },
            "colorscale": [
             [
              0,
              "#0d0887"
             ],
             [
              0.1111111111111111,
              "#46039f"
             ],
             [
              0.2222222222222222,
              "#7201a8"
             ],
             [
              0.3333333333333333,
              "#9c179e"
             ],
             [
              0.4444444444444444,
              "#bd3786"
             ],
             [
              0.5555555555555556,
              "#d8576b"
             ],
             [
              0.6666666666666666,
              "#ed7953"
             ],
             [
              0.7777777777777778,
              "#fb9f3a"
             ],
             [
              0.8888888888888888,
              "#fdca26"
             ],
             [
              1,
              "#f0f921"
             ]
            ],
            "type": "histogram2d"
           }
          ],
          "histogram2dcontour": [
           {
            "colorbar": {
             "outlinewidth": 0,
             "ticks": ""
            },
            "colorscale": [
             [
              0,
              "#0d0887"
             ],
             [
              0.1111111111111111,
              "#46039f"
             ],
             [
              0.2222222222222222,
              "#7201a8"
             ],
             [
              0.3333333333333333,
              "#9c179e"
             ],
             [
              0.4444444444444444,
              "#bd3786"
             ],
             [
              0.5555555555555556,
              "#d8576b"
             ],
             [
              0.6666666666666666,
              "#ed7953"
             ],
             [
              0.7777777777777778,
              "#fb9f3a"
             ],
             [
              0.8888888888888888,
              "#fdca26"
             ],
             [
              1,
              "#f0f921"
             ]
            ],
            "type": "histogram2dcontour"
           }
          ],
          "mesh3d": [
           {
            "colorbar": {
             "outlinewidth": 0,
             "ticks": ""
            },
            "type": "mesh3d"
           }
          ],
          "parcoords": [
           {
            "line": {
             "colorbar": {
              "outlinewidth": 0,
              "ticks": ""
             }
            },
            "type": "parcoords"
           }
          ],
          "pie": [
           {
            "automargin": true,
            "type": "pie"
           }
          ],
          "scatter": [
           {
            "fillpattern": {
             "fillmode": "overlay",
             "size": 10,
             "solidity": 0.2
            },
            "type": "scatter"
           }
          ],
          "scatter3d": [
           {
            "line": {
             "colorbar": {
              "outlinewidth": 0,
              "ticks": ""
             }
            },
            "marker": {
             "colorbar": {
              "outlinewidth": 0,
              "ticks": ""
             }
            },
            "type": "scatter3d"
           }
          ],
          "scattercarpet": [
           {
            "marker": {
             "colorbar": {
              "outlinewidth": 0,
              "ticks": ""
             }
            },
            "type": "scattercarpet"
           }
          ],
          "scattergeo": [
           {
            "marker": {
             "colorbar": {
              "outlinewidth": 0,
              "ticks": ""
             }
            },
            "type": "scattergeo"
           }
          ],
          "scattergl": [
           {
            "marker": {
             "colorbar": {
              "outlinewidth": 0,
              "ticks": ""
             }
            },
            "type": "scattergl"
           }
          ],
          "scattermapbox": [
           {
            "marker": {
             "colorbar": {
              "outlinewidth": 0,
              "ticks": ""
             }
            },
            "type": "scattermapbox"
           }
          ],
          "scatterpolar": [
           {
            "marker": {
             "colorbar": {
              "outlinewidth": 0,
              "ticks": ""
             }
            },
            "type": "scatterpolar"
           }
          ],
          "scatterpolargl": [
           {
            "marker": {
             "colorbar": {
              "outlinewidth": 0,
              "ticks": ""
             }
            },
            "type": "scatterpolargl"
           }
          ],
          "scatterternary": [
           {
            "marker": {
             "colorbar": {
              "outlinewidth": 0,
              "ticks": ""
             }
            },
            "type": "scatterternary"
           }
          ],
          "surface": [
           {
            "colorbar": {
             "outlinewidth": 0,
             "ticks": ""
            },
            "colorscale": [
             [
              0,
              "#0d0887"
             ],
             [
              0.1111111111111111,
              "#46039f"
             ],
             [
              0.2222222222222222,
              "#7201a8"
             ],
             [
              0.3333333333333333,
              "#9c179e"
             ],
             [
              0.4444444444444444,
              "#bd3786"
             ],
             [
              0.5555555555555556,
              "#d8576b"
             ],
             [
              0.6666666666666666,
              "#ed7953"
             ],
             [
              0.7777777777777778,
              "#fb9f3a"
             ],
             [
              0.8888888888888888,
              "#fdca26"
             ],
             [
              1,
              "#f0f921"
             ]
            ],
            "type": "surface"
           }
          ],
          "table": [
           {
            "cells": {
             "fill": {
              "color": "#EBF0F8"
             },
             "line": {
              "color": "white"
             }
            },
            "header": {
             "fill": {
              "color": "#C8D4E3"
             },
             "line": {
              "color": "white"
             }
            },
            "type": "table"
           }
          ]
         },
         "layout": {
          "annotationdefaults": {
           "arrowcolor": "#2a3f5f",
           "arrowhead": 0,
           "arrowwidth": 1
          },
          "autotypenumbers": "strict",
          "coloraxis": {
           "colorbar": {
            "outlinewidth": 0,
            "ticks": ""
           }
          },
          "colorscale": {
           "diverging": [
            [
             0,
             "#8e0152"
            ],
            [
             0.1,
             "#c51b7d"
            ],
            [
             0.2,
             "#de77ae"
            ],
            [
             0.3,
             "#f1b6da"
            ],
            [
             0.4,
             "#fde0ef"
            ],
            [
             0.5,
             "#f7f7f7"
            ],
            [
             0.6,
             "#e6f5d0"
            ],
            [
             0.7,
             "#b8e186"
            ],
            [
             0.8,
             "#7fbc41"
            ],
            [
             0.9,
             "#4d9221"
            ],
            [
             1,
             "#276419"
            ]
           ],
           "sequential": [
            [
             0,
             "#0d0887"
            ],
            [
             0.1111111111111111,
             "#46039f"
            ],
            [
             0.2222222222222222,
             "#7201a8"
            ],
            [
             0.3333333333333333,
             "#9c179e"
            ],
            [
             0.4444444444444444,
             "#bd3786"
            ],
            [
             0.5555555555555556,
             "#d8576b"
            ],
            [
             0.6666666666666666,
             "#ed7953"
            ],
            [
             0.7777777777777778,
             "#fb9f3a"
            ],
            [
             0.8888888888888888,
             "#fdca26"
            ],
            [
             1,
             "#f0f921"
            ]
           ],
           "sequentialminus": [
            [
             0,
             "#0d0887"
            ],
            [
             0.1111111111111111,
             "#46039f"
            ],
            [
             0.2222222222222222,
             "#7201a8"
            ],
            [
             0.3333333333333333,
             "#9c179e"
            ],
            [
             0.4444444444444444,
             "#bd3786"
            ],
            [
             0.5555555555555556,
             "#d8576b"
            ],
            [
             0.6666666666666666,
             "#ed7953"
            ],
            [
             0.7777777777777778,
             "#fb9f3a"
            ],
            [
             0.8888888888888888,
             "#fdca26"
            ],
            [
             1,
             "#f0f921"
            ]
           ]
          },
          "colorway": [
           "#636efa",
           "#EF553B",
           "#00cc96",
           "#ab63fa",
           "#FFA15A",
           "#19d3f3",
           "#FF6692",
           "#B6E880",
           "#FF97FF",
           "#FECB52"
          ],
          "font": {
           "color": "#2a3f5f"
          },
          "geo": {
           "bgcolor": "white",
           "lakecolor": "white",
           "landcolor": "#E5ECF6",
           "showlakes": true,
           "showland": true,
           "subunitcolor": "white"
          },
          "hoverlabel": {
           "align": "left"
          },
          "hovermode": "closest",
          "mapbox": {
           "style": "light"
          },
          "paper_bgcolor": "white",
          "plot_bgcolor": "#E5ECF6",
          "polar": {
           "angularaxis": {
            "gridcolor": "white",
            "linecolor": "white",
            "ticks": ""
           },
           "bgcolor": "#E5ECF6",
           "radialaxis": {
            "gridcolor": "white",
            "linecolor": "white",
            "ticks": ""
           }
          },
          "scene": {
           "xaxis": {
            "backgroundcolor": "#E5ECF6",
            "gridcolor": "white",
            "gridwidth": 2,
            "linecolor": "white",
            "showbackground": true,
            "ticks": "",
            "zerolinecolor": "white"
           },
           "yaxis": {
            "backgroundcolor": "#E5ECF6",
            "gridcolor": "white",
            "gridwidth": 2,
            "linecolor": "white",
            "showbackground": true,
            "ticks": "",
            "zerolinecolor": "white"
           },
           "zaxis": {
            "backgroundcolor": "#E5ECF6",
            "gridcolor": "white",
            "gridwidth": 2,
            "linecolor": "white",
            "showbackground": true,
            "ticks": "",
            "zerolinecolor": "white"
           }
          },
          "shapedefaults": {
           "line": {
            "color": "#2a3f5f"
           }
          },
          "ternary": {
           "aaxis": {
            "gridcolor": "white",
            "linecolor": "white",
            "ticks": ""
           },
           "baxis": {
            "gridcolor": "white",
            "linecolor": "white",
            "ticks": ""
           },
           "bgcolor": "#E5ECF6",
           "caxis": {
            "gridcolor": "white",
            "linecolor": "white",
            "ticks": ""
           }
          },
          "title": {
           "x": 0.05
          },
          "xaxis": {
           "automargin": true,
           "gridcolor": "white",
           "linecolor": "white",
           "ticks": "",
           "title": {
            "standoff": 15
           },
           "zerolinecolor": "white",
           "zerolinewidth": 2
          },
          "yaxis": {
           "automargin": true,
           "gridcolor": "white",
           "linecolor": "white",
           "ticks": "",
           "title": {
            "standoff": 15
           },
           "zerolinecolor": "white",
           "zerolinewidth": 2
          }
         }
        },
        "title": {
         "text": "Renda_Anual"
        },
        "xaxis": {
         "title": {
          "text": "Valores"
         }
        },
        "yaxis": {
         "title": {
          "text": "Frequência"
         }
        },
        "yaxis2": {
         "overlaying": "y",
         "side": "right",
         "title": {
          "text": "Percentual (%)"
         }
        }
       }
      }
     },
     "metadata": {},
     "output_type": "display_data"
    }
   ],
   "source": [
    "# Criando os dados do histograma\n",
    "fig = go.Figure()\n",
    "espacos = 15\n",
    "estudo = df['Renda_Anual']\n",
    "titulo =  'Renda_Anual'\n",
    "\n",
    "# Valores absolutos\n",
    "fig.add_trace(\n",
    "    go.Histogram(\n",
    "        x = estudo,\n",
    "        nbinsx = espacos,\n",
    "        name = 'Frequência',  # Nome da legenda\n",
    "        opacity = 0.7,\n",
    "        marker = dict(color='blue')\n",
    "    )\n",
    ")\n",
    "\n",
    "# Valores percentuais\n",
    "\n",
    "\n",
    "# Configurando eixos e layout\n",
    "fig.update_layout(\n",
    "    barmode='overlay',  # Sobrepõe os gráficos\n",
    "    title= titulo,\n",
    "    xaxis_title='Valores',\n",
    "    yaxis_title='Frequência',\n",
    "    yaxis2=dict(\n",
    "        title='Percentual (%)',\n",
    "        overlaying='y',  # Sobrepõe o eixo Y principal\n",
    "        side='right',  # Coloca o eixo à direita\n",
    "    ),\n",
    "    legend=dict(title='Legenda'),\n",
    ")\n",
    "\n",
    "fig.show()"
   ]
  },
  {
   "cell_type": "code",
   "execution_count": 17,
   "metadata": {},
   "outputs": [
    {
     "data": {
      "application/vnd.plotly.v1+json": {
       "config": {
        "plotlyServerURL": "https://plot.ly"
       },
       "data": [
        {
         "mode": "markers",
         "type": "scatter",
         "x": [
          92358.95,
          121339.5,
          116959.07,
          97471.28,
          102701.04,
          89977.3,
          100684.34,
          123201.45,
          84615.33,
          105852.7,
          91537.83,
          151801.48,
          114181.18,
          121716.46,
          101817.43,
          92204.96,
          79953.93,
          121006.21,
          109426.85,
          112148.35,
          115364.5,
          91249.22,
          114381.01,
          110143,
          129922.5,
          161478.87,
          140057.47,
          138163.65,
          110180.52,
          129737.57,
          113699.34,
          105333.32,
          109597.78,
          110129.42,
          159932.45,
          86144.96,
          123254.99,
          96949.29,
          106340.39,
          109961.58,
          115561.36,
          86162.08,
          131155.5,
          123108.34,
          143649.79,
          130896.52,
          91380.88,
          117326.41,
          143767.76,
          84718.35,
          99008.34,
          89470.42,
          88493.62,
          90530.47,
          101917.49,
          84281.58,
          114308.1,
          122562.07,
          106434.02,
          128896.36,
          131547.37,
          115207.74,
          103780.6,
          135117.72,
          119421.23,
          135755.94,
          109792.13,
          100274.15,
          127052.1,
          112129.3,
          121022.79,
          111190.3,
          122894.43,
          137039.56,
          135267.29,
          119119.88,
          140047.2,
          90859.54,
          133760.73,
          134818.37,
          98694.23,
          140058.52,
          111089.76,
          113408.7,
          106940.5,
          100960.62,
          103954.26,
          114632.87,
          147176.54,
          121315.51,
          119623.55,
          110574.51,
          124661.64,
          88081.05,
          119618.16,
          103972.32,
          92126.34,
          103855.95,
          128751.58,
          123271.74,
          126785.76,
          102114.48,
          106900.49,
          117702.62,
          159488.6,
          130736.01,
          129996.22,
          132426.27,
          100231.73,
          136635.24,
          123339.21,
          112943.67,
          105383.66,
          106075.76,
          115635.54,
          85499.61,
          118534.94,
          100769.81,
          115903.3,
          114825.13,
          110115.57,
          104335.62,
          124241.59,
          110940.18,
          143177.08,
          143185.4,
          167515.47,
          125809.19,
          102089.64,
          128539.74,
          111256.6,
          107050.82
         ],
         "y": [
          23212.58,
          30496.26,
          29395.33,
          24497.46,
          25811.86,
          22614,
          25305,
          30964.23,
          21266.37,
          26603.96,
          23006.21,
          38152.27,
          28697.16,
          30591,
          25589.78,
          23173.88,
          20094.82,
          30412.5,
          27502.26,
          28186.25,
          28994.56,
          22933.67,
          28747.38,
          27682.25,
          32653.43,
          40584.49,
          35200.65,
          34724.68,
          27691.67,
          32606.95,
          28576.06,
          26473.43,
          27545.21,
          27678.83,
          40195.83,
          21650.82,
          30977.68,
          24366.27,
          26726.53,
          27636.65,
          29044.04,
          21655.12,
          32963.32,
          30940.82,
          36103.51,
          32898.23,
          22966.76,
          29487.65,
          36133.16,
          21292.27,
          24883.77,
          22486.6,
          22241.11,
          22753.03,
          25614.93,
          21182.49,
          28729.06,
          30803.53,
          26750.07,
          32395.53,
          33061.81,
          28955.17,
          26083.18,
          33959.14,
          30014.14,
          34119.55,
          27594.06,
          25201.91,
          31932.01,
          28181.46,
          30416.66,
          27945.46,
          30887.06,
          34442.16,
          33996.73,
          29938.4,
          35198.07,
          22835.73,
          33618.09,
          33883.91,
          24804.83,
          35200.91,
          27920.19,
          28503.01,
          26877.36,
          25374.44,
          26126.83,
          28810.68,
          36989.89,
          30490.23,
          30064.99,
          27790.7,
          31331.22,
          22137.41,
          30063.64,
          26131.37,
          23154.12,
          26102.12,
          32359.14,
          30981.89,
          31865.07,
          25664.44,
          26867.3,
          29582.2,
          40084.28,
          32857.89,
          32671.96,
          33282.7,
          25191.25,
          34340.54,
          30998.85,
          28386.14,
          26486.08,
          26660.03,
          29062.69,
          21488.62,
          29791.39,
          25326.48,
          29129.98,
          28859,
          27675.35,
          26222.68,
          31225.64,
          27882.6,
          35984.7,
          35986.79,
          42101.67,
          31619.63,
          25658.19,
          32305.9,
          27962.13,
          26905.09
         ]
        }
       ],
       "layout": {
        "template": {
         "data": {
          "bar": [
           {
            "error_x": {
             "color": "#2a3f5f"
            },
            "error_y": {
             "color": "#2a3f5f"
            },
            "marker": {
             "line": {
              "color": "#E5ECF6",
              "width": 0.5
             },
             "pattern": {
              "fillmode": "overlay",
              "size": 10,
              "solidity": 0.2
             }
            },
            "type": "bar"
           }
          ],
          "barpolar": [
           {
            "marker": {
             "line": {
              "color": "#E5ECF6",
              "width": 0.5
             },
             "pattern": {
              "fillmode": "overlay",
              "size": 10,
              "solidity": 0.2
             }
            },
            "type": "barpolar"
           }
          ],
          "carpet": [
           {
            "aaxis": {
             "endlinecolor": "#2a3f5f",
             "gridcolor": "white",
             "linecolor": "white",
             "minorgridcolor": "white",
             "startlinecolor": "#2a3f5f"
            },
            "baxis": {
             "endlinecolor": "#2a3f5f",
             "gridcolor": "white",
             "linecolor": "white",
             "minorgridcolor": "white",
             "startlinecolor": "#2a3f5f"
            },
            "type": "carpet"
           }
          ],
          "choropleth": [
           {
            "colorbar": {
             "outlinewidth": 0,
             "ticks": ""
            },
            "type": "choropleth"
           }
          ],
          "contour": [
           {
            "colorbar": {
             "outlinewidth": 0,
             "ticks": ""
            },
            "colorscale": [
             [
              0,
              "#0d0887"
             ],
             [
              0.1111111111111111,
              "#46039f"
             ],
             [
              0.2222222222222222,
              "#7201a8"
             ],
             [
              0.3333333333333333,
              "#9c179e"
             ],
             [
              0.4444444444444444,
              "#bd3786"
             ],
             [
              0.5555555555555556,
              "#d8576b"
             ],
             [
              0.6666666666666666,
              "#ed7953"
             ],
             [
              0.7777777777777778,
              "#fb9f3a"
             ],
             [
              0.8888888888888888,
              "#fdca26"
             ],
             [
              1,
              "#f0f921"
             ]
            ],
            "type": "contour"
           }
          ],
          "contourcarpet": [
           {
            "colorbar": {
             "outlinewidth": 0,
             "ticks": ""
            },
            "type": "contourcarpet"
           }
          ],
          "heatmap": [
           {
            "colorbar": {
             "outlinewidth": 0,
             "ticks": ""
            },
            "colorscale": [
             [
              0,
              "#0d0887"
             ],
             [
              0.1111111111111111,
              "#46039f"
             ],
             [
              0.2222222222222222,
              "#7201a8"
             ],
             [
              0.3333333333333333,
              "#9c179e"
             ],
             [
              0.4444444444444444,
              "#bd3786"
             ],
             [
              0.5555555555555556,
              "#d8576b"
             ],
             [
              0.6666666666666666,
              "#ed7953"
             ],
             [
              0.7777777777777778,
              "#fb9f3a"
             ],
             [
              0.8888888888888888,
              "#fdca26"
             ],
             [
              1,
              "#f0f921"
             ]
            ],
            "type": "heatmap"
           }
          ],
          "heatmapgl": [
           {
            "colorbar": {
             "outlinewidth": 0,
             "ticks": ""
            },
            "colorscale": [
             [
              0,
              "#0d0887"
             ],
             [
              0.1111111111111111,
              "#46039f"
             ],
             [
              0.2222222222222222,
              "#7201a8"
             ],
             [
              0.3333333333333333,
              "#9c179e"
             ],
             [
              0.4444444444444444,
              "#bd3786"
             ],
             [
              0.5555555555555556,
              "#d8576b"
             ],
             [
              0.6666666666666666,
              "#ed7953"
             ],
             [
              0.7777777777777778,
              "#fb9f3a"
             ],
             [
              0.8888888888888888,
              "#fdca26"
             ],
             [
              1,
              "#f0f921"
             ]
            ],
            "type": "heatmapgl"
           }
          ],
          "histogram": [
           {
            "marker": {
             "pattern": {
              "fillmode": "overlay",
              "size": 10,
              "solidity": 0.2
             }
            },
            "type": "histogram"
           }
          ],
          "histogram2d": [
           {
            "colorbar": {
             "outlinewidth": 0,
             "ticks": ""
            },
            "colorscale": [
             [
              0,
              "#0d0887"
             ],
             [
              0.1111111111111111,
              "#46039f"
             ],
             [
              0.2222222222222222,
              "#7201a8"
             ],
             [
              0.3333333333333333,
              "#9c179e"
             ],
             [
              0.4444444444444444,
              "#bd3786"
             ],
             [
              0.5555555555555556,
              "#d8576b"
             ],
             [
              0.6666666666666666,
              "#ed7953"
             ],
             [
              0.7777777777777778,
              "#fb9f3a"
             ],
             [
              0.8888888888888888,
              "#fdca26"
             ],
             [
              1,
              "#f0f921"
             ]
            ],
            "type": "histogram2d"
           }
          ],
          "histogram2dcontour": [
           {
            "colorbar": {
             "outlinewidth": 0,
             "ticks": ""
            },
            "colorscale": [
             [
              0,
              "#0d0887"
             ],
             [
              0.1111111111111111,
              "#46039f"
             ],
             [
              0.2222222222222222,
              "#7201a8"
             ],
             [
              0.3333333333333333,
              "#9c179e"
             ],
             [
              0.4444444444444444,
              "#bd3786"
             ],
             [
              0.5555555555555556,
              "#d8576b"
             ],
             [
              0.6666666666666666,
              "#ed7953"
             ],
             [
              0.7777777777777778,
              "#fb9f3a"
             ],
             [
              0.8888888888888888,
              "#fdca26"
             ],
             [
              1,
              "#f0f921"
             ]
            ],
            "type": "histogram2dcontour"
           }
          ],
          "mesh3d": [
           {
            "colorbar": {
             "outlinewidth": 0,
             "ticks": ""
            },
            "type": "mesh3d"
           }
          ],
          "parcoords": [
           {
            "line": {
             "colorbar": {
              "outlinewidth": 0,
              "ticks": ""
             }
            },
            "type": "parcoords"
           }
          ],
          "pie": [
           {
            "automargin": true,
            "type": "pie"
           }
          ],
          "scatter": [
           {
            "fillpattern": {
             "fillmode": "overlay",
             "size": 10,
             "solidity": 0.2
            },
            "type": "scatter"
           }
          ],
          "scatter3d": [
           {
            "line": {
             "colorbar": {
              "outlinewidth": 0,
              "ticks": ""
             }
            },
            "marker": {
             "colorbar": {
              "outlinewidth": 0,
              "ticks": ""
             }
            },
            "type": "scatter3d"
           }
          ],
          "scattercarpet": [
           {
            "marker": {
             "colorbar": {
              "outlinewidth": 0,
              "ticks": ""
             }
            },
            "type": "scattercarpet"
           }
          ],
          "scattergeo": [
           {
            "marker": {
             "colorbar": {
              "outlinewidth": 0,
              "ticks": ""
             }
            },
            "type": "scattergeo"
           }
          ],
          "scattergl": [
           {
            "marker": {
             "colorbar": {
              "outlinewidth": 0,
              "ticks": ""
             }
            },
            "type": "scattergl"
           }
          ],
          "scattermapbox": [
           {
            "marker": {
             "colorbar": {
              "outlinewidth": 0,
              "ticks": ""
             }
            },
            "type": "scattermapbox"
           }
          ],
          "scatterpolar": [
           {
            "marker": {
             "colorbar": {
              "outlinewidth": 0,
              "ticks": ""
             }
            },
            "type": "scatterpolar"
           }
          ],
          "scatterpolargl": [
           {
            "marker": {
             "colorbar": {
              "outlinewidth": 0,
              "ticks": ""
             }
            },
            "type": "scatterpolargl"
           }
          ],
          "scatterternary": [
           {
            "marker": {
             "colorbar": {
              "outlinewidth": 0,
              "ticks": ""
             }
            },
            "type": "scatterternary"
           }
          ],
          "surface": [
           {
            "colorbar": {
             "outlinewidth": 0,
             "ticks": ""
            },
            "colorscale": [
             [
              0,
              "#0d0887"
             ],
             [
              0.1111111111111111,
              "#46039f"
             ],
             [
              0.2222222222222222,
              "#7201a8"
             ],
             [
              0.3333333333333333,
              "#9c179e"
             ],
             [
              0.4444444444444444,
              "#bd3786"
             ],
             [
              0.5555555555555556,
              "#d8576b"
             ],
             [
              0.6666666666666666,
              "#ed7953"
             ],
             [
              0.7777777777777778,
              "#fb9f3a"
             ],
             [
              0.8888888888888888,
              "#fdca26"
             ],
             [
              1,
              "#f0f921"
             ]
            ],
            "type": "surface"
           }
          ],
          "table": [
           {
            "cells": {
             "fill": {
              "color": "#EBF0F8"
             },
             "line": {
              "color": "white"
             }
            },
            "header": {
             "fill": {
              "color": "#C8D4E3"
             },
             "line": {
              "color": "white"
             }
            },
            "type": "table"
           }
          ]
         },
         "layout": {
          "annotationdefaults": {
           "arrowcolor": "#2a3f5f",
           "arrowhead": 0,
           "arrowwidth": 1
          },
          "autotypenumbers": "strict",
          "coloraxis": {
           "colorbar": {
            "outlinewidth": 0,
            "ticks": ""
           }
          },
          "colorscale": {
           "diverging": [
            [
             0,
             "#8e0152"
            ],
            [
             0.1,
             "#c51b7d"
            ],
            [
             0.2,
             "#de77ae"
            ],
            [
             0.3,
             "#f1b6da"
            ],
            [
             0.4,
             "#fde0ef"
            ],
            [
             0.5,
             "#f7f7f7"
            ],
            [
             0.6,
             "#e6f5d0"
            ],
            [
             0.7,
             "#b8e186"
            ],
            [
             0.8,
             "#7fbc41"
            ],
            [
             0.9,
             "#4d9221"
            ],
            [
             1,
             "#276419"
            ]
           ],
           "sequential": [
            [
             0,
             "#0d0887"
            ],
            [
             0.1111111111111111,
             "#46039f"
            ],
            [
             0.2222222222222222,
             "#7201a8"
            ],
            [
             0.3333333333333333,
             "#9c179e"
            ],
            [
             0.4444444444444444,
             "#bd3786"
            ],
            [
             0.5555555555555556,
             "#d8576b"
            ],
            [
             0.6666666666666666,
             "#ed7953"
            ],
            [
             0.7777777777777778,
             "#fb9f3a"
            ],
            [
             0.8888888888888888,
             "#fdca26"
            ],
            [
             1,
             "#f0f921"
            ]
           ],
           "sequentialminus": [
            [
             0,
             "#0d0887"
            ],
            [
             0.1111111111111111,
             "#46039f"
            ],
            [
             0.2222222222222222,
             "#7201a8"
            ],
            [
             0.3333333333333333,
             "#9c179e"
            ],
            [
             0.4444444444444444,
             "#bd3786"
            ],
            [
             0.5555555555555556,
             "#d8576b"
            ],
            [
             0.6666666666666666,
             "#ed7953"
            ],
            [
             0.7777777777777778,
             "#fb9f3a"
            ],
            [
             0.8888888888888888,
             "#fdca26"
            ],
            [
             1,
             "#f0f921"
            ]
           ]
          },
          "colorway": [
           "#636efa",
           "#EF553B",
           "#00cc96",
           "#ab63fa",
           "#FFA15A",
           "#19d3f3",
           "#FF6692",
           "#B6E880",
           "#FF97FF",
           "#FECB52"
          ],
          "font": {
           "color": "#2a3f5f"
          },
          "geo": {
           "bgcolor": "white",
           "lakecolor": "white",
           "landcolor": "#E5ECF6",
           "showlakes": true,
           "showland": true,
           "subunitcolor": "white"
          },
          "hoverlabel": {
           "align": "left"
          },
          "hovermode": "closest",
          "mapbox": {
           "style": "light"
          },
          "paper_bgcolor": "white",
          "plot_bgcolor": "#E5ECF6",
          "polar": {
           "angularaxis": {
            "gridcolor": "white",
            "linecolor": "white",
            "ticks": ""
           },
           "bgcolor": "#E5ECF6",
           "radialaxis": {
            "gridcolor": "white",
            "linecolor": "white",
            "ticks": ""
           }
          },
          "scene": {
           "xaxis": {
            "backgroundcolor": "#E5ECF6",
            "gridcolor": "white",
            "gridwidth": 2,
            "linecolor": "white",
            "showbackground": true,
            "ticks": "",
            "zerolinecolor": "white"
           },
           "yaxis": {
            "backgroundcolor": "#E5ECF6",
            "gridcolor": "white",
            "gridwidth": 2,
            "linecolor": "white",
            "showbackground": true,
            "ticks": "",
            "zerolinecolor": "white"
           },
           "zaxis": {
            "backgroundcolor": "#E5ECF6",
            "gridcolor": "white",
            "gridwidth": 2,
            "linecolor": "white",
            "showbackground": true,
            "ticks": "",
            "zerolinecolor": "white"
           }
          },
          "shapedefaults": {
           "line": {
            "color": "#2a3f5f"
           }
          },
          "ternary": {
           "aaxis": {
            "gridcolor": "white",
            "linecolor": "white",
            "ticks": ""
           },
           "baxis": {
            "gridcolor": "white",
            "linecolor": "white",
            "ticks": ""
           },
           "bgcolor": "#E5ECF6",
           "caxis": {
            "gridcolor": "white",
            "linecolor": "white",
            "ticks": ""
           }
          },
          "title": {
           "x": 0.05
          },
          "xaxis": {
           "automargin": true,
           "gridcolor": "white",
           "linecolor": "white",
           "ticks": "",
           "title": {
            "standoff": 15
           },
           "zerolinecolor": "white",
           "zerolinewidth": 2
          },
          "yaxis": {
           "automargin": true,
           "gridcolor": "white",
           "linecolor": "white",
           "ticks": "",
           "title": {
            "standoff": 15
           },
           "zerolinecolor": "white",
           "zerolinewidth": 2
          }
         }
        },
        "title": {
         "text": "Val_Emprestimo V.S Renda_Anual"
        },
        "xaxis": {
         "title": {
          "text": "Renda Anual"
         }
        },
        "yaxis": {
         "title": {
          "text": "Valor Emprestimo"
         }
        }
       }
      }
     },
     "metadata": {},
     "output_type": "display_data"
    }
   ],
   "source": [
    "# Gráfico de Dispersão (Relação entre A renda anual e o valor do empréstimo dos clientes que tiveram o seu empréstimo aprovado)\n",
    "\n",
    "df1 = df[df['Aprovado'] == True]\n",
    "\n",
    "x = df1['Renda_Anual']\n",
    "y = df1['Val_Emprestimo']\n",
    "\n",
    "# Criando o gráfico de dispersão\n",
    "fig = go.Figure(data=go.Scatter(x=x, y=y, mode='markers'))\n",
    "\n",
    "# Personalizando o gráfico\n",
    "fig.update_layout(\n",
    "    title=\"Val_Emprestimo V.S Renda_Anual\",\n",
    "    xaxis_title=\"Renda Anual\",\n",
    "    yaxis_title=\"Valor Emprestimo\"\n",
    ")\n"
   ]
  },
  {
   "cell_type": "code",
   "execution_count": 18,
   "metadata": {},
   "outputs": [
    {
     "data": {
      "application/vnd.plotly.v1+json": {
       "config": {
        "plotlyServerURL": "https://plot.ly"
       },
       "data": [
        {
         "mode": "markers",
         "type": "scatter",
         "x": [
          36,
          53,
          45,
          49,
          34,
          41,
          33,
          59,
          44,
          29,
          32,
          50,
          37,
          48,
          48,
          53,
          35,
          39,
          44,
          37,
          40,
          36,
          51,
          41,
          41,
          34,
          33,
          45,
          53,
          54,
          44,
          48,
          30,
          56,
          34,
          42,
          47,
          37,
          55,
          44,
          43,
          47,
          40,
          59,
          53,
          58,
          41,
          30,
          60,
          41,
          43,
          45,
          41,
          50,
          51,
          39,
          28,
          37,
          60,
          47,
          40,
          30,
          47,
          49,
          43,
          43,
          44,
          57,
          51,
          55,
          39,
          57,
          47,
          46,
          48,
          47,
          35,
          46,
          54,
          51,
          35,
          41,
          43,
          41,
          45,
          47,
          38,
          40,
          37,
          36,
          46,
          43,
          46,
          45,
          53,
          57,
          47,
          49,
          59,
          48,
          46,
          43,
          44,
          41,
          47,
          50,
          44,
          50,
          41,
          35,
          54,
          53,
          37,
          45,
          48,
          46,
          58,
          46,
          40,
          40,
          51,
          60,
          55,
          34,
          39,
          57,
          44,
          51,
          37,
          51,
          44,
          41
         ],
         "y": [
          23212.58,
          30496.26,
          29395.33,
          24497.46,
          25811.86,
          22614,
          25305,
          30964.23,
          21266.37,
          26603.96,
          23006.21,
          38152.27,
          28697.16,
          30591,
          25589.78,
          23173.88,
          20094.82,
          30412.5,
          27502.26,
          28186.25,
          28994.56,
          22933.67,
          28747.38,
          27682.25,
          32653.43,
          40584.49,
          35200.65,
          34724.68,
          27691.67,
          32606.95,
          28576.06,
          26473.43,
          27545.21,
          27678.83,
          40195.83,
          21650.82,
          30977.68,
          24366.27,
          26726.53,
          27636.65,
          29044.04,
          21655.12,
          32963.32,
          30940.82,
          36103.51,
          32898.23,
          22966.76,
          29487.65,
          36133.16,
          21292.27,
          24883.77,
          22486.6,
          22241.11,
          22753.03,
          25614.93,
          21182.49,
          28729.06,
          30803.53,
          26750.07,
          32395.53,
          33061.81,
          28955.17,
          26083.18,
          33959.14,
          30014.14,
          34119.55,
          27594.06,
          25201.91,
          31932.01,
          28181.46,
          30416.66,
          27945.46,
          30887.06,
          34442.16,
          33996.73,
          29938.4,
          35198.07,
          22835.73,
          33618.09,
          33883.91,
          24804.83,
          35200.91,
          27920.19,
          28503.01,
          26877.36,
          25374.44,
          26126.83,
          28810.68,
          36989.89,
          30490.23,
          30064.99,
          27790.7,
          31331.22,
          22137.41,
          30063.64,
          26131.37,
          23154.12,
          26102.12,
          32359.14,
          30981.89,
          31865.07,
          25664.44,
          26867.3,
          29582.2,
          40084.28,
          32857.89,
          32671.96,
          33282.7,
          25191.25,
          34340.54,
          30998.85,
          28386.14,
          26486.08,
          26660.03,
          29062.69,
          21488.62,
          29791.39,
          25326.48,
          29129.98,
          28859,
          27675.35,
          26222.68,
          31225.64,
          27882.6,
          35984.7,
          35986.79,
          42101.67,
          31619.63,
          25658.19,
          32305.9,
          27962.13,
          26905.09
         ]
        }
       ],
       "layout": {
        "template": {
         "data": {
          "bar": [
           {
            "error_x": {
             "color": "#2a3f5f"
            },
            "error_y": {
             "color": "#2a3f5f"
            },
            "marker": {
             "line": {
              "color": "#E5ECF6",
              "width": 0.5
             },
             "pattern": {
              "fillmode": "overlay",
              "size": 10,
              "solidity": 0.2
             }
            },
            "type": "bar"
           }
          ],
          "barpolar": [
           {
            "marker": {
             "line": {
              "color": "#E5ECF6",
              "width": 0.5
             },
             "pattern": {
              "fillmode": "overlay",
              "size": 10,
              "solidity": 0.2
             }
            },
            "type": "barpolar"
           }
          ],
          "carpet": [
           {
            "aaxis": {
             "endlinecolor": "#2a3f5f",
             "gridcolor": "white",
             "linecolor": "white",
             "minorgridcolor": "white",
             "startlinecolor": "#2a3f5f"
            },
            "baxis": {
             "endlinecolor": "#2a3f5f",
             "gridcolor": "white",
             "linecolor": "white",
             "minorgridcolor": "white",
             "startlinecolor": "#2a3f5f"
            },
            "type": "carpet"
           }
          ],
          "choropleth": [
           {
            "colorbar": {
             "outlinewidth": 0,
             "ticks": ""
            },
            "type": "choropleth"
           }
          ],
          "contour": [
           {
            "colorbar": {
             "outlinewidth": 0,
             "ticks": ""
            },
            "colorscale": [
             [
              0,
              "#0d0887"
             ],
             [
              0.1111111111111111,
              "#46039f"
             ],
             [
              0.2222222222222222,
              "#7201a8"
             ],
             [
              0.3333333333333333,
              "#9c179e"
             ],
             [
              0.4444444444444444,
              "#bd3786"
             ],
             [
              0.5555555555555556,
              "#d8576b"
             ],
             [
              0.6666666666666666,
              "#ed7953"
             ],
             [
              0.7777777777777778,
              "#fb9f3a"
             ],
             [
              0.8888888888888888,
              "#fdca26"
             ],
             [
              1,
              "#f0f921"
             ]
            ],
            "type": "contour"
           }
          ],
          "contourcarpet": [
           {
            "colorbar": {
             "outlinewidth": 0,
             "ticks": ""
            },
            "type": "contourcarpet"
           }
          ],
          "heatmap": [
           {
            "colorbar": {
             "outlinewidth": 0,
             "ticks": ""
            },
            "colorscale": [
             [
              0,
              "#0d0887"
             ],
             [
              0.1111111111111111,
              "#46039f"
             ],
             [
              0.2222222222222222,
              "#7201a8"
             ],
             [
              0.3333333333333333,
              "#9c179e"
             ],
             [
              0.4444444444444444,
              "#bd3786"
             ],
             [
              0.5555555555555556,
              "#d8576b"
             ],
             [
              0.6666666666666666,
              "#ed7953"
             ],
             [
              0.7777777777777778,
              "#fb9f3a"
             ],
             [
              0.8888888888888888,
              "#fdca26"
             ],
             [
              1,
              "#f0f921"
             ]
            ],
            "type": "heatmap"
           }
          ],
          "heatmapgl": [
           {
            "colorbar": {
             "outlinewidth": 0,
             "ticks": ""
            },
            "colorscale": [
             [
              0,
              "#0d0887"
             ],
             [
              0.1111111111111111,
              "#46039f"
             ],
             [
              0.2222222222222222,
              "#7201a8"
             ],
             [
              0.3333333333333333,
              "#9c179e"
             ],
             [
              0.4444444444444444,
              "#bd3786"
             ],
             [
              0.5555555555555556,
              "#d8576b"
             ],
             [
              0.6666666666666666,
              "#ed7953"
             ],
             [
              0.7777777777777778,
              "#fb9f3a"
             ],
             [
              0.8888888888888888,
              "#fdca26"
             ],
             [
              1,
              "#f0f921"
             ]
            ],
            "type": "heatmapgl"
           }
          ],
          "histogram": [
           {
            "marker": {
             "pattern": {
              "fillmode": "overlay",
              "size": 10,
              "solidity": 0.2
             }
            },
            "type": "histogram"
           }
          ],
          "histogram2d": [
           {
            "colorbar": {
             "outlinewidth": 0,
             "ticks": ""
            },
            "colorscale": [
             [
              0,
              "#0d0887"
             ],
             [
              0.1111111111111111,
              "#46039f"
             ],
             [
              0.2222222222222222,
              "#7201a8"
             ],
             [
              0.3333333333333333,
              "#9c179e"
             ],
             [
              0.4444444444444444,
              "#bd3786"
             ],
             [
              0.5555555555555556,
              "#d8576b"
             ],
             [
              0.6666666666666666,
              "#ed7953"
             ],
             [
              0.7777777777777778,
              "#fb9f3a"
             ],
             [
              0.8888888888888888,
              "#fdca26"
             ],
             [
              1,
              "#f0f921"
             ]
            ],
            "type": "histogram2d"
           }
          ],
          "histogram2dcontour": [
           {
            "colorbar": {
             "outlinewidth": 0,
             "ticks": ""
            },
            "colorscale": [
             [
              0,
              "#0d0887"
             ],
             [
              0.1111111111111111,
              "#46039f"
             ],
             [
              0.2222222222222222,
              "#7201a8"
             ],
             [
              0.3333333333333333,
              "#9c179e"
             ],
             [
              0.4444444444444444,
              "#bd3786"
             ],
             [
              0.5555555555555556,
              "#d8576b"
             ],
             [
              0.6666666666666666,
              "#ed7953"
             ],
             [
              0.7777777777777778,
              "#fb9f3a"
             ],
             [
              0.8888888888888888,
              "#fdca26"
             ],
             [
              1,
              "#f0f921"
             ]
            ],
            "type": "histogram2dcontour"
           }
          ],
          "mesh3d": [
           {
            "colorbar": {
             "outlinewidth": 0,
             "ticks": ""
            },
            "type": "mesh3d"
           }
          ],
          "parcoords": [
           {
            "line": {
             "colorbar": {
              "outlinewidth": 0,
              "ticks": ""
             }
            },
            "type": "parcoords"
           }
          ],
          "pie": [
           {
            "automargin": true,
            "type": "pie"
           }
          ],
          "scatter": [
           {
            "fillpattern": {
             "fillmode": "overlay",
             "size": 10,
             "solidity": 0.2
            },
            "type": "scatter"
           }
          ],
          "scatter3d": [
           {
            "line": {
             "colorbar": {
              "outlinewidth": 0,
              "ticks": ""
             }
            },
            "marker": {
             "colorbar": {
              "outlinewidth": 0,
              "ticks": ""
             }
            },
            "type": "scatter3d"
           }
          ],
          "scattercarpet": [
           {
            "marker": {
             "colorbar": {
              "outlinewidth": 0,
              "ticks": ""
             }
            },
            "type": "scattercarpet"
           }
          ],
          "scattergeo": [
           {
            "marker": {
             "colorbar": {
              "outlinewidth": 0,
              "ticks": ""
             }
            },
            "type": "scattergeo"
           }
          ],
          "scattergl": [
           {
            "marker": {
             "colorbar": {
              "outlinewidth": 0,
              "ticks": ""
             }
            },
            "type": "scattergl"
           }
          ],
          "scattermapbox": [
           {
            "marker": {
             "colorbar": {
              "outlinewidth": 0,
              "ticks": ""
             }
            },
            "type": "scattermapbox"
           }
          ],
          "scatterpolar": [
           {
            "marker": {
             "colorbar": {
              "outlinewidth": 0,
              "ticks": ""
             }
            },
            "type": "scatterpolar"
           }
          ],
          "scatterpolargl": [
           {
            "marker": {
             "colorbar": {
              "outlinewidth": 0,
              "ticks": ""
             }
            },
            "type": "scatterpolargl"
           }
          ],
          "scatterternary": [
           {
            "marker": {
             "colorbar": {
              "outlinewidth": 0,
              "ticks": ""
             }
            },
            "type": "scatterternary"
           }
          ],
          "surface": [
           {
            "colorbar": {
             "outlinewidth": 0,
             "ticks": ""
            },
            "colorscale": [
             [
              0,
              "#0d0887"
             ],
             [
              0.1111111111111111,
              "#46039f"
             ],
             [
              0.2222222222222222,
              "#7201a8"
             ],
             [
              0.3333333333333333,
              "#9c179e"
             ],
             [
              0.4444444444444444,
              "#bd3786"
             ],
             [
              0.5555555555555556,
              "#d8576b"
             ],
             [
              0.6666666666666666,
              "#ed7953"
             ],
             [
              0.7777777777777778,
              "#fb9f3a"
             ],
             [
              0.8888888888888888,
              "#fdca26"
             ],
             [
              1,
              "#f0f921"
             ]
            ],
            "type": "surface"
           }
          ],
          "table": [
           {
            "cells": {
             "fill": {
              "color": "#EBF0F8"
             },
             "line": {
              "color": "white"
             }
            },
            "header": {
             "fill": {
              "color": "#C8D4E3"
             },
             "line": {
              "color": "white"
             }
            },
            "type": "table"
           }
          ]
         },
         "layout": {
          "annotationdefaults": {
           "arrowcolor": "#2a3f5f",
           "arrowhead": 0,
           "arrowwidth": 1
          },
          "autotypenumbers": "strict",
          "coloraxis": {
           "colorbar": {
            "outlinewidth": 0,
            "ticks": ""
           }
          },
          "colorscale": {
           "diverging": [
            [
             0,
             "#8e0152"
            ],
            [
             0.1,
             "#c51b7d"
            ],
            [
             0.2,
             "#de77ae"
            ],
            [
             0.3,
             "#f1b6da"
            ],
            [
             0.4,
             "#fde0ef"
            ],
            [
             0.5,
             "#f7f7f7"
            ],
            [
             0.6,
             "#e6f5d0"
            ],
            [
             0.7,
             "#b8e186"
            ],
            [
             0.8,
             "#7fbc41"
            ],
            [
             0.9,
             "#4d9221"
            ],
            [
             1,
             "#276419"
            ]
           ],
           "sequential": [
            [
             0,
             "#0d0887"
            ],
            [
             0.1111111111111111,
             "#46039f"
            ],
            [
             0.2222222222222222,
             "#7201a8"
            ],
            [
             0.3333333333333333,
             "#9c179e"
            ],
            [
             0.4444444444444444,
             "#bd3786"
            ],
            [
             0.5555555555555556,
             "#d8576b"
            ],
            [
             0.6666666666666666,
             "#ed7953"
            ],
            [
             0.7777777777777778,
             "#fb9f3a"
            ],
            [
             0.8888888888888888,
             "#fdca26"
            ],
            [
             1,
             "#f0f921"
            ]
           ],
           "sequentialminus": [
            [
             0,
             "#0d0887"
            ],
            [
             0.1111111111111111,
             "#46039f"
            ],
            [
             0.2222222222222222,
             "#7201a8"
            ],
            [
             0.3333333333333333,
             "#9c179e"
            ],
            [
             0.4444444444444444,
             "#bd3786"
            ],
            [
             0.5555555555555556,
             "#d8576b"
            ],
            [
             0.6666666666666666,
             "#ed7953"
            ],
            [
             0.7777777777777778,
             "#fb9f3a"
            ],
            [
             0.8888888888888888,
             "#fdca26"
            ],
            [
             1,
             "#f0f921"
            ]
           ]
          },
          "colorway": [
           "#636efa",
           "#EF553B",
           "#00cc96",
           "#ab63fa",
           "#FFA15A",
           "#19d3f3",
           "#FF6692",
           "#B6E880",
           "#FF97FF",
           "#FECB52"
          ],
          "font": {
           "color": "#2a3f5f"
          },
          "geo": {
           "bgcolor": "white",
           "lakecolor": "white",
           "landcolor": "#E5ECF6",
           "showlakes": true,
           "showland": true,
           "subunitcolor": "white"
          },
          "hoverlabel": {
           "align": "left"
          },
          "hovermode": "closest",
          "mapbox": {
           "style": "light"
          },
          "paper_bgcolor": "white",
          "plot_bgcolor": "#E5ECF6",
          "polar": {
           "angularaxis": {
            "gridcolor": "white",
            "linecolor": "white",
            "ticks": ""
           },
           "bgcolor": "#E5ECF6",
           "radialaxis": {
            "gridcolor": "white",
            "linecolor": "white",
            "ticks": ""
           }
          },
          "scene": {
           "xaxis": {
            "backgroundcolor": "#E5ECF6",
            "gridcolor": "white",
            "gridwidth": 2,
            "linecolor": "white",
            "showbackground": true,
            "ticks": "",
            "zerolinecolor": "white"
           },
           "yaxis": {
            "backgroundcolor": "#E5ECF6",
            "gridcolor": "white",
            "gridwidth": 2,
            "linecolor": "white",
            "showbackground": true,
            "ticks": "",
            "zerolinecolor": "white"
           },
           "zaxis": {
            "backgroundcolor": "#E5ECF6",
            "gridcolor": "white",
            "gridwidth": 2,
            "linecolor": "white",
            "showbackground": true,
            "ticks": "",
            "zerolinecolor": "white"
           }
          },
          "shapedefaults": {
           "line": {
            "color": "#2a3f5f"
           }
          },
          "ternary": {
           "aaxis": {
            "gridcolor": "white",
            "linecolor": "white",
            "ticks": ""
           },
           "baxis": {
            "gridcolor": "white",
            "linecolor": "white",
            "ticks": ""
           },
           "bgcolor": "#E5ECF6",
           "caxis": {
            "gridcolor": "white",
            "linecolor": "white",
            "ticks": ""
           }
          },
          "title": {
           "x": 0.05
          },
          "xaxis": {
           "automargin": true,
           "gridcolor": "white",
           "linecolor": "white",
           "ticks": "",
           "title": {
            "standoff": 15
           },
           "zerolinecolor": "white",
           "zerolinewidth": 2
          },
          "yaxis": {
           "automargin": true,
           "gridcolor": "white",
           "linecolor": "white",
           "ticks": "",
           "title": {
            "standoff": 15
           },
           "zerolinecolor": "white",
           "zerolinewidth": 2
          }
         }
        },
        "title": {
         "text": "Idade V.S Val_Emprestimo"
        },
        "xaxis": {
         "title": {
          "text": "Idade"
         }
        },
        "yaxis": {
         "title": {
          "text": "Renda Anual"
         }
        }
       }
      }
     },
     "metadata": {},
     "output_type": "display_data"
    }
   ],
   "source": [
    "# Gráfico de Dispersão (Relação entre A renda anual e a idade dos clientes que tiveram o seu empréstimo aprovado)\n",
    "\n",
    "df1 = df[df['Aprovado'] == True]\n",
    "\n",
    "x = df1['Idade']\n",
    "y = df1['Val_Emprestimo']\n",
    "\n",
    "# Criando o gráfico de dispersão\n",
    "fig = go.Figure(data=go.Scatter(x=x, y=y, mode='markers'))\n",
    "\n",
    "# Personalizando o gráfico\n",
    "fig.update_layout(\n",
    "    title=\"Idade V.S Val_Emprestimo\",\n",
    "    xaxis_title=\"Idade\",\n",
    "    yaxis_title=\"Renda Anual\"\n",
    ")"
   ]
  },
  {
   "cell_type": "markdown",
   "metadata": {},
   "source": [
    "# Análise de Crédito para Aprovação de Empréstimos\n",
    "\n",
    "## Principais Insights\n",
    "\n",
    "### 1. Relação entre Renda Anual e Aprovação de Empréstimo\n",
    "- Clientes com renda anual mais alta tendem a ter maior probabilidade de aprovação.\n",
    "- Empréstimos que representam uma porcentagem menor da renda anual têm maior chance de aprovação.\n",
    "\n",
    "### 2. Impacto do Histórico de Inadimplência\n",
    "- Clientes com histórico de inadimplência têm menor probabilidade de aprovação.\n",
    "- O número de inadimplências passadas é um fator crítico na decisão de crédito.\n",
    "\n",
    "### 3. Idade dos Clientes\n",
    "- Clientes entre 40 e 50 anos são os que mais solicitam empréstimos.\n",
    "- Clientes mais jovens (30-40 anos) podem solicitar valores mais altos, possivelmente para financiar grandes despesas.\n",
    "\n",
    "### 4. Valor do Empréstimo Solicitado\n",
    "- Empréstimos com valores mais altos tendem a ter pré-requisitos mais rigorosos.\n",
    "- Valores que representam uma porcentagem alta da renda anual têm menor chance de aprovação.\n",
    "\n",
    "### 5. Distribuição de Solicitações\n",
    "- A maioria das solicitações está concentrada em faixas de renda específicas (ex.: 60k).\n",
    "- Clientes com renda mais baixa tendem a solicitar empréstimos que representam uma porcentagem maior de sua renda.\n",
    "\n",
    "### 6. Frequência de Solicitações\n",
    "- Há um pico de solicitações em faixas de renda específicas, indicando maior demanda por crédito.\n",
    "\n",
    "---\n",
    "\n",
    "## Ações Propostas\n",
    "\n",
    "### 1. Ajuste nas Políticas de Crédito\n",
    "- Estabelecer critérios de aprovação mais flexíveis para clientes com renda mais alta e histórico de crédito positivo.\n",
    "- Limitar o valor do empréstimo em relação à renda anual para reduzir o risco de inadimplência.\n",
    "\n",
    "### 2. Segmentação de Clientes\n",
    "- Criar segmentos de clientes com base em idade, renda e histórico de crédito.\n",
    "- Focar em campanhas de marketing para faixas etárias e de renda com maior demanda.\n",
    "\n",
    "### 3. Análise de Risco\n",
    "- Implementar modelos de análise de risco que considerem o histórico de inadimplência.\n",
    "- Aumentar a rigidez na aprovação de empréstimos para clientes com múltiplas inadimplências.\n",
    "\n",
    "### 4. Educação Financeira\n",
    "- Oferecer programas de educação financeira para clientes mais jovens.\n",
    "- Orientar clientes sobre como melhorar sua pontuação de crédito.\n",
    "\n",
    "### 5. Monitoramento Contínuo\n",
    "- Acompanhar tendências de solicitação de empréstimos por faixa etária e renda.\n",
    "- Utilizar dados históricos para prever demandas futuras.\n",
    "\n",
    "### 6. Melhoria na Coleta de Dados\n",
    "- Garantir que todos os dados relevantes sejam coletados de forma precisa e completa.\n",
    "- Implementar sistemas de análise de dados em tempo real.\n",
    "\n",
    "### 7. Produtos de Crédito Personalizados\n",
    "- Desenvolver produtos de crédito específicos para diferentes faixas etárias e de renda.\n",
    "- Oferecer opções de empréstimo com prazos e valores ajustados às necessidades de cada segmento.\n",
    "\n",
    "---\n",
    "\n",
    "## Conclusão\n",
    "\n",
    "A análise dos dados relacionados à aprovação de empréstimos revelou insights valiosos que podem orientar a instituição financeira na tomada de decisões mais estratégicas. A relação entre variáveis como **renda anual**, **idade**, **histórico de inadimplência** e **valor do empréstimo** mostrou-se fundamental para entender o perfil dos clientes e os fatores que influenciam a aprovação ou reprovação de crédito.\n",
    "\n",
    "A segmentação dos clientes por faixa etária e renda, aliada à análise do histórico de crédito, permitirá à instituição oferecer produtos de crédito mais personalizados e adequados às necessidades de cada grupo. Além disso, a implementação de políticas de crédito mais flexíveis para clientes de baixo risco e a adoção de critérios mais rigorosos para aqueles com histórico de inadimplência ajudarão a reduzir os riscos de inadimplência e a aumentar a rentabilidade dos empréstimos concedidos.\n",
    "\n",
    "As ações propostas, como o **monitoramento contínuo dos dados** e a **melhoria na coleta de informações**, são essenciais para garantir que a instituição financeira esteja sempre um passo à frente, adaptando-se às mudanças no comportamento dos clientes e no mercado.\n",
    "\n",
    "Por fim, a utilização de modelos preditivos mais precisos e a segmentação de clientes não apenas otimizarão o processo de aprovação de empréstimos, mas também fortalecerão a relação com os clientes, oferecendo soluções de crédito que realmente atendam às suas necessidades. Com essas estratégias, a instituição financeira estará melhor posicionada para maximizar sua eficiência operacional, reduzir riscos e aumentar a satisfação dos clientes."
   ]
  }
 ],
 "metadata": {
  "kernelspec": {
   "display_name": "base",
   "language": "python",
   "name": "python3"
  },
  "language_info": {
   "codemirror_mode": {
    "name": "ipython",
    "version": 3
   },
   "file_extension": ".py",
   "mimetype": "text/x-python",
   "name": "python",
   "nbconvert_exporter": "python",
   "pygments_lexer": "ipython3",
   "version": "3.12.7"
  }
 },
 "nbformat": 4,
 "nbformat_minor": 2
}
